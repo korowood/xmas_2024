{
 "cells": [
  {
   "cell_type": "code",
   "execution_count": 1,
   "id": "c78c3cf6-ff9e-410d-9256-a99552fbc1f6",
   "metadata": {},
   "outputs": [],
   "source": [
    "from graphviz import Digraph"
   ]
  },
  {
   "cell_type": "code",
   "execution_count": 8,
   "id": "84de97c4-a634-4786-b956-ad6ddfe1221e",
   "metadata": {},
   "outputs": [
    {
     "data": {
      "text/plain": [
       "'transaction_provider_flow.png'"
      ]
     },
     "execution_count": 8,
     "metadata": {},
     "output_type": "execute_result"
    }
   ],
   "source": [
    "# Создаем объект графа\n",
    "dot = Digraph(format='png')\n",
    "\n",
    "# Настройки графа\n",
    "dot.attr(rankdir='LR', nodesep='0.5', ranksep='0.8', splines='true', dpi='100')\n",
    "dot.attr('node', shape='box', style='rounded,filled', fillcolor='lightblue', fontname='Arial', fontsize='10')\n",
    "dot.attr('edge', arrowhead='vee', arrowsize='0.8', fontname='Arial', fontsize='8')\n",
    "\n",
    "# Узлы\n",
    "dot.node('start', 'Начало транзакции')\n",
    "dot.node('filter', 'Фильтр провайдеров:\\n- Доступность\\n- Лимиты')\n",
    "dot.node('profit', 'Расчет прибыли (платеж - комиссия)')\n",
    "dot.node('end', 'Выбор провайдера')\n",
    "\n",
    "# Ребра\n",
    "dot.edge('start', 'filter', label='Передача данных платежа')\n",
    "dot.edge('filter', 'profit', label='Если провайдеры подходят')\n",
    "dot.edge('profit', 'end', label='Если есть прибыль')\n",
    "# dot.edge('filter', 'end', label='Если нет подходящих')\n",
    "dot.edge('filter', 'end', label='Если нет подходящих\\nВозвращает None', style='dashed', color='red')\n",
    "\n",
    "# Генерация схемы\n",
    "dot.render('transaction_provider_flow', view=True)"
   ]
  },
  {
   "cell_type": "code",
   "execution_count": 10,
   "id": "241a6320-9780-4f9c-adcb-2b907dff63e3",
   "metadata": {},
   "outputs": [
    {
     "data": {
      "text/plain": [
       "'transaction_provider_flow2.png'"
      ]
     },
     "execution_count": 10,
     "metadata": {},
     "output_type": "execute_result"
    }
   ],
   "source": [
    "# Создаем объект графа\n",
    "from graphviz import Digraph\n",
    "\n",
    "dot = Digraph(format='png')\n",
    "\n",
    "# Настройки графа\n",
    "dot.attr(rankdir='TB', nodesep='0.5', ranksep='0.8', splines='true', dpi='100')\n",
    "dot.attr('node', shape='box', style='rounded,filled', fillcolor='lightblue', fontname='Arial', fontsize='10')\n",
    "dot.attr('edge', arrowhead='vee', arrowsize='0.8', fontname='Arial', fontsize='8')\n",
    "\n",
    "# Узлы\n",
    "dot.node('start', 'Начало транзакции')\n",
    "\n",
    "# Фильтры\n",
    "dot.node('reset', 'Сброс дневных лимитов\\n(если начался новый день)')\n",
    "dot.node('time_filter', 'Фильтр по времени\\n(актуальность провайдера)')\n",
    "dot.node('date_filter', 'Фильтр по дате\\n(соответствие дню транзакции)')\n",
    "dot.node('last_record', 'Выбор последней записи\\nпо времени для провайдера')\n",
    "dot.node('currency_filter', 'Фильтр по валюте\\n(совпадение с транзакцией)')\n",
    "dot.node('limit_filter', 'Фильтр по лимитам:\\n- Максимальный дневной лимит\\n- MIN_SUM <= платеж <= MAX_SUM')\n",
    "\n",
    "# Вычисление прибыли и выбор провайдера\n",
    "dot.node('profit', 'Расчет прибыли\\n(платеж - комиссия)')\n",
    "dot.node('end', 'Выбор провайдера')\n",
    "\n",
    "# Возврат None, если нет подходящих\n",
    "dot.node('none', 'Если нет подходящих\\nВозвращает None', style='dashed', color='red', fontcolor='red')\n",
    "\n",
    "# Ребра\n",
    "dot.edge('start', 'reset', label='Передача данных платежа')\n",
    "dot.edge('reset', 'time_filter', label='Проверка времени актуальности')\n",
    "dot.edge('time_filter', 'date_filter', label='Соответствие дню транзакции')\n",
    "dot.edge('date_filter', 'last_record', label='Группировка по ID')\n",
    "dot.edge('last_record', 'currency_filter', label='Проверка валюты')\n",
    "dot.edge('currency_filter', 'limit_filter', label='Проверка лимитов')\n",
    "\n",
    "dot.edge('limit_filter', 'profit', label='Если провайдеры подходят')\n",
    "dot.edge('profit', 'end', label='Если есть прибыль')\n",
    "dot.edge('limit_filter', 'none', label='Если нет подходящих', style='dashed', color='red')\n",
    "\n",
    "# Генерация схемы\n",
    "dot.render('transaction_provider_flow2', view=True)\n"
   ]
  },
  {
   "cell_type": "code",
   "execution_count": null,
   "id": "8af7a5ac-464e-4bc8-beda-b95480643a4f",
   "metadata": {},
   "outputs": [],
   "source": []
  }
 ],
 "metadata": {
  "kernelspec": {
   "display_name": "Python 3 (ipykernel)",
   "language": "python",
   "name": "python3"
  },
  "language_info": {
   "codemirror_mode": {
    "name": "ipython",
    "version": 3
   },
   "file_extension": ".py",
   "mimetype": "text/x-python",
   "name": "python",
   "nbconvert_exporter": "python",
   "pygments_lexer": "ipython3",
   "version": "3.8.19"
  }
 },
 "nbformat": 4,
 "nbformat_minor": 5
}
