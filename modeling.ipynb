{
 "cells": [
  {
   "cell_type": "code",
   "execution_count": null,
   "id": "5bed890a-cca5-4cae-a23d-579e256e784e",
   "metadata": {},
   "outputs": [],
   "source": []
  },
  {
   "cell_type": "code",
   "execution_count": 1,
   "id": "8bcf4e6c-ad80-45cf-989c-b0655813043f",
   "metadata": {},
   "outputs": [],
   "source": [
    "import pandas as pd\n",
    "import os\n",
    "from sklearn.model_selection import train_test_split\n",
    "from sklearn.preprocessing import LabelEncoder\n",
    "import lightgbm as lgb\n",
    "from sklearn.metrics import mean_squared_error\n",
    "import catboost\n",
    "from catboost import CatBoostRanker, Pool\n",
    "import matplotlib.pyplot as plt\n",
    "import numpy as np\n",
    "import plotly.graph_objects as go"
   ]
  },
  {
   "cell_type": "code",
   "execution_count": null,
   "id": "938a90ba-d7ce-4565-838b-7197da27bbb7",
   "metadata": {},
   "outputs": [],
   "source": []
  },
  {
   "cell_type": "code",
   "execution_count": null,
   "id": "56373f6d-9af2-4beb-8627-a3314319b9c7",
   "metadata": {},
   "outputs": [],
   "source": []
  },
  {
   "cell_type": "code",
   "execution_count": 2,
   "id": "b24e09b0-1138-4ec7-8d62-c0f8f8ff6184",
   "metadata": {},
   "outputs": [],
   "source": [
    "# Загрузка данных\n",
    "payments_1 = pd.read_csv('data/payments_1.csv').sort_values(\"eventTimeRes\")#[:50000]\n",
    "payments_1['eventTimeRes'] = pd.to_datetime(payments_1['eventTimeRes'])\n",
    "\n",
    "providers_1 = pd.read_csv('data/providers_1.csv')\n",
    "providers_1['COMMISSION'] = pd.to_numeric(providers_1['COMMISSION'], errors='coerce')\n",
    "providers_1['LIMIT_BY_CARD'] = pd.to_numeric(providers_1['LIMIT_BY_CARD'], errors='coerce')\n",
    "\n",
    "\n",
    "\n",
    "providers_1['BUSY_UNTIL'] = pd.Timestamp.min\n",
    "providers_1['DAILY_TOTAL'] = 0.0  # Сумма обработанных платежей в текущий день\n",
    "providers_1['LAST_DATE'] = pd.Timestamp.min  # Последний день обработки платежей\n",
    "\n",
    "# Преобразуем колонки с временными метками в datetime\n",
    "providers_1['TIME'] = pd.to_datetime(providers_1['TIME'])\n"
   ]
  },
  {
   "cell_type": "code",
   "execution_count": 3,
   "id": "efdef155-adbe-46b3-a94c-fb3b840c941f",
   "metadata": {},
   "outputs": [],
   "source": [
    "payments_2 = pd.read_csv('data/payments_2.csv').sort_values(\"eventTimeRes\")\n",
    "payments_2['eventTimeRes'] = pd.to_datetime(payments_2['eventTimeRes'])\n",
    "\n",
    "providers_2 = pd.read_csv('data/providers_2.csv')\n",
    "providers_2['COMMISSION'] = pd.to_numeric(providers_2['COMMISSION'], errors='coerce')\n",
    "providers_2['LIMIT_BY_CARD'] = pd.to_numeric(providers_2['LIMIT_BY_CARD'], errors='coerce')\n",
    "\n",
    "\n",
    "providers_2['BUSY_UNTIL'] = pd.Timestamp.min\n",
    "providers_2['DAILY_TOTAL'] = 0.0  # Сумма обработанных платежей в текущий день\n",
    "providers_2['LAST_DATE'] = pd.Timestamp.min  # Последний день обработки платежей\n",
    "\n",
    "# Преобразуем колонки с временными метками в datetime\n",
    "providers_2['TIME'] = pd.to_datetime(providers_2['TIME'])"
   ]
  },
  {
   "cell_type": "code",
   "execution_count": 4,
   "id": "2be5bd93-7bf3-40c1-ae82-58868d8c6b7a",
   "metadata": {},
   "outputs": [],
   "source": [
    "def reset_daily_totals(providers_df, payment_date):\n",
    "    \"\"\"Сбрасывает лимиты провайдеров в начале нового дня.\"\"\"\n",
    "    providers_df.loc[providers_df['LAST_DATE'] < payment_date, ['DAILY_TOTAL', 'LAST_DATE']] = [0.0, payment_date]"
   ]
  },
  {
   "cell_type": "code",
   "execution_count": null,
   "id": "ed476f3b-2584-4906-a5d1-0ee389b871f1",
   "metadata": {},
   "outputs": [],
   "source": []
  },
  {
   "cell_type": "code",
   "execution_count": null,
   "id": "12080dce-408d-4db3-b47a-e1682dd646d2",
   "metadata": {},
   "outputs": [],
   "source": []
  },
  {
   "cell_type": "code",
   "execution_count": 5,
   "id": "42898a57-27b8-4b67-82a2-25081ffa5c2a",
   "metadata": {},
   "outputs": [],
   "source": [
    "providers_1.drop(\"LIMIT_BY_CARD\", axis=1, inplace=True)\n",
    "providers_2.drop(\"LIMIT_BY_CARD\", axis=1, inplace=True)"
   ]
  },
  {
   "cell_type": "code",
   "execution_count": 6,
   "id": "b3170f22-7b40-4efa-b6e1-0fd2bff46e7f",
   "metadata": {},
   "outputs": [
    {
     "name": "stdout",
     "output_type": "stream",
     "text": [
      "CPU times: user 20min 22s, sys: 2.21 s, total: 20min 24s\n",
      "Wall time: 20min 24s\n"
     ]
    }
   ],
   "source": [
    "%%time\n",
    "\n",
    "def get_valid_providers_with_profits(payment_time, payment_amount, payment_currency, providers_df):\n",
    "    \"\"\"Возвращает список доступных провайдеров с расчетом прибыли, отсортированный по убыванию profit.\"\"\"\n",
    "    # Сбрасываем ежедневные лимиты, если начался новый день\n",
    "    reset_daily_totals(providers_df, payment_time.normalize())\n",
    "    \n",
    "    # Отбираем провайдеров, чье время актуальности <= времени платежа\n",
    "    valid_providers = providers_df[providers_df['TIME'] <= payment_time]\n",
    "\n",
    "    # Оставляем только записи с той же датой, что и транзакция\n",
    "    valid_providers = valid_providers[valid_providers['TIME'].dt.date == payment_time.date()]\n",
    "\n",
    "    # Для каждого провайдера оставляем только последнюю запись (по времени) после фильтрации\n",
    "    valid_providers = valid_providers.loc[valid_providers.groupby('ID')['TIME'].idxmax()]\n",
    "    \n",
    "    # Фильтрация по валюте\n",
    "    valid_providers = valid_providers[valid_providers['CURRENCY'] == payment_currency]\n",
    "\n",
    "    if valid_providers.empty:\n",
    "        return ['NO CURRENCY']\n",
    "    \n",
    "    # Исключаем провайдеров, которые заняты на момент платежа\n",
    "    # valid_providers = valid_providers[valid_providers['BUSY_UNTIL'] <= payment_time]\n",
    "    \n",
    "    # Исключаем провайдеров, которые превышают максимальный дневной лимит\n",
    "    valid_providers = valid_providers[valid_providers['DAILY_TOTAL'] + payment_amount <= valid_providers['LIMIT_MAX']]\n",
    "\n",
    "        # Дополнительная фильтрация по сумме платежа (минимум и максимум)\n",
    "    valid_providers = valid_providers[(valid_providers['MIN_SUM'] <= payment_amount) & \n",
    "                                      (valid_providers['MAX_SUM'] >= payment_amount)]\n",
    "    \n",
    "    if valid_providers.empty:\n",
    "        return [\"GOING BEYOND MIN_MAX\"]  # Если нет подходящих провайдеров, возвращаем пустой список\n",
    "    \n",
    "    # Рассчитываем profit для каждого провайдера\n",
    "    valid_providers = valid_providers.copy()  # Создаем копию для модификации\n",
    "    valid_providers['PROFIT'] = payment_amount - (payment_amount * valid_providers['COMMISSION'])\n",
    "    \n",
    "    # Сортируем провайдеров по убыванию прибыли\n",
    "    valid_providers = valid_providers.sort_values(by='PROFIT', ascending=False)\n",
    "        \n",
    "    # Обновляем DAILY_TOTAL, BUSY_UNTIL и LAST_DATE для выбранных провайдеров\n",
    "    for provider_id in valid_providers['ID']:\n",
    "        providers_df.loc[providers_df['ID'] == provider_id, 'DAILY_TOTAL'] += payment_amount\n",
    "        providers_df.loc[providers_df['ID'] == provider_id, 'BUSY_UNTIL'] = payment_time + pd.to_timedelta(valid_providers.loc[valid_providers['ID'] == provider_id, 'AVG_TIME'].values[0], unit='s')\n",
    "        providers_df.loc[providers_df['ID'] == provider_id, 'LAST_DATE'] = payment_time.normalize()\n",
    "    # Преобразуем в список словарей\n",
    "    return valid_providers.to_dict('records')\n",
    "\n",
    "def get_providers_with_profit_list(row, providers_df):\n",
    "    \"\"\"Возвращает список провайдеров с расчетом прибыли для конкретного платежа.\"\"\"\n",
    "    # Получаем список подходящих провайдеров с их прибыльностью\n",
    "    valid_providers_with_profits = get_valid_providers_with_profits(\n",
    "        row['eventTimeRes'], row['amount'], row['cur'], providers_df\n",
    "    )\n",
    "    \n",
    "    if not valid_providers_with_profits:\n",
    "        return pd.Series({\n",
    "            'payment': row['payment'],\n",
    "            'valid_providers': None,  # Список подходящих провайдеров пуст\n",
    "        })\n",
    "    \n",
    "    return pd.Series({\n",
    "        'payment': row['payment'],\n",
    "        'valid_providers': valid_providers_with_profits,  # Список подходящих провайдеров с расчетом прибыли\n",
    "    })\n",
    "\n",
    "# Применяем функцию к каждому платежу\n",
    "payments_with_providers_df = payments_1.drop('cardToken', axis=1)\\\n",
    "                                        .apply(lambda row: get_providers_with_profit_list(row, providers_1), axis=1)\n",
    "\n",
    "# Объединяем исходные данные с рассчитанными\n",
    "# final_df = pd.concat([payments_1, payments_with_providers_df], axis=1)\n"
   ]
  },
  {
   "cell_type": "code",
   "execution_count": 7,
   "id": "96eb089e-94f1-4889-8b53-8010efc82896",
   "metadata": {},
   "outputs": [
    {
     "name": "stdout",
     "output_type": "stream",
     "text": [
      "CPU times: user 20min 5s, sys: 2.23 s, total: 20min 7s\n",
      "Wall time: 20min 7s\n"
     ]
    }
   ],
   "source": [
    "%%time\n",
    "payments_with_providers_df_2 = payments_2.drop('cardToken', axis=1)\\\n",
    "                                        .apply(lambda row: get_providers_with_profit_list(row, providers_2), axis=1)"
   ]
  },
  {
   "cell_type": "code",
   "execution_count": 16,
   "id": "45a9f824-3ba6-426a-95c9-d23b3e2ea3b4",
   "metadata": {},
   "outputs": [
    {
     "data": {
      "text/html": [
       "<div>\n",
       "<style scoped>\n",
       "    .dataframe tbody tr th:only-of-type {\n",
       "        vertical-align: middle;\n",
       "    }\n",
       "\n",
       "    .dataframe tbody tr th {\n",
       "        vertical-align: top;\n",
       "    }\n",
       "\n",
       "    .dataframe thead th {\n",
       "        text-align: right;\n",
       "    }\n",
       "</style>\n",
       "<table border=\"1\" class=\"dataframe\">\n",
       "  <thead>\n",
       "    <tr style=\"text-align: right;\">\n",
       "      <th></th>\n",
       "      <th>payment</th>\n",
       "      <th>valid_providers</th>\n",
       "    </tr>\n",
       "  </thead>\n",
       "  <tbody>\n",
       "    <tr>\n",
       "      <th>193977</th>\n",
       "      <td>c77be33e8db2f5352ebbc0a1b3f10e3e</td>\n",
       "      <td>[{'TIME': 2024-11-24 21:00:00, 'ID': 2, 'CONVE...</td>\n",
       "    </tr>\n",
       "    <tr>\n",
       "      <th>193972</th>\n",
       "      <td>c9a03cbbe592f930d52416b049bc1d1a</td>\n",
       "      <td>[{'TIME': 2024-11-24 21:00:00, 'ID': 2, 'CONVE...</td>\n",
       "    </tr>\n",
       "  </tbody>\n",
       "</table>\n",
       "</div>"
      ],
      "text/plain": [
       "                                 payment  \\\n",
       "193977  c77be33e8db2f5352ebbc0a1b3f10e3e   \n",
       "193972  c9a03cbbe592f930d52416b049bc1d1a   \n",
       "\n",
       "                                          valid_providers  \n",
       "193977  [{'TIME': 2024-11-24 21:00:00, 'ID': 2, 'CONVE...  \n",
       "193972  [{'TIME': 2024-11-24 21:00:00, 'ID': 2, 'CONVE...  "
      ]
     },
     "execution_count": 16,
     "metadata": {},
     "output_type": "execute_result"
    }
   ],
   "source": [
    "payments_with_providers_df.head(2)"
   ]
  },
  {
   "cell_type": "code",
   "execution_count": 8,
   "id": "b72ccdbf-ee76-48fb-9c42-09ba94d784eb",
   "metadata": {},
   "outputs": [
    {
     "data": {
      "text/plain": [
       "(193978, 2)"
      ]
     },
     "execution_count": 8,
     "metadata": {},
     "output_type": "execute_result"
    }
   ],
   "source": [
    "payments_with_providers_df.shape"
   ]
  },
  {
   "cell_type": "code",
   "execution_count": 9,
   "id": "e1328fa0-fdbf-4da1-bfe9-16a0e5fe880f",
   "metadata": {},
   "outputs": [
    {
     "data": {
      "text/html": [
       "<div>\n",
       "<style scoped>\n",
       "    .dataframe tbody tr th:only-of-type {\n",
       "        vertical-align: middle;\n",
       "    }\n",
       "\n",
       "    .dataframe tbody tr th {\n",
       "        vertical-align: top;\n",
       "    }\n",
       "\n",
       "    .dataframe thead th {\n",
       "        text-align: right;\n",
       "    }\n",
       "</style>\n",
       "<table border=\"1\" class=\"dataframe\">\n",
       "  <thead>\n",
       "    <tr style=\"text-align: right;\">\n",
       "      <th></th>\n",
       "      <th>payment</th>\n",
       "      <th>TIME</th>\n",
       "      <th>ID</th>\n",
       "      <th>CONVERSION</th>\n",
       "      <th>AVG_TIME</th>\n",
       "      <th>MIN_SUM</th>\n",
       "      <th>MAX_SUM</th>\n",
       "      <th>LIMIT_MIN</th>\n",
       "      <th>LIMIT_MAX</th>\n",
       "      <th>COMMISSION</th>\n",
       "      <th>CURRENCY</th>\n",
       "      <th>BUSY_UNTIL</th>\n",
       "      <th>DAILY_TOTAL</th>\n",
       "      <th>LAST_DATE</th>\n",
       "      <th>PROFIT</th>\n",
       "      <th>rank</th>\n",
       "    </tr>\n",
       "  </thead>\n",
       "  <tbody>\n",
       "    <tr>\n",
       "      <th>0</th>\n",
       "      <td>c77be33e8db2f5352ebbc0a1b3f10e3e</td>\n",
       "      <td>2024-11-24 21:00:00</td>\n",
       "      <td>2.0</td>\n",
       "      <td>0.5</td>\n",
       "      <td>18.0</td>\n",
       "      <td>400.0</td>\n",
       "      <td>8500.0</td>\n",
       "      <td>51000.0</td>\n",
       "      <td>13400000.0</td>\n",
       "      <td>0.03</td>\n",
       "      <td>RUB</td>\n",
       "      <td>1677-09-21 00:12:43.145224193</td>\n",
       "      <td>0.0</td>\n",
       "      <td>2024-11-24</td>\n",
       "      <td>679.0</td>\n",
       "      <td>1</td>\n",
       "    </tr>\n",
       "    <tr>\n",
       "      <th>1</th>\n",
       "      <td>c77be33e8db2f5352ebbc0a1b3f10e3e</td>\n",
       "      <td>2024-11-24 21:00:00</td>\n",
       "      <td>5.0</td>\n",
       "      <td>0.6</td>\n",
       "      <td>14.0</td>\n",
       "      <td>600.0</td>\n",
       "      <td>4500.0</td>\n",
       "      <td>31000.0</td>\n",
       "      <td>28000000.0</td>\n",
       "      <td>0.03</td>\n",
       "      <td>RUB</td>\n",
       "      <td>1677-09-21 00:12:43.145224193</td>\n",
       "      <td>0.0</td>\n",
       "      <td>2024-11-24</td>\n",
       "      <td>679.0</td>\n",
       "      <td>2</td>\n",
       "    </tr>\n",
       "  </tbody>\n",
       "</table>\n",
       "</div>"
      ],
      "text/plain": [
       "                            payment                TIME   ID  CONVERSION  \\\n",
       "0  c77be33e8db2f5352ebbc0a1b3f10e3e 2024-11-24 21:00:00  2.0         0.5   \n",
       "1  c77be33e8db2f5352ebbc0a1b3f10e3e 2024-11-24 21:00:00  5.0         0.6   \n",
       "\n",
       "   AVG_TIME  MIN_SUM  MAX_SUM  LIMIT_MIN   LIMIT_MAX  COMMISSION CURRENCY  \\\n",
       "0      18.0    400.0   8500.0    51000.0  13400000.0        0.03      RUB   \n",
       "1      14.0    600.0   4500.0    31000.0  28000000.0        0.03      RUB   \n",
       "\n",
       "                     BUSY_UNTIL  DAILY_TOTAL  LAST_DATE  PROFIT  rank  \n",
       "0 1677-09-21 00:12:43.145224193          0.0 2024-11-24   679.0     1  \n",
       "1 1677-09-21 00:12:43.145224193          0.0 2024-11-24   679.0     2  "
      ]
     },
     "execution_count": 9,
     "metadata": {},
     "output_type": "execute_result"
    }
   ],
   "source": [
    "# Разворачиваем valid_providers с помощью explode\n",
    "exploded_df = payments_with_providers_df.explode('valid_providers', ignore_index=True)\n",
    "\n",
    "# Разворачиваем dict в отдельные колонки\n",
    "providers_expanded = pd.json_normalize(exploded_df['valid_providers'])\n",
    "final_exploded_df = pd.concat([exploded_df.drop(columns=['valid_providers']), providers_expanded], axis=1)\n",
    "\n",
    "final_exploded_df = final_exploded_df[~final_exploded_df['PROFIT'].isna()]\n",
    "\n",
    "final_exploded_df['rank']=final_exploded_df.groupby('payment')['PROFIT']\\\n",
    "    .rank(ascending=False, method='first')\\\n",
    "    .astype(int)\n",
    "\n",
    "final_exploded_df.head(2)"
   ]
  },
  {
   "cell_type": "code",
   "execution_count": 10,
   "id": "ee12f691-4230-4ba5-a311-2da0cf551ca3",
   "metadata": {},
   "outputs": [
    {
     "data": {
      "text/plain": [
       "(104330, 16)"
      ]
     },
     "execution_count": 10,
     "metadata": {},
     "output_type": "execute_result"
    }
   ],
   "source": [
    "final_exploded_df.shape"
   ]
  },
  {
   "cell_type": "code",
   "execution_count": 11,
   "id": "c7fb207c-85be-4918-8b36-a450c742a474",
   "metadata": {},
   "outputs": [
    {
     "data": {
      "text/html": [
       "<div>\n",
       "<style scoped>\n",
       "    .dataframe tbody tr th:only-of-type {\n",
       "        vertical-align: middle;\n",
       "    }\n",
       "\n",
       "    .dataframe tbody tr th {\n",
       "        vertical-align: top;\n",
       "    }\n",
       "\n",
       "    .dataframe thead th {\n",
       "        text-align: right;\n",
       "    }\n",
       "</style>\n",
       "<table border=\"1\" class=\"dataframe\">\n",
       "  <thead>\n",
       "    <tr style=\"text-align: right;\">\n",
       "      <th></th>\n",
       "      <th>payment</th>\n",
       "      <th>TIME</th>\n",
       "      <th>ID</th>\n",
       "      <th>CONVERSION</th>\n",
       "      <th>AVG_TIME</th>\n",
       "      <th>MIN_SUM</th>\n",
       "      <th>MAX_SUM</th>\n",
       "      <th>LIMIT_MIN</th>\n",
       "      <th>LIMIT_MAX</th>\n",
       "      <th>COMMISSION</th>\n",
       "      <th>CURRENCY</th>\n",
       "      <th>BUSY_UNTIL</th>\n",
       "      <th>DAILY_TOTAL</th>\n",
       "      <th>LAST_DATE</th>\n",
       "      <th>PROFIT</th>\n",
       "      <th>rank</th>\n",
       "    </tr>\n",
       "  </thead>\n",
       "  <tbody>\n",
       "    <tr>\n",
       "      <th>0</th>\n",
       "      <td>a12fb751e8dfe10f6d28449ba56bb7a1</td>\n",
       "      <td>2024-11-25 21:00:00</td>\n",
       "      <td>10.0</td>\n",
       "      <td>0.75</td>\n",
       "      <td>18.0</td>\n",
       "      <td>100.0</td>\n",
       "      <td>4500.0</td>\n",
       "      <td>81000.0</td>\n",
       "      <td>30700000.0</td>\n",
       "      <td>0.050</td>\n",
       "      <td>BRL</td>\n",
       "      <td>1677-09-21 00:12:43.145224193</td>\n",
       "      <td>0.0</td>\n",
       "      <td>2024-11-25</td>\n",
       "      <td>213.75</td>\n",
       "      <td>1</td>\n",
       "    </tr>\n",
       "    <tr>\n",
       "      <th>7</th>\n",
       "      <td>5833a5a2110db3d0ce72f847d5babeb5</td>\n",
       "      <td>2024-11-25 21:00:00</td>\n",
       "      <td>0.0</td>\n",
       "      <td>0.70</td>\n",
       "      <td>14.0</td>\n",
       "      <td>800.0</td>\n",
       "      <td>7000.0</td>\n",
       "      <td>91000.0</td>\n",
       "      <td>24700000.0</td>\n",
       "      <td>0.035</td>\n",
       "      <td>RUB</td>\n",
       "      <td>1677-09-21 00:12:43.145224193</td>\n",
       "      <td>0.0</td>\n",
       "      <td>2024-11-25</td>\n",
       "      <td>3377.50</td>\n",
       "      <td>1</td>\n",
       "    </tr>\n",
       "  </tbody>\n",
       "</table>\n",
       "</div>"
      ],
      "text/plain": [
       "                            payment                TIME    ID  CONVERSION  \\\n",
       "0  a12fb751e8dfe10f6d28449ba56bb7a1 2024-11-25 21:00:00  10.0        0.75   \n",
       "7  5833a5a2110db3d0ce72f847d5babeb5 2024-11-25 21:00:00   0.0        0.70   \n",
       "\n",
       "   AVG_TIME  MIN_SUM  MAX_SUM  LIMIT_MIN   LIMIT_MAX  COMMISSION CURRENCY  \\\n",
       "0      18.0    100.0   4500.0    81000.0  30700000.0       0.050      BRL   \n",
       "7      14.0    800.0   7000.0    91000.0  24700000.0       0.035      RUB   \n",
       "\n",
       "                     BUSY_UNTIL  DAILY_TOTAL  LAST_DATE   PROFIT  rank  \n",
       "0 1677-09-21 00:12:43.145224193          0.0 2024-11-25   213.75     1  \n",
       "7 1677-09-21 00:12:43.145224193          0.0 2024-11-25  3377.50     1  "
      ]
     },
     "execution_count": 11,
     "metadata": {},
     "output_type": "execute_result"
    }
   ],
   "source": [
    "# Разворачиваем valid_providers с помощью explode\n",
    "exploded_df_2 = payments_with_providers_df_2.explode('valid_providers', ignore_index=True)\n",
    "\n",
    "# Разворачиваем dict в отдельные колонки\n",
    "providers_expanded_2 = pd.json_normalize(exploded_df_2['valid_providers'])\n",
    "final_exploded_df_2 = pd.concat([exploded_df_2.drop(columns=['valid_providers']), providers_expanded_2], axis=1)\n",
    "\n",
    "final_exploded_df_2 = final_exploded_df_2[~final_exploded_df_2['PROFIT'].isna()]\n",
    "\n",
    "final_exploded_df_2['rank']=final_exploded_df_2.groupby('payment')['PROFIT']\\\n",
    "    .rank(ascending=False, method='first')\\\n",
    "    .astype(int)\n",
    "\n",
    "final_exploded_df_2.head(2)"
   ]
  },
  {
   "cell_type": "code",
   "execution_count": 12,
   "id": "efb2c48e-55be-4edf-b42f-ad8b1c257544",
   "metadata": {},
   "outputs": [
    {
     "data": {
      "text/plain": [
       "(110048, 16)"
      ]
     },
     "execution_count": 12,
     "metadata": {},
     "output_type": "execute_result"
    }
   ],
   "source": [
    "final_exploded_df_2.shape"
   ]
  },
  {
   "cell_type": "code",
   "execution_count": 13,
   "id": "40f2ec0a-f7e3-4266-87fb-d25e4ff2cbd2",
   "metadata": {},
   "outputs": [],
   "source": [
    "cols = ['payment','CONVERSION', 'AVG_TIME', 'MIN_SUM', 'MAX_SUM',\n",
    "       'LIMIT_MIN', 'LIMIT_MAX', 'COMMISSION', 'CURRENCY', 'ID',\n",
    "     'DAILY_TOTAL', 'LAST_DATE', 'PROFIT']"
   ]
  },
  {
   "cell_type": "code",
   "execution_count": 14,
   "id": "c8e72278-2026-4d71-8012-dac715c2a459",
   "metadata": {},
   "outputs": [],
   "source": [
    "# label_encoder = LabelEncoder()\n",
    "# final_exploded_df['currency_encoded'] = label_encoder.fit_transform(final_exploded_df['CURRENCY'])\n",
    "final_exploded_df.reset_index(drop=True, inplace=True)\n",
    "final_exploded_df_2.reset_index(drop=True, inplace=True)"
   ]
  },
  {
   "cell_type": "code",
   "execution_count": 15,
   "id": "c8d6a5d1-cb30-4613-b381-d316c6b8c981",
   "metadata": {},
   "outputs": [],
   "source": [
    "# Создадим массив с количеством провайдеров для каждого платежа\n",
    "group_sizes = final_exploded_df.groupby('payment').size().reset_index()\n",
    "group_sizes.columns = ['payment', 'group']\n",
    "\n",
    "group_sizes_2 = final_exploded_df_2.groupby('payment').size().reset_index()\n",
    "group_sizes_2.columns = ['payment', 'group']\n",
    "\n",
    "grouped = final_exploded_df.merge(group_sizes, on='payment', how='left').sort_values(\"group\")\n",
    "\n",
    "grouped_2 = final_exploded_df_2.merge(group_sizes_2, on='payment', how='left').sort_values(\"group\")"
   ]
  },
  {
   "cell_type": "code",
   "execution_count": null,
   "id": "61045464-64ce-4c0e-b010-1aa1e2471803",
   "metadata": {},
   "outputs": [],
   "source": []
  },
  {
   "cell_type": "code",
   "execution_count": 16,
   "id": "d7a1ae71-9c2c-4c73-8fa8-6254b6811904",
   "metadata": {},
   "outputs": [],
   "source": [
    "X_train = grouped[cols]\n",
    "y_train = grouped['rank']\n",
    "group_train = grouped['group']\n",
    "\n",
    "X_test = grouped_2[cols]\n",
    "y_test = grouped_2['rank']\n",
    "group_test = grouped_2['group']"
   ]
  },
  {
   "cell_type": "code",
   "execution_count": 17,
   "id": "c32611a7-6769-4148-9ea0-c240c53fc736",
   "metadata": {},
   "outputs": [],
   "source": []
  },
  {
   "cell_type": "code",
   "execution_count": 18,
   "id": "9941b36c-292a-41ae-8f08-e760d2fd6eea",
   "metadata": {},
   "outputs": [],
   "source": [
    "# Создаем и обучаем модель CatBoostRanker\n",
    "ranker = CatBoostRanker(\n",
    "    iterations=1000, \n",
    "    learning_rate=0.1,\n",
    "    depth=6,\n",
    "    loss_function='RMSE',  # Для ранжирования лучше использовать RMSE или другие метрики\n",
    "    # cat_features=['currency_encoded'],  # Указываем категориальные признаки\n",
    "    random_seed=42,\n",
    "    verbose=100\n",
    ")"
   ]
  },
  {
   "cell_type": "code",
   "execution_count": 19,
   "id": "dc0c937a-1cbc-4123-b15a-88f1c2d6eae9",
   "metadata": {},
   "outputs": [],
   "source": [
    "train_pool = Pool(X_train.drop(['payment', 'ID'], axis=1), y_train, group_id=group_train, cat_features=['CURRENCY'])\n",
    "test_pool = Pool(X_test.drop(['payment', 'ID'], axis=1), y_test, group_id=group_test, cat_features=['CURRENCY'])"
   ]
  },
  {
   "cell_type": "code",
   "execution_count": 20,
   "id": "a91666b3-823a-41d3-92e5-b3963ded2e22",
   "metadata": {},
   "outputs": [
    {
     "name": "stderr",
     "output_type": "stream",
     "text": [
      "/home/dm/anaconda3/lib/python3.8/site-packages/catboost/core.py:6245: RuntimeWarning: Regression loss ('RMSE') ignores an important ranking parameter 'group_id'\n",
      "  warnings.warn(\"Regression loss ('{}') ignores an important ranking parameter 'group_id'\".format(loss_function), RuntimeWarning)\n"
     ]
    },
    {
     "name": "stdout",
     "output_type": "stream",
     "text": [
      "0:\tlearn: 0.8440397\ttest: 0.7744563\tbest: 0.7744563 (0)\ttotal: 88.2ms\tremaining: 1m 28s\n",
      "100:\tlearn: 0.1738482\ttest: 0.7350950\tbest: 0.7210345 (15)\ttotal: 1.54s\tremaining: 13.7s\n",
      "Stopped by overfitting detector  (100 iterations wait)\n",
      "\n",
      "bestTest = 0.7210344608\n",
      "bestIteration = 15\n",
      "\n",
      "Shrink model to first 16 iterations.\n"
     ]
    },
    {
     "data": {
      "text/plain": [
       "<catboost.core.CatBoostRanker at 0x7f693a1cbaf0>"
      ]
     },
     "execution_count": 20,
     "metadata": {},
     "output_type": "execute_result"
    }
   ],
   "source": [
    "ranker.fit(train_pool, eval_set=test_pool, early_stopping_rounds=100, verbose=100)"
   ]
  },
  {
   "cell_type": "code",
   "execution_count": 21,
   "id": "cfd5da6c-0bc4-4b1a-a37b-89c8ec8847f4",
   "metadata": {},
   "outputs": [
    {
     "name": "stdout",
     "output_type": "stream",
     "text": [
      "Mean Squared Error: 0.5198906936429922\n"
     ]
    }
   ],
   "source": [
    "# Предсказания на тестовом наборе\n",
    "y_pred = ranker.predict(test_pool)\n",
    "\n",
    "\n",
    "mse = mean_squared_error(y_test, y_pred)\n",
    "print(f'Mean Squared Error: {mse}')"
   ]
  },
  {
   "cell_type": "code",
   "execution_count": 22,
   "id": "616d5e74-734c-488d-97f0-29bdf8a11954",
   "metadata": {},
   "outputs": [],
   "source": [
    "final_exploded_df_test = X_test.copy()\n",
    "final_exploded_df_test['predicted_rank'] = y_pred\n",
    "\n",
    "# Сортируем по предсказанному рангу и группируем по платежам\n",
    "ranked_providers_df = final_exploded_df_test.sort_values(by=['payment', 'predicted_rank'], ascending=[True, True])\n",
    "ranked_providers_df['ID'] = ranked_providers_df['ID'].astype(int)\n",
    "\n",
    "test_flow = ranked_providers_df.groupby('payment', as_index=False).agg({\n",
    "    'ID': lambda ids: '-'.join(map(str, sorted(ids)))})\n",
    "\n",
    "test_flow.columns = ['payment', 'flow']"
   ]
  },
  {
   "cell_type": "code",
   "execution_count": null,
   "id": "bf39e2ed-f739-4717-90d7-7011e5984a21",
   "metadata": {},
   "outputs": [],
   "source": []
  },
  {
   "cell_type": "code",
   "execution_count": 23,
   "id": "e9c806fd-53a4-443b-89c0-1637f12f2059",
   "metadata": {},
   "outputs": [],
   "source": [
    "final_exploded_df_train = X_train.copy()\n",
    "final_exploded_df_train['predicted_rank'] = ranker.predict(train_pool)\n",
    "\n",
    "# Сортируем по предсказанному рангу и группируем по платежам\n",
    "ranked_providers_df_train = final_exploded_df_train.sort_values(by=['payment', 'predicted_rank'], ascending=[True, True])\n",
    "ranked_providers_df_train['ID'] = ranked_providers_df_train['ID'].astype(int)\n",
    "\n",
    "train_flow = ranked_providers_df_train.groupby('payment', as_index=False).agg({\n",
    "    'ID': lambda ids: '-'.join(map(str, sorted(ids)))})\n",
    "\n",
    "train_flow.columns = ['payment', 'flow']"
   ]
  },
  {
   "cell_type": "code",
   "execution_count": 36,
   "id": "30ce8db9-958b-4ae6-977c-365c38720285",
   "metadata": {},
   "outputs": [
    {
     "data": {
      "text/html": [
       "<div>\n",
       "<style scoped>\n",
       "    .dataframe tbody tr th:only-of-type {\n",
       "        vertical-align: middle;\n",
       "    }\n",
       "\n",
       "    .dataframe tbody tr th {\n",
       "        vertical-align: top;\n",
       "    }\n",
       "\n",
       "    .dataframe thead th {\n",
       "        text-align: right;\n",
       "    }\n",
       "</style>\n",
       "<table border=\"1\" class=\"dataframe\">\n",
       "  <thead>\n",
       "    <tr style=\"text-align: right;\">\n",
       "      <th></th>\n",
       "      <th>payment</th>\n",
       "      <th>flow</th>\n",
       "    </tr>\n",
       "  </thead>\n",
       "  <tbody>\n",
       "    <tr>\n",
       "      <th>0</th>\n",
       "      <td>00009bdf8a13313b2b94e51b3d6a4239</td>\n",
       "      <td>2-4-5</td>\n",
       "    </tr>\n",
       "    <tr>\n",
       "      <th>1</th>\n",
       "      <td>000533c5ce9b6061632e2c4773c84511</td>\n",
       "      <td>2-3-4-5</td>\n",
       "    </tr>\n",
       "    <tr>\n",
       "      <th>2</th>\n",
       "      <td>00054205027674566734f253b203a0ac</td>\n",
       "      <td>2-4-5</td>\n",
       "    </tr>\n",
       "    <tr>\n",
       "      <th>3</th>\n",
       "      <td>000560e8e56d6c116110ee8202995e20</td>\n",
       "      <td>1</td>\n",
       "    </tr>\n",
       "    <tr>\n",
       "      <th>4</th>\n",
       "      <td>0005bc773b322e44dc52791d774d57b4</td>\n",
       "      <td>2-3-4</td>\n",
       "    </tr>\n",
       "    <tr>\n",
       "      <th>...</th>\n",
       "      <td>...</td>\n",
       "      <td>...</td>\n",
       "    </tr>\n",
       "    <tr>\n",
       "      <th>50840</th>\n",
       "      <td>fff9255ff8963be624e036c5f6bac8d2</td>\n",
       "      <td>16</td>\n",
       "    </tr>\n",
       "    <tr>\n",
       "      <th>50841</th>\n",
       "      <td>fff9a53b596055c0ad1694c454874548</td>\n",
       "      <td>13</td>\n",
       "    </tr>\n",
       "    <tr>\n",
       "      <th>50842</th>\n",
       "      <td>fff9aa209a323f999d03ebd049800dfc</td>\n",
       "      <td>14-16</td>\n",
       "    </tr>\n",
       "    <tr>\n",
       "      <th>50843</th>\n",
       "      <td>fffc3ee7138b64e501526fccb91033f2</td>\n",
       "      <td>4</td>\n",
       "    </tr>\n",
       "    <tr>\n",
       "      <th>50844</th>\n",
       "      <td>fffe9a54a6f680ebb00ba2a295d9be91</td>\n",
       "      <td>3-4-5</td>\n",
       "    </tr>\n",
       "  </tbody>\n",
       "</table>\n",
       "<p>50845 rows × 2 columns</p>\n",
       "</div>"
      ],
      "text/plain": [
       "                                payment     flow\n",
       "0      00009bdf8a13313b2b94e51b3d6a4239    2-4-5\n",
       "1      000533c5ce9b6061632e2c4773c84511  2-3-4-5\n",
       "2      00054205027674566734f253b203a0ac    2-4-5\n",
       "3      000560e8e56d6c116110ee8202995e20        1\n",
       "4      0005bc773b322e44dc52791d774d57b4    2-3-4\n",
       "...                                 ...      ...\n",
       "50840  fff9255ff8963be624e036c5f6bac8d2       16\n",
       "50841  fff9a53b596055c0ad1694c454874548       13\n",
       "50842  fff9aa209a323f999d03ebd049800dfc    14-16\n",
       "50843  fffc3ee7138b64e501526fccb91033f2        4\n",
       "50844  fffe9a54a6f680ebb00ba2a295d9be91    3-4-5\n",
       "\n",
       "[50845 rows x 2 columns]"
      ]
     },
     "execution_count": 36,
     "metadata": {},
     "output_type": "execute_result"
    }
   ],
   "source": [
    "train_flow"
   ]
  },
  {
   "cell_type": "code",
   "execution_count": 37,
   "id": "a950dd69-7b17-45c2-a30e-90a4a9c70b16",
   "metadata": {},
   "outputs": [
    {
     "data": {
      "text/html": [
       "<div>\n",
       "<style scoped>\n",
       "    .dataframe tbody tr th:only-of-type {\n",
       "        vertical-align: middle;\n",
       "    }\n",
       "\n",
       "    .dataframe tbody tr th {\n",
       "        vertical-align: top;\n",
       "    }\n",
       "\n",
       "    .dataframe thead th {\n",
       "        text-align: right;\n",
       "    }\n",
       "</style>\n",
       "<table border=\"1\" class=\"dataframe\">\n",
       "  <thead>\n",
       "    <tr style=\"text-align: right;\">\n",
       "      <th></th>\n",
       "      <th>payment</th>\n",
       "      <th>valid_providers</th>\n",
       "    </tr>\n",
       "  </thead>\n",
       "  <tbody>\n",
       "    <tr>\n",
       "      <th>193977</th>\n",
       "      <td>c77be33e8db2f5352ebbc0a1b3f10e3e</td>\n",
       "      <td>[{'TIME': 2024-11-24 21:00:00, 'ID': 2, 'CONVE...</td>\n",
       "    </tr>\n",
       "    <tr>\n",
       "      <th>193972</th>\n",
       "      <td>c9a03cbbe592f930d52416b049bc1d1a</td>\n",
       "      <td>[{'TIME': 2024-11-24 21:00:00, 'ID': 2, 'CONVE...</td>\n",
       "    </tr>\n",
       "    <tr>\n",
       "      <th>193973</th>\n",
       "      <td>f3adde51de36a39508d11d4bf4a98edc</td>\n",
       "      <td>[GOING BEYOND MIN_MAX]</td>\n",
       "    </tr>\n",
       "    <tr>\n",
       "      <th>193976</th>\n",
       "      <td>0ab79b6d41d6e887e84ec4a85ea33733</td>\n",
       "      <td>[GOING BEYOND MIN_MAX]</td>\n",
       "    </tr>\n",
       "    <tr>\n",
       "      <th>193975</th>\n",
       "      <td>90a88e0d5b6bfff12909878f265cc2f4</td>\n",
       "      <td>[GOING BEYOND MIN_MAX]</td>\n",
       "    </tr>\n",
       "    <tr>\n",
       "      <th>...</th>\n",
       "      <td>...</td>\n",
       "      <td>...</td>\n",
       "    </tr>\n",
       "    <tr>\n",
       "      <th>4</th>\n",
       "      <td>4af690ba4eebb6d4782d9a3051dc58d2</td>\n",
       "      <td>[GOING BEYOND MIN_MAX]</td>\n",
       "    </tr>\n",
       "    <tr>\n",
       "      <th>3</th>\n",
       "      <td>c30b3850e85454145bcb0dda3d209d88</td>\n",
       "      <td>[GOING BEYOND MIN_MAX]</td>\n",
       "    </tr>\n",
       "    <tr>\n",
       "      <th>2</th>\n",
       "      <td>0e2705d1083b67f2c5ea12de3b7ab182</td>\n",
       "      <td>[GOING BEYOND MIN_MAX]</td>\n",
       "    </tr>\n",
       "    <tr>\n",
       "      <th>1</th>\n",
       "      <td>6eb49e22afdd28083ff82cdff8068880</td>\n",
       "      <td>[GOING BEYOND MIN_MAX]</td>\n",
       "    </tr>\n",
       "    <tr>\n",
       "      <th>0</th>\n",
       "      <td>7d1476c9f1eedcd4a2083cc399ec1c1b</td>\n",
       "      <td>[GOING BEYOND MIN_MAX]</td>\n",
       "    </tr>\n",
       "  </tbody>\n",
       "</table>\n",
       "<p>193978 rows × 2 columns</p>\n",
       "</div>"
      ],
      "text/plain": [
       "                                 payment  \\\n",
       "193977  c77be33e8db2f5352ebbc0a1b3f10e3e   \n",
       "193972  c9a03cbbe592f930d52416b049bc1d1a   \n",
       "193973  f3adde51de36a39508d11d4bf4a98edc   \n",
       "193976  0ab79b6d41d6e887e84ec4a85ea33733   \n",
       "193975  90a88e0d5b6bfff12909878f265cc2f4   \n",
       "...                                  ...   \n",
       "4       4af690ba4eebb6d4782d9a3051dc58d2   \n",
       "3       c30b3850e85454145bcb0dda3d209d88   \n",
       "2       0e2705d1083b67f2c5ea12de3b7ab182   \n",
       "1       6eb49e22afdd28083ff82cdff8068880   \n",
       "0       7d1476c9f1eedcd4a2083cc399ec1c1b   \n",
       "\n",
       "                                          valid_providers  \n",
       "193977  [{'TIME': 2024-11-24 21:00:00, 'ID': 2, 'CONVE...  \n",
       "193972  [{'TIME': 2024-11-24 21:00:00, 'ID': 2, 'CONVE...  \n",
       "193973                             [GOING BEYOND MIN_MAX]  \n",
       "193976                             [GOING BEYOND MIN_MAX]  \n",
       "193975                             [GOING BEYOND MIN_MAX]  \n",
       "...                                                   ...  \n",
       "4                                  [GOING BEYOND MIN_MAX]  \n",
       "3                                  [GOING BEYOND MIN_MAX]  \n",
       "2                                  [GOING BEYOND MIN_MAX]  \n",
       "1                                  [GOING BEYOND MIN_MAX]  \n",
       "0                                  [GOING BEYOND MIN_MAX]  \n",
       "\n",
       "[193978 rows x 2 columns]"
      ]
     },
     "execution_count": 37,
     "metadata": {},
     "output_type": "execute_result"
    }
   ],
   "source": [
    "payments_with_providers_df"
   ]
  },
  {
   "cell_type": "code",
   "execution_count": 46,
   "id": "ac1118c5-b174-40fd-b9df-3dfed8a5e164",
   "metadata": {},
   "outputs": [],
   "source": [
    "p1 = pd.concat([payments_1, payments_with_providers_df.drop('payment', axis=1)], axis=1).merge(train_flow, on='payment', how='left')\n",
    "p2 = pd.concat([payments_2, payments_with_providers_df_2.drop('payment', axis=1)], axis=1).merge(test_flow, on='payment', how='left')\n",
    "\n",
    "p1['flow'] = p1['flow'].fillna(value='False')\n",
    "p2['flow'] = p2['flow'].fillna(value='False')"
   ]
  },
  {
   "cell_type": "code",
   "execution_count": 52,
   "id": "dcbf4a85-c5d4-4471-93e2-f842f6c20a04",
   "metadata": {},
   "outputs": [],
   "source": [
    "pd.to_pickle(ranker, \"ranker.pkl\")\n",
    "p1.to_csv(\"p1.csv\", index=False)\n",
    "p2.to_csv(\"p2.csv\", index=False)"
   ]
  },
  {
   "cell_type": "code",
   "execution_count": null,
   "id": "667ec758-7434-4cea-8e5c-fad2583f0e3f",
   "metadata": {},
   "outputs": [],
   "source": []
  },
  {
   "cell_type": "code",
   "execution_count": 29,
   "id": "c0386722-5290-431e-8d6c-5c382d295031",
   "metadata": {},
   "outputs": [],
   "source": [
    "cols2 = [\n",
    " 'CONVERSION',\n",
    " 'AVG_TIME',\n",
    " 'MIN_SUM',\n",
    " 'MAX_SUM',\n",
    " 'LIMIT_MIN',\n",
    " 'LIMIT_MAX',\n",
    " 'COMMISSION',\n",
    " 'CURRENCY',\n",
    " 'DAILY_TOTAL',\n",
    " 'LAST_DATE',\n",
    " 'PROFIT']"
   ]
  },
  {
   "cell_type": "code",
   "execution_count": 33,
   "id": "eeb40be3-9375-432a-827a-6fab82682910",
   "metadata": {},
   "outputs": [],
   "source": []
  },
  {
   "cell_type": "code",
   "execution_count": 30,
   "id": "619419c5-bfb4-42f7-9777-9831a42dc518",
   "metadata": {},
   "outputs": [
    {
     "data": {
      "image/png": "[encoded data removed]",
      "text/plain": [
       "<Figure size 1000x600 with 1 Axes>"
      ]
     },
     "metadata": {},
     "output_type": "display_data"
    }
   ],
   "source": [
    "# Получаем важность признаков\n",
    "feature_importance = ranker.get_feature_importance(train_pool, type='PredictionValuesChange')\n",
    "\n",
    "# Визуализация важности\n",
    "plt.figure(figsize=(10, 6))\n",
    "plt.barh(cols2, feature_importance, color='skyblue')\n",
    "plt.xlabel('Feature Importance')\n",
    "plt.title('CatBoost Ranker Feature Importance')\n",
    "plt.gca().invert_yaxis()\n",
    "plt.show()"
   ]
  },
  {
   "cell_type": "code",
   "execution_count": 35,
   "id": "d477e605-7699-42c8-a451-aab097689f43",
   "metadata": {},
   "outputs": [
    {
     "data": {
      "image/png": "[encoded data removed]",
      "text/plain": [
       "<Figure size 1000x600 with 1 Axes>"
      ]
     },
     "metadata": {},
     "output_type": "display_data"
    }
   ],
   "source": [
    "# Получаем SHAP значения\n",
    "shap_values = ranker.get_feature_importance(train_pool, type='ShapValues')\n",
    "\n",
    "# SHAP возвращает матрицу [n_samples, n_features + 1], последний столбец - базовое значение\n",
    "shap_values = np.array(shap_values)[ :, :-1]  # Убираем базовые значения\n",
    "\n",
    "# Визуализация общего вклада признаков\n",
    "mean_shap = np.abs(shap_values).mean(axis=0)\n",
    "plt.figure(figsize=(10, 6))\n",
    "plt.barh(cols2, mean_shap, color='skyblue')\n",
    "plt.xlabel('Mean Absolute SHAP Value')\n",
    "plt.title('SHAP Values - Feature Importance')\n",
    "plt.gca().invert_yaxis()\n",
    "plt.show()"
   ]
  },
  {
   "cell_type": "code",
   "execution_count": null,
   "id": "0370cce9-775a-44c8-81bb-cce2eb6d42c5",
   "metadata": {},
   "outputs": [],
   "source": []
  },
  {
   "cell_type": "code",
   "execution_count": null,
   "id": "76b1bf2a-cf03-4607-8458-9be375aa3ead",
   "metadata": {},
   "outputs": [],
   "source": []
  },
  {
   "cell_type": "code",
   "execution_count": null,
   "id": "304722d9-4d51-4203-9949-a516825bb281",
   "metadata": {},
   "outputs": [],
   "source": []
  },
  {
   "cell_type": "code",
   "execution_count": null,
   "id": "8010f3da-de13-4628-9297-ad5d7e54abd9",
   "metadata": {},
   "outputs": [],
   "source": []
  },
  {
   "cell_type": "code",
   "execution_count": 43,
   "id": "4c18501e-a3d1-4844-ba81-763259648958",
   "metadata": {},
   "outputs": [
    {
     "data": {
      "application/vnd.plotly.v1+json": {
       "config": {
        "plotlyServerURL": "https://plot.ly"
       },
       "data": [
        {
         "type": "bar",
         "x": [
          3,
          8,
          8,
          10,
          13,
          16,
          14,
          17,
          18,
          22,
          27,
          28,
          33,
          38,
          37,
          42,
          39,
          45,
          44
         ],
         "y": [
          8057528.321000029,
          22246.3,
          22246.3,
          843491.0550000002,
          4684481.598999999,
          514569.839,
          548503.8849999999,
          9811.776,
          8531.776,
          13488.700000000003,
          0,
          0,
          2590.38,
          0,
          0,
          0,
          0,
          0,
          0
         ]
        }
       ],
       "layout": {
        "autosize": true,
        "barmode": "group",
        "template": {
         "data": {
          "bar": [
           {
            "error_x": {
             "color": "#2a3f5f"
            },
            "error_y": {
             "color": "#2a3f5f"
            },
            "marker": {
             "line": {
              "color": "#E5ECF6",
              "width": 0.5
             },
             "pattern": {
              "fillmode": "overlay",
              "size": 10,
              "solidity": 0.2
             }
            },
            "type": "bar"
           }
          ],
          "barpolar": [
           {
            "marker": {
             "line": {
              "color": "#E5ECF6",
              "width": 0.5
             },
             "pattern": {
              "fillmode": "overlay",
              "size": 10,
              "solidity": 0.2
             }
            },
            "type": "barpolar"
           }
          ],
          "carpet": [
           {
            "aaxis": {
             "endlinecolor": "#2a3f5f",
             "gridcolor": "white",
             "linecolor": "white",
             "minorgridcolor": "white",
             "startlinecolor": "#2a3f5f"
            },
            "baxis": {
             "endlinecolor": "#2a3f5f",
             "gridcolor": "white",
             "linecolor": "white",
             "minorgridcolor": "white",
             "startlinecolor": "#2a3f5f"
            },
            "type": "carpet"
           }
          ],
          "choropleth": [
           {
            "colorbar": {
             "outlinewidth": 0,
             "ticks": ""
            },
            "type": "choropleth"
           }
          ],
          "contour": [
           {
            "colorbar": {
             "outlinewidth": 0,
             "ticks": ""
            },
            "colorscale": [
             [
              0,
              "#0d0887"
             ],
             [
              0.1111111111111111,
              "#46039f"
             ],
             [
              0.2222222222222222,
              "#7201a8"
             ],
             [
              0.3333333333333333,
              "#9c179e"
             ],
             [
              0.4444444444444444,
              "#bd3786"
             ],
             [
              0.5555555555555556,
              "#d8576b"
             ],
             [
              0.6666666666666666,
              "#ed7953"
             ],
             [
              0.7777777777777778,
              "#fb9f3a"
             ],
             [
              0.8888888888888888,
              "#fdca26"
             ],
             [
              1,
              "#f0f921"
             ]
            ],
            "type": "contour"
           }
          ],
          "contourcarpet": [
           {
            "colorbar": {
             "outlinewidth": 0,
             "ticks": ""
            },
            "type": "contourcarpet"
           }
          ],
          "heatmap": [
           {
            "colorbar": {
             "outlinewidth": 0,
             "ticks": ""
            },
            "colorscale": [
             [
              0,
              "#0d0887"
             ],
             [
              0.1111111111111111,
              "#46039f"
             ],
             [
              0.2222222222222222,
              "#7201a8"
             ],
             [
              0.3333333333333333,
              "#9c179e"
             ],
             [
              0.4444444444444444,
              "#bd3786"
             ],
             [
              0.5555555555555556,
              "#d8576b"
             ],
             [
              0.6666666666666666,
              "#ed7953"
             ],
             [
              0.7777777777777778,
              "#fb9f3a"
             ],
             [
              0.8888888888888888,
              "#fdca26"
             ],
             [
              1,
              "#f0f921"
             ]
            ],
            "type": "heatmap"
           }
          ],
          "heatmapgl": [
           {
            "colorbar": {
             "outlinewidth": 0,
             "ticks": ""
            },
            "colorscale": [
             [
              0,
              "#0d0887"
             ],
             [
              0.1111111111111111,
              "#46039f"
             ],
             [
              0.2222222222222222,
              "#7201a8"
             ],
             [
              0.3333333333333333,
              "#9c179e"
             ],
             [
              0.4444444444444444,
              "#bd3786"
             ],
             [
              0.5555555555555556,
              "#d8576b"
             ],
             [
              0.6666666666666666,
              "#ed7953"
             ],
             [
              0.7777777777777778,
              "#fb9f3a"
             ],
             [
              0.8888888888888888,
              "#fdca26"
             ],
             [
              1,
              "#f0f921"
             ]
            ],
            "type": "heatmapgl"
           }
          ],
          "histogram": [
           {
            "marker": {
             "pattern": {
              "fillmode": "overlay",
              "size": 10,
              "solidity": 0.2
             }
            },
            "type": "histogram"
           }
          ],
          "histogram2d": [
           {
            "colorbar": {
             "outlinewidth": 0,
             "ticks": ""
            },
            "colorscale": [
             [
              0,
              "#0d0887"
             ],
             [
              0.1111111111111111,
              "#46039f"
             ],
             [
              0.2222222222222222,
              "#7201a8"
             ],
             [
              0.3333333333333333,
              "#9c179e"
             ],
             [
              0.4444444444444444,
              "#bd3786"
             ],
             [
              0.5555555555555556,
              "#d8576b"
             ],
             [
              0.6666666666666666,
              "#ed7953"
             ],
             [
              0.7777777777777778,
              "#fb9f3a"
             ],
             [
              0.8888888888888888,
              "#fdca26"
             ],
             [
              1,
              "#f0f921"
             ]
            ],
            "type": "histogram2d"
           }
          ],
          "histogram2dcontour": [
           {
            "colorbar": {
             "outlinewidth": 0,
             "ticks": ""
            },
            "colorscale": [
             [
              0,
              "#0d0887"
             ],
             [
              0.1111111111111111,
              "#46039f"
             ],
             [
              0.2222222222222222,
              "#7201a8"
             ],
             [
              0.3333333333333333,
              "#9c179e"
             ],
             [
              0.4444444444444444,
              "#bd3786"
             ],
             [
              0.5555555555555556,
              "#d8576b"
             ],
             [
              0.6666666666666666,
              "#ed7953"
             ],
             [
              0.7777777777777778,
              "#fb9f3a"
             ],
             [
              0.8888888888888888,
              "#fdca26"
             ],
             [
              1,
              "#f0f921"
             ]
            ],
            "type": "histogram2dcontour"
           }
          ],
          "mesh3d": [
           {
            "colorbar": {
             "outlinewidth": 0,
             "ticks": ""
            },
            "type": "mesh3d"
           }
          ],
          "parcoords": [
           {
            "line": {
             "colorbar": {
              "outlinewidth": 0,
              "ticks": ""
             }
            },
            "type": "parcoords"
           }
          ],
          "pie": [
           {
            "automargin": true,
            "type": "pie"
           }
          ],
          "scatter": [
           {
            "fillpattern": {
             "fillmode": "overlay",
             "size": 10,
             "solidity": 0.2
            },
            "type": "scatter"
           }
          ],
          "scatter3d": [
           {
            "line": {
             "colorbar": {
              "outlinewidth": 0,
              "ticks": ""
             }
            },
            "marker": {
             "colorbar": {
              "outlinewidth": 0,
              "ticks": ""
             }
            },
            "type": "scatter3d"
           }
          ],
          "scattercarpet": [
           {
            "marker": {
             "colorbar": {
              "outlinewidth": 0,
              "ticks": ""
             }
            },
            "type": "scattercarpet"
           }
          ],
          "scattergeo": [
           {
            "marker": {
             "colorbar": {
              "outlinewidth": 0,
              "ticks": ""
             }
            },
            "type": "scattergeo"
           }
          ],
          "scattergl": [
           {
            "marker": {
             "colorbar": {
              "outlinewidth": 0,
              "ticks": ""
             }
            },
            "type": "scattergl"
           }
          ],
          "scattermapbox": [
           {
            "marker": {
             "colorbar": {
              "outlinewidth": 0,
              "ticks": ""
             }
            },
            "type": "scattermapbox"
           }
          ],
          "scatterpolar": [
           {
            "marker": {
             "colorbar": {
              "outlinewidth": 0,
              "ticks": ""
             }
            },
            "type": "scatterpolar"
           }
          ],
          "scatterpolargl": [
           {
            "marker": {
             "colorbar": {
              "outlinewidth": 0,
              "ticks": ""
             }
            },
            "type": "scatterpolargl"
           }
          ],
          "scatterternary": [
           {
            "marker": {
             "colorbar": {
              "outlinewidth": 0,
              "ticks": ""
             }
            },
            "type": "scatterternary"
           }
          ],
          "surface": [
           {
            "colorbar": {
             "outlinewidth": 0,
             "ticks": ""
            },
            "colorscale": [
             [
              0,
              "#0d0887"
             ],
             [
              0.1111111111111111,
              "#46039f"
             ],
             [
              0.2222222222222222,
              "#7201a8"
             ],
             [
              0.3333333333333333,
              "#9c179e"
             ],
             [
              0.4444444444444444,
              "#bd3786"
             ],
             [
              0.5555555555555556,
              "#d8576b"
             ],
             [
              0.6666666666666666,
              "#ed7953"
             ],
             [
              0.7777777777777778,
              "#fb9f3a"
             ],
             [
              0.8888888888888888,
              "#fdca26"
             ],
             [
              1,
              "#f0f921"
             ]
            ],
            "type": "surface"
           }
          ],
          "table": [
           {
            "cells": {
             "fill": {
              "color": "#EBF0F8"
             },
             "line": {
              "color": "white"
             }
            },
            "header": {
             "fill": {
              "color": "#C8D4E3"
             },
             "line": {
              "color": "white"
             }
            },
            "type": "table"
           }
          ]
         },
         "layout": {
          "annotationdefaults": {
           "arrowcolor": "#2a3f5f",
           "arrowhead": 0,
           "arrowwidth": 1
          },
          "autotypenumbers": "strict",
          "coloraxis": {
           "colorbar": {
            "outlinewidth": 0,
            "ticks": ""
           }
          },
          "colorscale": {
           "diverging": [
            [
             0,
             "#8e0152"
            ],
            [
             0.1,
             "#c51b7d"
            ],
            [
             0.2,
             "#de77ae"
            ],
            [
             0.3,
             "#f1b6da"
            ],
            [
             0.4,
             "#fde0ef"
            ],
            [
             0.5,
             "#f7f7f7"
            ],
            [
             0.6,
             "#e6f5d0"
            ],
            [
             0.7,
             "#b8e186"
            ],
            [
             0.8,
             "#7fbc41"
            ],
            [
             0.9,
             "#4d9221"
            ],
            [
             1,
             "#276419"
            ]
           ],
           "sequential": [
            [
             0,
             "#0d0887"
            ],
            [
             0.1111111111111111,
             "#46039f"
            ],
            [
             0.2222222222222222,
             "#7201a8"
            ],
            [
             0.3333333333333333,
             "#9c179e"
            ],
            [
             0.4444444444444444,
             "#bd3786"
            ],
            [
             0.5555555555555556,
             "#d8576b"
            ],
            [
             0.6666666666666666,
             "#ed7953"
            ],
            [
             0.7777777777777778,
             "#fb9f3a"
            ],
            [
             0.8888888888888888,
             "#fdca26"
            ],
            [
             1,
             "#f0f921"
            ]
           ],
           "sequentialminus": [
            [
             0,
             "#0d0887"
            ],
            [
             0.1111111111111111,
             "#46039f"
            ],
            [
             0.2222222222222222,
             "#7201a8"
            ],
            [
             0.3333333333333333,
             "#9c179e"
            ],
            [
             0.4444444444444444,
             "#bd3786"
            ],
            [
             0.5555555555555556,
             "#d8576b"
            ],
            [
             0.6666666666666666,
             "#ed7953"
            ],
            [
             0.7777777777777778,
             "#fb9f3a"
            ],
            [
             0.8888888888888888,
             "#fdca26"
            ],
            [
             1,
             "#f0f921"
            ]
           ]
          },
          "colorway": [
           "#636efa",
           "#EF553B",
           "#00cc96",
           "#ab63fa",
           "#FFA15A",
           "#19d3f3",
           "#FF6692",
           "#B6E880",
           "#FF97FF",
           "#FECB52"
          ],
          "font": {
           "color": "#2a3f5f"
          },
          "geo": {
           "bgcolor": "white",
           "lakecolor": "white",
           "landcolor": "#E5ECF6",
           "showlakes": true,
           "showland": true,
           "subunitcolor": "white"
          },
          "hoverlabel": {
           "align": "left"
          },
          "hovermode": "closest",
          "mapbox": {
           "style": "light"
          },
          "paper_bgcolor": "white",
          "plot_bgcolor": "#E5ECF6",
          "polar": {
           "angularaxis": {
            "gridcolor": "white",
            "linecolor": "white",
            "ticks": ""
           },
           "bgcolor": "#E5ECF6",
           "radialaxis": {
            "gridcolor": "white",
            "linecolor": "white",
            "ticks": ""
           }
          },
          "scene": {
           "xaxis": {
            "backgroundcolor": "#E5ECF6",
            "gridcolor": "white",
            "gridwidth": 2,
            "linecolor": "white",
            "showbackground": true,
            "ticks": "",
            "zerolinecolor": "white"
           },
           "yaxis": {
            "backgroundcolor": "#E5ECF6",
            "gridcolor": "white",
            "gridwidth": 2,
            "linecolor": "white",
            "showbackground": true,
            "ticks": "",
            "zerolinecolor": "white"
           },
           "zaxis": {
            "backgroundcolor": "#E5ECF6",
            "gridcolor": "white",
            "gridwidth": 2,
            "linecolor": "white",
            "showbackground": true,
            "ticks": "",
            "zerolinecolor": "white"
           }
          },
          "shapedefaults": {
           "line": {
            "color": "#2a3f5f"
           }
          },
          "ternary": {
           "aaxis": {
            "gridcolor": "white",
            "linecolor": "white",
            "ticks": ""
           },
           "baxis": {
            "gridcolor": "white",
            "linecolor": "white",
            "ticks": ""
           },
           "bgcolor": "#E5ECF6",
           "caxis": {
            "gridcolor": "white",
            "linecolor": "white",
            "ticks": ""
           }
          },
          "title": {
           "x": 0.05
          },
          "xaxis": {
           "automargin": true,
           "gridcolor": "white",
           "linecolor": "white",
           "ticks": "",
           "title": {
            "standoff": 15
           },
           "zerolinecolor": "white",
           "zerolinewidth": 2
          },
          "yaxis": {
           "automargin": true,
           "gridcolor": "white",
           "linecolor": "white",
           "ticks": "",
           "title": {
            "standoff": 15
           },
           "zerolinecolor": "white",
           "zerolinewidth": 2
          }
         }
        },
        "title": {
         "text": "DAILY_TOTAL по провайдерам на 2024-11-25 04:00:00"
        },
        "xaxis": {
         "autorange": true,
         "range": [
          -0.5,
          17.5
         ],
         "title": {
          "text": "ID провайдера"
         },
         "type": "category"
        },
        "yaxis": {
         "autorange": true,
         "range": [
          0,
          8481608.758947399
         ],
         "title": {
          "text": "DAILY_TOTAL"
         },
         "type": "linear"
        }
       }
      },
      "image/png": "[encoded data removed]",
      "text/html": [
       "<div>                            <div id=\"14e1e4af-71e3-4a64-b917-67564686698a\" class=\"plotly-graph-div\" style=\"height:525px; width:100%;\"></div>            <script type=\"text/javascript\">                require([\"plotly\"], function(Plotly) {                    window.PLOTLYENV=window.PLOTLYENV || {};                                    if (document.getElementById(\"14e1e4af-71e3-4a64-b917-67564686698a\")) {                    Plotly.newPlot(                        \"14e1e4af-71e3-4a64-b917-67564686698a\",                        [{\"x\":[3,8,8,10,13,16,14,17,18,22,27,28,33,38,37,42,39,45,44],\"y\":[8057528.321000029,22246.3,22246.3,843491.0550000002,4684481.598999999,514569.839,548503.8849999999,9811.776,8531.776,13488.700000000003,0.0,0.0,2590.38,0.0,0.0,0.0,0.0,0.0,0.0],\"type\":\"bar\"}],                        {\"template\":{\"data\":{\"histogram2dcontour\":[{\"type\":\"histogram2dcontour\",\"colorbar\":{\"outlinewidth\":0,\"ticks\":\"\"},\"colorscale\":[[0.0,\"#0d0887\"],[0.1111111111111111,\"#46039f\"],[0.2222222222222222,\"#7201a8\"],[0.3333333333333333,\"#9c179e\"],[0.4444444444444444,\"#bd3786\"],[0.5555555555555556,\"#d8576b\"],[0.6666666666666666,\"#ed7953\"],[0.7777777777777778,\"#fb9f3a\"],[0.8888888888888888,\"#fdca26\"],[1.0,\"#f0f921\"]]}],\"choropleth\":[{\"type\":\"choropleth\",\"colorbar\":{\"outlinewidth\":0,\"ticks\":\"\"}}],\"histogram2d\":[{\"type\":\"histogram2d\",\"colorbar\":{\"outlinewidth\":0,\"ticks\":\"\"},\"colorscale\":[[0.0,\"#0d0887\"],[0.1111111111111111,\"#46039f\"],[0.2222222222222222,\"#7201a8\"],[0.3333333333333333,\"#9c179e\"],[0.4444444444444444,\"#bd3786\"],[0.5555555555555556,\"#d8576b\"],[0.6666666666666666,\"#ed7953\"],[0.7777777777777778,\"#fb9f3a\"],[0.8888888888888888,\"#fdca26\"],[1.0,\"#f0f921\"]]}],\"heatmap\":[{\"type\":\"heatmap\",\"colorbar\":{\"outlinewidth\":0,\"ticks\":\"\"},\"colorscale\":[[0.0,\"#0d0887\"],[0.1111111111111111,\"#46039f\"],[0.2222222222222222,\"#7201a8\"],[0.3333333333333333,\"#9c179e\"],[0.4444444444444444,\"#bd3786\"],[0.5555555555555556,\"#d8576b\"],[0.6666666666666666,\"#ed7953\"],[0.7777777777777778,\"#fb9f3a\"],[0.8888888888888888,\"#fdca26\"],[1.0,\"#f0f921\"]]}],\"heatmapgl\":[{\"type\":\"heatmapgl\",\"colorbar\":{\"outlinewidth\":0,\"ticks\":\"\"},\"colorscale\":[[0.0,\"#0d0887\"],[0.1111111111111111,\"#46039f\"],[0.2222222222222222,\"#7201a8\"],[0.3333333333333333,\"#9c179e\"],[0.4444444444444444,\"#bd3786\"],[0.5555555555555556,\"#d8576b\"],[0.6666666666666666,\"#ed7953\"],[0.7777777777777778,\"#fb9f3a\"],[0.8888888888888888,\"#fdca26\"],[1.0,\"#f0f921\"]]}],\"contourcarpet\":[{\"type\":\"contourcarpet\",\"colorbar\":{\"outlinewidth\":0,\"ticks\":\"\"}}],\"contour\":[{\"type\":\"contour\",\"colorbar\":{\"outlinewidth\":0,\"ticks\":\"\"},\"colorscale\":[[0.0,\"#0d0887\"],[0.1111111111111111,\"#46039f\"],[0.2222222222222222,\"#7201a8\"],[0.3333333333333333,\"#9c179e\"],[0.4444444444444444,\"#bd3786\"],[0.5555555555555556,\"#d8576b\"],[0.6666666666666666,\"#ed7953\"],[0.7777777777777778,\"#fb9f3a\"],[0.8888888888888888,\"#fdca26\"],[1.0,\"#f0f921\"]]}],\"surface\":[{\"type\":\"surface\",\"colorbar\":{\"outlinewidth\":0,\"ticks\":\"\"},\"colorscale\":[[0.0,\"#0d0887\"],[0.1111111111111111,\"#46039f\"],[0.2222222222222222,\"#7201a8\"],[0.3333333333333333,\"#9c179e\"],[0.4444444444444444,\"#bd3786\"],[0.5555555555555556,\"#d8576b\"],[0.6666666666666666,\"#ed7953\"],[0.7777777777777778,\"#fb9f3a\"],[0.8888888888888888,\"#fdca26\"],[1.0,\"#f0f921\"]]}],\"mesh3d\":[{\"type\":\"mesh3d\",\"colorbar\":{\"outlinewidth\":0,\"ticks\":\"\"}}],\"scatter\":[{\"fillpattern\":{\"fillmode\":\"overlay\",\"size\":10,\"solidity\":0.2},\"type\":\"scatter\"}],\"parcoords\":[{\"type\":\"parcoords\",\"line\":{\"colorbar\":{\"outlinewidth\":0,\"ticks\":\"\"}}}],\"scatterpolargl\":[{\"type\":\"scatterpolargl\",\"marker\":{\"colorbar\":{\"outlinewidth\":0,\"ticks\":\"\"}}}],\"bar\":[{\"error_x\":{\"color\":\"#2a3f5f\"},\"error_y\":{\"color\":\"#2a3f5f\"},\"marker\":{\"line\":{\"color\":\"#E5ECF6\",\"width\":0.5},\"pattern\":{\"fillmode\":\"overlay\",\"size\":10,\"solidity\":0.2}},\"type\":\"bar\"}],\"scattergeo\":[{\"type\":\"scattergeo\",\"marker\":{\"colorbar\":{\"outlinewidth\":0,\"ticks\":\"\"}}}],\"scatterpolar\":[{\"type\":\"scatterpolar\",\"marker\":{\"colorbar\":{\"outlinewidth\":0,\"ticks\":\"\"}}}],\"histogram\":[{\"marker\":{\"pattern\":{\"fillmode\":\"overlay\",\"size\":10,\"solidity\":0.2}},\"type\":\"histogram\"}],\"scattergl\":[{\"type\":\"scattergl\",\"marker\":{\"colorbar\":{\"outlinewidth\":0,\"ticks\":\"\"}}}],\"scatter3d\":[{\"type\":\"scatter3d\",\"line\":{\"colorbar\":{\"outlinewidth\":0,\"ticks\":\"\"}},\"marker\":{\"colorbar\":{\"outlinewidth\":0,\"ticks\":\"\"}}}],\"scattermapbox\":[{\"type\":\"scattermapbox\",\"marker\":{\"colorbar\":{\"outlinewidth\":0,\"ticks\":\"\"}}}],\"scatterternary\":[{\"type\":\"scatterternary\",\"marker\":{\"colorbar\":{\"outlinewidth\":0,\"ticks\":\"\"}}}],\"scattercarpet\":[{\"type\":\"scattercarpet\",\"marker\":{\"colorbar\":{\"outlinewidth\":0,\"ticks\":\"\"}}}],\"carpet\":[{\"aaxis\":{\"endlinecolor\":\"#2a3f5f\",\"gridcolor\":\"white\",\"linecolor\":\"white\",\"minorgridcolor\":\"white\",\"startlinecolor\":\"#2a3f5f\"},\"baxis\":{\"endlinecolor\":\"#2a3f5f\",\"gridcolor\":\"white\",\"linecolor\":\"white\",\"minorgridcolor\":\"white\",\"startlinecolor\":\"#2a3f5f\"},\"type\":\"carpet\"}],\"table\":[{\"cells\":{\"fill\":{\"color\":\"#EBF0F8\"},\"line\":{\"color\":\"white\"}},\"header\":{\"fill\":{\"color\":\"#C8D4E3\"},\"line\":{\"color\":\"white\"}},\"type\":\"table\"}],\"barpolar\":[{\"marker\":{\"line\":{\"color\":\"#E5ECF6\",\"width\":0.5},\"pattern\":{\"fillmode\":\"overlay\",\"size\":10,\"solidity\":0.2}},\"type\":\"barpolar\"}],\"pie\":[{\"automargin\":true,\"type\":\"pie\"}]},\"layout\":{\"autotypenumbers\":\"strict\",\"colorway\":[\"#636efa\",\"#EF553B\",\"#00cc96\",\"#ab63fa\",\"#FFA15A\",\"#19d3f3\",\"#FF6692\",\"#B6E880\",\"#FF97FF\",\"#FECB52\"],\"font\":{\"color\":\"#2a3f5f\"},\"hovermode\":\"closest\",\"hoverlabel\":{\"align\":\"left\"},\"paper_bgcolor\":\"white\",\"plot_bgcolor\":\"#E5ECF6\",\"polar\":{\"bgcolor\":\"#E5ECF6\",\"angularaxis\":{\"gridcolor\":\"white\",\"linecolor\":\"white\",\"ticks\":\"\"},\"radialaxis\":{\"gridcolor\":\"white\",\"linecolor\":\"white\",\"ticks\":\"\"}},\"ternary\":{\"bgcolor\":\"#E5ECF6\",\"aaxis\":{\"gridcolor\":\"white\",\"linecolor\":\"white\",\"ticks\":\"\"},\"baxis\":{\"gridcolor\":\"white\",\"linecolor\":\"white\",\"ticks\":\"\"},\"caxis\":{\"gridcolor\":\"white\",\"linecolor\":\"white\",\"ticks\":\"\"}},\"coloraxis\":{\"colorbar\":{\"outlinewidth\":0,\"ticks\":\"\"}},\"colorscale\":{\"sequential\":[[0.0,\"#0d0887\"],[0.1111111111111111,\"#46039f\"],[0.2222222222222222,\"#7201a8\"],[0.3333333333333333,\"#9c179e\"],[0.4444444444444444,\"#bd3786\"],[0.5555555555555556,\"#d8576b\"],[0.6666666666666666,\"#ed7953\"],[0.7777777777777778,\"#fb9f3a\"],[0.8888888888888888,\"#fdca26\"],[1.0,\"#f0f921\"]],\"sequentialminus\":[[0.0,\"#0d0887\"],[0.1111111111111111,\"#46039f\"],[0.2222222222222222,\"#7201a8\"],[0.3333333333333333,\"#9c179e\"],[0.4444444444444444,\"#bd3786\"],[0.5555555555555556,\"#d8576b\"],[0.6666666666666666,\"#ed7953\"],[0.7777777777777778,\"#fb9f3a\"],[0.8888888888888888,\"#fdca26\"],[1.0,\"#f0f921\"]],\"diverging\":[[0,\"#8e0152\"],[0.1,\"#c51b7d\"],[0.2,\"#de77ae\"],[0.3,\"#f1b6da\"],[0.4,\"#fde0ef\"],[0.5,\"#f7f7f7\"],[0.6,\"#e6f5d0\"],[0.7,\"#b8e186\"],[0.8,\"#7fbc41\"],[0.9,\"#4d9221\"],[1,\"#276419\"]]},\"xaxis\":{\"gridcolor\":\"white\",\"linecolor\":\"white\",\"ticks\":\"\",\"title\":{\"standoff\":15},\"zerolinecolor\":\"white\",\"automargin\":true,\"zerolinewidth\":2},\"yaxis\":{\"gridcolor\":\"white\",\"linecolor\":\"white\",\"ticks\":\"\",\"title\":{\"standoff\":15},\"zerolinecolor\":\"white\",\"automargin\":true,\"zerolinewidth\":2},\"scene\":{\"xaxis\":{\"backgroundcolor\":\"#E5ECF6\",\"gridcolor\":\"white\",\"linecolor\":\"white\",\"showbackground\":true,\"ticks\":\"\",\"zerolinecolor\":\"white\",\"gridwidth\":2},\"yaxis\":{\"backgroundcolor\":\"#E5ECF6\",\"gridcolor\":\"white\",\"linecolor\":\"white\",\"showbackground\":true,\"ticks\":\"\",\"zerolinecolor\":\"white\",\"gridwidth\":2},\"zaxis\":{\"backgroundcolor\":\"#E5ECF6\",\"gridcolor\":\"white\",\"linecolor\":\"white\",\"showbackground\":true,\"ticks\":\"\",\"zerolinecolor\":\"white\",\"gridwidth\":2}},\"shapedefaults\":{\"line\":{\"color\":\"#2a3f5f\"}},\"annotationdefaults\":{\"arrowcolor\":\"#2a3f5f\",\"arrowhead\":0,\"arrowwidth\":1},\"geo\":{\"bgcolor\":\"white\",\"landcolor\":\"#E5ECF6\",\"subunitcolor\":\"white\",\"showland\":true,\"showlakes\":true,\"lakecolor\":\"white\"},\"title\":{\"x\":0.05},\"mapbox\":{\"style\":\"light\"}}},\"xaxis\":{\"title\":{\"text\":\"ID \\u043f\\u0440\\u043e\\u0432\\u0430\\u0439\\u0434\\u0435\\u0440\\u0430\"},\"type\":\"category\"},\"title\":{\"text\":\"DAILY_TOTAL \\u043f\\u043e \\u043f\\u0440\\u043e\\u0432\\u0430\\u0439\\u0434\\u0435\\u0440\\u0430\\u043c \\u043d\\u0430 2024-11-25 04:00:00\"},\"yaxis\":{\"title\":{\"text\":\"DAILY_TOTAL\"}},\"barmode\":\"group\"},                        {\"responsive\": true}                    ).then(function(){\n",
       "                            \n",
       "var gd = document.getElementById('14e1e4af-71e3-4a64-b917-67564686698a');\n",
       "var x = new MutationObserver(function (mutations, observer) {{\n",
       "        var display = window.getComputedStyle(gd).display;\n",
       "        if (!display || display === 'none') {{\n",
       "            console.log([gd, 'removed!']);\n",
       "            Plotly.purge(gd);\n",
       "            observer.disconnect();\n",
       "        }}\n",
       "}});\n",
       "\n",
       "// Listen for the removal of the full notebook cells\n",
       "var notebookContainer = gd.closest('#notebook-container');\n",
       "if (notebookContainer) {{\n",
       "    x.observe(notebookContainer, {childList: true});\n",
       "}}\n",
       "\n",
       "// Listen for the clearing of the current output cell\n",
       "var outputEl = gd.closest('.output');\n",
       "if (outputEl) {{\n",
       "    x.observe(outputEl, {childList: true});\n",
       "}}\n",
       "\n",
       "                        })                };                });            </script>        </div>"
      ]
     },
     "metadata": {},
     "output_type": "display_data"
    }
   ],
   "source": [
    "# Указанный момент времени\n",
    "selected_time = pd.to_datetime('2024-11-25 04:00:00')\n",
    "\n",
    "# Отфильтровываем данные по выбранному времени\n",
    "df_filtered = df[df['TIME'] == selected_time]\n",
    "\n",
    "# Создаем график\n",
    "fig = go.Figure()\n",
    "\n",
    "# Добавляем столбцы на график для выбранного времени\n",
    "fig.add_trace(go.Bar(\n",
    "    x=df_filtered['ID'],  # ID провайдеров по оси X\n",
    "    y=df_filtered['DAILY_TOTAL'],  # Значения DAILY_TOTAL по оси Y\n",
    "))\n",
    "\n",
    "# Обновляем настройки графика\n",
    "fig.update_layout(\n",
    "    title=f\"DAILY_TOTAL по провайдерам на {selected_time}\",\n",
    "    xaxis=dict(\n",
    "        title='ID провайдера',\n",
    "        type='category',  # Чтобы ID провайдеров отображались как категории\n",
    "    ),\n",
    "    yaxis=dict(\n",
    "        title='DAILY_TOTAL',\n",
    "    ),\n",
    "    barmode='group'  # Можно использовать для нескольких групп столбцов\n",
    ")\n",
    "\n",
    "# Отображаем график\n",
    "fig.show()"
   ]
  },
  {
   "cell_type": "code",
   "execution_count": 51,
   "id": "147ce266-df23-4754-aaad-4e3421c8023b",
   "metadata": {},
   "outputs": [
    {
     "data": {
      "application/vnd.plotly.v1+json": {
       "config": {
        "plotlyServerURL": "https://plot.ly"
       },
       "data": [
        {
         "name": "2024-11-25 21:00:00",
         "type": "bar",
         "x": [
          0,
          2,
          7,
          8,
          6,
          10,
          14,
          14,
          17,
          21,
          26,
          32,
          29,
          32,
          36,
          38,
          44
         ],
         "y": [
          7029963.600000001,
          4940993.389999998,
          18526.8,
          22246.3,
          22182.8,
          843491.0550000002,
          548503.8849999999,
          548503.8849999999,
          9811.776,
          10732.6,
          0,
          2590.38,
          2590.38,
          2590.38,
          0,
          0,
          0
         ]
        }
       ],
       "frames": [
        {
         "data": [
          {
           "name": "2024-11-24 21:00:00",
           "type": "bar",
           "x": [
            0,
            1,
            2,
            3,
            4,
            5,
            6,
            7,
            8,
            9,
            10,
            11,
            12,
            13,
            14,
            15,
            16,
            17,
            18,
            19,
            20,
            21,
            22,
            23,
            24,
            25,
            26,
            27,
            28,
            29,
            30,
            31,
            32,
            33,
            34,
            35,
            36,
            37,
            38,
            39,
            40,
            41,
            42,
            43,
            44,
            45,
            46,
            47
           ],
           "y": [
            7029963.600000001,
            6971573.2,
            4940993.389999998,
            8057528.321000029,
            7471524.320000023,
            10976675.490000015,
            22182.8,
            18526.8,
            22246.3,
            12480.8,
            843491.0550000002,
            748886.9739999999,
            1041718.5009999996,
            4684481.598999999,
            548503.8849999999,
            501959.495,
            514569.839,
            9811.776,
            8531.776,
            5375.776,
            0,
            10732.6,
            13488.700000000003,
            10935.3,
            0,
            0,
            0,
            0,
            0,
            2590.38,
            2590.38,
            2590.38,
            2590.38,
            2590.38,
            0,
            0,
            0,
            0,
            0,
            0,
            0,
            0,
            0,
            0,
            0,
            0,
            0,
            0
           ]
          }
         ],
         "name": "2024-11-24 21:00:00"
        },
        {
         "data": [
          {
           "name": "2024-11-24 22:00:00",
           "type": "bar",
           "x": [
            1,
            4,
            6,
            7,
            11,
            11,
            22,
            24,
            27,
            31,
            32,
            36,
            38,
            41,
            45
           ],
           "y": [
            6971573.2,
            7471524.320000023,
            22182.8,
            18526.8,
            748886.9739999999,
            748886.9739999999,
            13488.700000000003,
            0,
            0,
            2590.38,
            2590.38,
            0,
            0,
            0,
            0
           ]
          }
         ],
         "name": "2024-11-24 22:00:00"
        },
        {
         "data": [
          {
           "name": "2024-11-24 23:00:00",
           "type": "bar",
           "x": [
            0,
            4,
            8,
            10,
            13,
            14,
            15,
            23,
            24,
            28,
            29,
            33,
            29,
            36,
            34,
            35,
            47,
            45
           ],
           "y": [
            7029963.600000001,
            7471524.320000023,
            22246.3,
            843491.0550000002,
            4684481.598999999,
            548503.8849999999,
            501959.495,
            10935.3,
            0,
            0,
            2590.38,
            2590.38,
            2590.38,
            0,
            0,
            0,
            0,
            0
           ]
          }
         ],
         "name": "2024-11-24 23:00:00"
        },
        {
         "data": [
          {
           "name": "2024-11-25 00:00:00",
           "type": "bar",
           "x": [
            1,
            9,
            6,
            6,
            12,
            14,
            17,
            18,
            17,
            20,
            22,
            24,
            36,
            35,
            36,
            40,
            40,
            39,
            47,
            45
           ],
           "y": [
            6971573.2,
            12480.8,
            22182.8,
            22182.8,
            1041718.5009999996,
            548503.8849999999,
            9811.776,
            8531.776,
            9811.776,
            0,
            13488.700000000003,
            0,
            0,
            0,
            0,
            0,
            0,
            0,
            0,
            0
           ]
          }
         ],
         "name": "2024-11-25 00:00:00"
        },
        {
         "data": [
          {
           "name": "2024-11-25 01:00:00",
           "type": "bar",
           "x": [
            1,
            0,
            5,
            4,
            8,
            8,
            8,
            11,
            13,
            21,
            23,
            24,
            31,
            32,
            35,
            38,
            42,
            40,
            47,
            44,
            43,
            45
           ],
           "y": [
            6971573.2,
            7029963.600000001,
            10976675.490000015,
            7471524.320000023,
            22246.3,
            22246.3,
            22246.3,
            748886.9739999999,
            4684481.598999999,
            10732.6,
            10935.3,
            0,
            2590.38,
            2590.38,
            0,
            0,
            0,
            0,
            0,
            0,
            0,
            0
           ]
          }
         ],
         "name": "2024-11-25 01:00:00"
        },
        {
         "data": [
          {
           "name": "2024-11-25 02:00:00",
           "type": "bar",
           "x": [
            1,
            0,
            6,
            7,
            8,
            12,
            12,
            13,
            15,
            18,
            19,
            20,
            25,
            24,
            33,
            33,
            31,
            36,
            35,
            41,
            46
           ],
           "y": [
            6971573.2,
            7029963.600000001,
            22182.8,
            18526.8,
            22246.3,
            1041718.5009999996,
            1041718.5009999996,
            4684481.598999999,
            501959.495,
            8531.776,
            5375.776,
            0,
            0,
            0,
            2590.38,
            2590.38,
            2590.38,
            0,
            0,
            0,
            0
           ]
          }
         ],
         "name": "2024-11-25 02:00:00"
        },
        {
         "data": [
          {
           "name": "2024-11-25 03:00:00",
           "type": "bar",
           "x": [
            0,
            3,
            8,
            12,
            13,
            14,
            16,
            17,
            21,
            22,
            25,
            24,
            28,
            33,
            36,
            37,
            41
           ],
           "y": [
            7029963.600000001,
            8057528.321000029,
            22246.3,
            1041718.5009999996,
            4684481.598999999,
            548503.8849999999,
            514569.839,
            9811.776,
            10732.6,
            13488.700000000003,
            0,
            0,
            0,
            2590.38,
            0,
            0,
            0
           ]
          }
         ],
         "name": "2024-11-25 03:00:00"
        },
        {
         "data": [
          {
           "name": "2024-11-25 04:00:00",
           "type": "bar",
           "x": [
            3,
            8,
            8,
            10,
            13,
            16,
            14,
            17,
            18,
            22,
            27,
            28,
            33,
            38,
            37,
            42,
            39,
            45,
            44
           ],
           "y": [
            8057528.321000029,
            22246.3,
            22246.3,
            843491.0550000002,
            4684481.598999999,
            514569.839,
            548503.8849999999,
            9811.776,
            8531.776,
            13488.700000000003,
            0,
            0,
            2590.38,
            0,
            0,
            0,
            0,
            0,
            0
           ]
          }
         ],
         "name": "2024-11-25 04:00:00"
        },
        {
         "data": [
          {
           "name": "2024-11-25 05:00:00",
           "type": "bar",
           "x": [
            1,
            1,
            2,
            2,
            7,
            10,
            10,
            13,
            20,
            21,
            22,
            24,
            26,
            36,
            36,
            41,
            42,
            44,
            43,
            45
           ],
           "y": [
            6971573.2,
            6971573.2,
            4940993.389999998,
            4940993.389999998,
            18526.8,
            843491.0550000002,
            843491.0550000002,
            4684481.598999999,
            0,
            10732.6,
            13488.700000000003,
            0,
            0,
            0,
            0,
            0,
            0,
            0,
            0,
            0
           ]
          }
         ],
         "name": "2024-11-25 05:00:00"
        },
        {
         "data": [
          {
           "name": "2024-11-25 06:00:00",
           "type": "bar",
           "x": [
            0,
            2,
            4,
            5,
            5,
            6,
            9,
            12,
            12,
            14,
            14,
            18,
            20,
            25,
            28,
            34,
            37,
            36,
            42,
            47,
            45,
            43
           ],
           "y": [
            7029963.600000001,
            4940993.389999998,
            7471524.320000023,
            10976675.490000015,
            10976675.490000015,
            22182.8,
            12480.8,
            1041718.5009999996,
            1041718.5009999996,
            548503.8849999999,
            548503.8849999999,
            8531.776,
            0,
            0,
            0,
            0,
            0,
            0,
            0,
            0,
            0,
            0
           ]
          }
         ],
         "name": "2024-11-25 06:00:00"
        },
        {
         "data": [
          {
           "name": "2024-11-25 07:00:00",
           "type": "bar",
           "x": [
            0,
            0,
            3,
            5,
            7,
            7,
            9,
            10,
            16,
            18,
            20,
            21,
            23,
            22,
            25,
            26,
            28,
            30,
            30,
            31,
            46
           ],
           "y": [
            7029963.600000001,
            7029963.600000001,
            8057528.321000029,
            10976675.490000015,
            18526.8,
            18526.8,
            12480.8,
            843491.0550000002,
            514569.839,
            8531.776,
            0,
            10732.6,
            10935.3,
            13488.700000000003,
            0,
            0,
            0,
            2590.38,
            2590.38,
            2590.38,
            0
           ]
          }
         ],
         "name": "2024-11-25 07:00:00"
        },
        {
         "data": [
          {
           "name": "2024-11-25 08:00:00",
           "type": "bar",
           "x": [
            1,
            2,
            7,
            8,
            11,
            13,
            16,
            17,
            18,
            19,
            22,
            22,
            30,
            30,
            31,
            32,
            35,
            36,
            39,
            42,
            39,
            46
           ],
           "y": [
            6971573.2,
            4940993.389999998,
            18526.8,
            22246.3,
            748886.9739999999,
            4684481.598999999,
            514569.839,
            9811.776,
            8531.776,
            5375.776,
            13488.700000000003,
            13488.700000000003,
            2590.38,
            2590.38,
            2590.38,
            2590.38,
            0,
            0,
            0,
            0,
            0,
            0
           ]
          }
         ],
         "name": "2024-11-25 08:00:00"
        },
        {
         "data": [
          {
           "name": "2024-11-25 09:00:00",
           "type": "bar",
           "x": [
            3,
            2,
            2,
            4,
            7,
            7,
            11,
            15,
            22,
            30,
            31,
            38,
            38,
            39,
            39,
            40,
            46,
            44,
            47
           ],
           "y": [
            8057528.321000029,
            4940993.389999998,
            4940993.389999998,
            7471524.320000023,
            18526.8,
            18526.8,
            748886.9739999999,
            501959.495,
            13488.700000000003,
            2590.38,
            2590.38,
            0,
            0,
            0,
            0,
            0,
            0,
            0,
            0
           ]
          }
         ],
         "name": "2024-11-25 09:00:00"
        },
        {
         "data": [
          {
           "name": "2024-11-25 10:00:00",
           "type": "bar",
           "x": [
            1,
            2,
            11,
            16,
            15,
            19,
            18,
            20,
            21,
            21,
            25,
            24,
            28,
            31,
            34,
            36,
            34,
            40,
            45,
            45
           ],
           "y": [
            6971573.2,
            4940993.389999998,
            748886.9739999999,
            514569.839,
            501959.495,
            5375.776,
            8531.776,
            0,
            10732.6,
            10732.6,
            0,
            0,
            0,
            2590.38,
            0,
            0,
            0,
            0,
            0,
            0
           ]
          }
         ],
         "name": "2024-11-25 10:00:00"
        },
        {
         "data": [
          {
           "name": "2024-11-25 11:00:00",
           "type": "bar",
           "x": [
            1,
            1,
            4,
            2,
            4,
            9,
            11,
            11,
            13,
            15,
            22,
            25,
            27,
            28,
            33,
            31,
            33,
            36,
            36,
            34,
            39,
            46
           ],
           "y": [
            6971573.2,
            6971573.2,
            7471524.320000023,
            4940993.389999998,
            7471524.320000023,
            12480.8,
            748886.9739999999,
            748886.9739999999,
            4684481.598999999,
            501959.495,
            13488.700000000003,
            0,
            0,
            0,
            2590.38,
            2590.38,
            2590.38,
            0,
            0,
            0,
            0,
            0
           ]
          }
         ],
         "name": "2024-11-25 11:00:00"
        },
        {
         "data": [
          {
           "name": "2024-11-25 12:00:00",
           "type": "bar",
           "x": [
            4,
            4,
            6,
            6,
            15,
            14,
            18,
            24,
            26,
            32,
            29,
            38,
            34,
            42,
            44
           ],
           "y": [
            7471524.320000023,
            7471524.320000023,
            22182.8,
            22182.8,
            501959.495,
            548503.8849999999,
            8531.776,
            0,
            0,
            2590.38,
            2590.38,
            0,
            0,
            0,
            0
           ]
          }
         ],
         "name": "2024-11-25 12:00:00"
        },
        {
         "data": [
          {
           "name": "2024-11-25 13:00:00",
           "type": "bar",
           "x": [
            0,
            0,
            3,
            4,
            3,
            7,
            13,
            14,
            17,
            25,
            25,
            31,
            31,
            36,
            35,
            39,
            45,
            44
           ],
           "y": [
            7029963.600000001,
            7029963.600000001,
            8057528.321000029,
            7471524.320000023,
            8057528.321000029,
            18526.8,
            4684481.598999999,
            548503.8849999999,
            9811.776,
            0,
            0,
            2590.38,
            2590.38,
            0,
            0,
            0,
            0,
            0
           ]
          }
         ],
         "name": "2024-11-25 13:00:00"
        },
        {
         "data": [
          {
           "name": "2024-11-25 14:00:00",
           "type": "bar",
           "x": [
            4,
            2,
            3,
            9,
            7,
            18,
            19,
            20,
            22,
            24,
            26,
            33,
            33,
            29,
            35,
            36,
            37,
            41,
            41,
            42,
            43,
            47
           ],
           "y": [
            7471524.320000023,
            4940993.389999998,
            8057528.321000029,
            12480.8,
            18526.8,
            8531.776,
            5375.776,
            0,
            13488.700000000003,
            0,
            0,
            2590.38,
            2590.38,
            2590.38,
            0,
            0,
            0,
            0,
            0,
            0,
            0,
            0
           ]
          }
         ],
         "name": "2024-11-25 14:00:00"
        },
        {
         "data": [
          {
           "name": "2024-11-25 15:00:00",
           "type": "bar",
           "x": [
            1,
            2,
            6,
            10,
            11,
            13,
            15,
            14,
            18,
            17,
            18,
            23,
            29,
            29,
            37,
            37,
            39,
            44
           ],
           "y": [
            6971573.2,
            4940993.389999998,
            22182.8,
            843491.0550000002,
            748886.9739999999,
            4684481.598999999,
            501959.495,
            548503.8849999999,
            8531.776,
            9811.776,
            8531.776,
            10935.3,
            2590.38,
            2590.38,
            0,
            0,
            0,
            0
           ]
          }
         ],
         "name": "2024-11-25 15:00:00"
        },
        {
         "data": [
          {
           "name": "2024-11-25 16:00:00",
           "type": "bar",
           "x": [
            3,
            3,
            4,
            10,
            10,
            13,
            15,
            16,
            17,
            22,
            25,
            24,
            26,
            33,
            33,
            29,
            34,
            39,
            47,
            44
           ],
           "y": [
            8057528.321000029,
            8057528.321000029,
            7471524.320000023,
            843491.0550000002,
            843491.0550000002,
            4684481.598999999,
            501959.495,
            514569.839,
            9811.776,
            13488.700000000003,
            0,
            0,
            0,
            2590.38,
            2590.38,
            2590.38,
            0,
            0,
            0,
            0
           ]
          }
         ],
         "name": "2024-11-25 16:00:00"
        },
        {
         "data": [
          {
           "name": "2024-11-25 17:00:00",
           "type": "bar",
           "x": [
            0,
            2,
            9,
            9,
            12,
            11,
            15,
            20,
            21,
            26,
            29,
            30,
            29,
            34,
            39,
            44,
            45,
            45
           ],
           "y": [
            7029963.600000001,
            4940993.389999998,
            12480.8,
            12480.8,
            1041718.5009999996,
            748886.9739999999,
            501959.495,
            0,
            10732.6,
            0,
            2590.38,
            2590.38,
            2590.38,
            0,
            0,
            0,
            0,
            0
           ]
          }
         ],
         "name": "2024-11-25 17:00:00"
        },
        {
         "data": [
          {
           "name": "2024-11-25 18:00:00",
           "type": "bar",
           "x": [
            1,
            5,
            5,
            3,
            6,
            9,
            12,
            10,
            15,
            19,
            20,
            22,
            25,
            28,
            33,
            29,
            40,
            41,
            41,
            46,
            45,
            47
           ],
           "y": [
            6971573.2,
            10976675.490000015,
            10976675.490000015,
            8057528.321000029,
            22182.8,
            12480.8,
            1041718.5009999996,
            843491.0550000002,
            501959.495,
            5375.776,
            0,
            13488.700000000003,
            0,
            0,
            2590.38,
            2590.38,
            0,
            0,
            0,
            0,
            0,
            0
           ]
          }
         ],
         "name": "2024-11-25 18:00:00"
        },
        {
         "data": [
          {
           "name": "2024-11-25 19:00:00",
           "type": "bar",
           "x": [
            4,
            5,
            7,
            7,
            11,
            19,
            22,
            23,
            28,
            27,
            29,
            32,
            36,
            35,
            45
           ],
           "y": [
            7471524.320000023,
            10976675.490000015,
            18526.8,
            18526.8,
            748886.9739999999,
            5375.776,
            13488.700000000003,
            10935.3,
            0,
            0,
            2590.38,
            2590.38,
            0,
            0,
            0
           ]
          }
         ],
         "name": "2024-11-25 19:00:00"
        },
        {
         "data": [
          {
           "name": "2024-11-25 20:00:00",
           "type": "bar",
           "x": [
            0,
            2,
            3,
            7,
            9,
            13,
            14,
            19,
            22,
            25,
            26,
            26,
            30,
            34,
            34,
            42,
            39,
            40,
            47,
            44
           ],
           "y": [
            7029963.600000001,
            4940993.389999998,
            8057528.321000029,
            18526.8,
            12480.8,
            4684481.598999999,
            548503.8849999999,
            5375.776,
            13488.700000000003,
            0,
            0,
            0,
            2590.38,
            0,
            0,
            0,
            0,
            0,
            0,
            0
           ]
          }
         ],
         "name": "2024-11-25 20:00:00"
        },
        {
         "data": [
          {
           "name": "2024-11-25 21:00:00",
           "type": "bar",
           "x": [
            0,
            2,
            7,
            8,
            6,
            10,
            14,
            14,
            17,
            21,
            26,
            32,
            29,
            32,
            36,
            38,
            44
           ],
           "y": [
            7029963.600000001,
            4940993.389999998,
            18526.8,
            22246.3,
            22182.8,
            843491.0550000002,
            548503.8849999999,
            548503.8849999999,
            9811.776,
            10732.6,
            0,
            2590.38,
            2590.38,
            2590.38,
            0,
            0,
            0
           ]
          }
         ],
         "name": "2024-11-25 21:00:00"
        }
       ],
       "layout": {
        "autosize": true,
        "dragmode": "select",
        "showlegend": false,
        "sliders": [
         {
          "active": 24,
          "currentvalue": {
           "font": {
            "size": 20
           },
           "prefix": "Время: ",
           "visible": true,
           "xanchor": "center"
          },
          "pad": {
           "b": 10
          },
          "steps": [
           {
            "args": [
             [
              "2024-11-24 21:00:00"
             ],
             {
              "frame": {
               "duration": 300,
               "redraw": true
              },
              "mode": "immediate",
              "transition": {
               "duration": 300,
               "easing": "cubic-in-out"
              }
             }
            ],
            "label": "2024-11-24 21:00:00",
            "method": "animate"
           },
           {
            "args": [
             [
              "2024-11-24 22:00:00"
             ],
             {
              "frame": {
               "duration": 300,
               "redraw": true
              },
              "mode": "immediate",
              "transition": {
               "duration": 300,
               "easing": "cubic-in-out"
              }
             }
            ],
            "label": "2024-11-24 22:00:00",
            "method": "animate"
           },
           {
            "args": [
             [
              "2024-11-24 23:00:00"
             ],
             {
              "frame": {
               "duration": 300,
               "redraw": true
              },
              "mode": "immediate",
              "transition": {
               "duration": 300,
               "easing": "cubic-in-out"
              }
             }
            ],
            "label": "2024-11-24 23:00:00",
            "method": "animate"
           },
           {
            "args": [
             [
              "2024-11-25 00:00:00"
             ],
             {
              "frame": {
               "duration": 300,
               "redraw": true
              },
              "mode": "immediate",
              "transition": {
               "duration": 300,
               "easing": "cubic-in-out"
              }
             }
            ],
            "label": "2024-11-25 00:00:00",
            "method": "animate"
           },
           {
            "args": [
             [
              "2024-11-25 01:00:00"
             ],
             {
              "frame": {
               "duration": 300,
               "redraw": true
              },
              "mode": "immediate",
              "transition": {
               "duration": 300,
               "easing": "cubic-in-out"
              }
             }
            ],
            "label": "2024-11-25 01:00:00",
            "method": "animate"
           },
           {
            "args": [
             [
              "2024-11-25 02:00:00"
             ],
             {
              "frame": {
               "duration": 300,
               "redraw": true
              },
              "mode": "immediate",
              "transition": {
               "duration": 300,
               "easing": "cubic-in-out"
              }
             }
            ],
            "label": "2024-11-25 02:00:00",
            "method": "animate"
           },
           {
            "args": [
             [
              "2024-11-25 03:00:00"
             ],
             {
              "frame": {
               "duration": 300,
               "redraw": true
              },
              "mode": "immediate",
              "transition": {
               "duration": 300,
               "easing": "cubic-in-out"
              }
             }
            ],
            "label": "2024-11-25 03:00:00",
            "method": "animate"
           },
           {
            "args": [
             [
              "2024-11-25 04:00:00"
             ],
             {
              "frame": {
               "duration": 300,
               "redraw": true
              },
              "mode": "immediate",
              "transition": {
               "duration": 300,
               "easing": "cubic-in-out"
              }
             }
            ],
            "label": "2024-11-25 04:00:00",
            "method": "animate"
           },
           {
            "args": [
             [
              "2024-11-25 05:00:00"
             ],
             {
              "frame": {
               "duration": 300,
               "redraw": true
              },
              "mode": "immediate",
              "transition": {
               "duration": 300,
               "easing": "cubic-in-out"
              }
             }
            ],
            "label": "2024-11-25 05:00:00",
            "method": "animate"
           },
           {
            "args": [
             [
              "2024-11-25 06:00:00"
             ],
             {
              "frame": {
               "duration": 300,
               "redraw": true
              },
              "mode": "immediate",
              "transition": {
               "duration": 300,
               "easing": "cubic-in-out"
              }
             }
            ],
            "label": "2024-11-25 06:00:00",
            "method": "animate"
           },
           {
            "args": [
             [
              "2024-11-25 07:00:00"
             ],
             {
              "frame": {
               "duration": 300,
               "redraw": true
              },
              "mode": "immediate",
              "transition": {
               "duration": 300,
               "easing": "cubic-in-out"
              }
             }
            ],
            "label": "2024-11-25 07:00:00",
            "method": "animate"
           },
           {
            "args": [
             [
              "2024-11-25 08:00:00"
             ],
             {
              "frame": {
               "duration": 300,
               "redraw": true
              },
              "mode": "immediate",
              "transition": {
               "duration": 300,
               "easing": "cubic-in-out"
              }
             }
            ],
            "label": "2024-11-25 08:00:00",
            "method": "animate"
           },
           {
            "args": [
             [
              "2024-11-25 09:00:00"
             ],
             {
              "frame": {
               "duration": 300,
               "redraw": true
              },
              "mode": "immediate",
              "transition": {
               "duration": 300,
               "easing": "cubic-in-out"
              }
             }
            ],
            "label": "2024-11-25 09:00:00",
            "method": "animate"
           },
           {
            "args": [
             [
              "2024-11-25 10:00:00"
             ],
             {
              "frame": {
               "duration": 300,
               "redraw": true
              },
              "mode": "immediate",
              "transition": {
               "duration": 300,
               "easing": "cubic-in-out"
              }
             }
            ],
            "label": "2024-11-25 10:00:00",
            "method": "animate"
           },
           {
            "args": [
             [
              "2024-11-25 11:00:00"
             ],
             {
              "frame": {
               "duration": 300,
               "redraw": true
              },
              "mode": "immediate",
              "transition": {
               "duration": 300,
               "easing": "cubic-in-out"
              }
             }
            ],
            "label": "2024-11-25 11:00:00",
            "method": "animate"
           },
           {
            "args": [
             [
              "2024-11-25 12:00:00"
             ],
             {
              "frame": {
               "duration": 300,
               "redraw": true
              },
              "mode": "immediate",
              "transition": {
               "duration": 300,
               "easing": "cubic-in-out"
              }
             }
            ],
            "label": "2024-11-25 12:00:00",
            "method": "animate"
           },
           {
            "args": [
             [
              "2024-11-25 13:00:00"
             ],
             {
              "frame": {
               "duration": 300,
               "redraw": true
              },
              "mode": "immediate",
              "transition": {
               "duration": 300,
               "easing": "cubic-in-out"
              }
             }
            ],
            "label": "2024-11-25 13:00:00",
            "method": "animate"
           },
           {
            "args": [
             [
              "2024-11-25 14:00:00"
             ],
             {
              "frame": {
               "duration": 300,
               "redraw": true
              },
              "mode": "immediate",
              "transition": {
               "duration": 300,
               "easing": "cubic-in-out"
              }
             }
            ],
            "label": "2024-11-25 14:00:00",
            "method": "animate"
           },
           {
            "args": [
             [
              "2024-11-25 15:00:00"
             ],
             {
              "frame": {
               "duration": 300,
               "redraw": true
              },
              "mode": "immediate",
              "transition": {
               "duration": 300,
               "easing": "cubic-in-out"
              }
             }
            ],
            "label": "2024-11-25 15:00:00",
            "method": "animate"
           },
           {
            "args": [
             [
              "2024-11-25 16:00:00"
             ],
             {
              "frame": {
               "duration": 300,
               "redraw": true
              },
              "mode": "immediate",
              "transition": {
               "duration": 300,
               "easing": "cubic-in-out"
              }
             }
            ],
            "label": "2024-11-25 16:00:00",
            "method": "animate"
           },
           {
            "args": [
             [
              "2024-11-25 17:00:00"
             ],
             {
              "frame": {
               "duration": 300,
               "redraw": true
              },
              "mode": "immediate",
              "transition": {
               "duration": 300,
               "easing": "cubic-in-out"
              }
             }
            ],
            "label": "2024-11-25 17:00:00",
            "method": "animate"
           },
           {
            "args": [
             [
              "2024-11-25 18:00:00"
             ],
             {
              "frame": {
               "duration": 300,
               "redraw": true
              },
              "mode": "immediate",
              "transition": {
               "duration": 300,
               "easing": "cubic-in-out"
              }
             }
            ],
            "label": "2024-11-25 18:00:00",
            "method": "animate"
           },
           {
            "args": [
             [
              "2024-11-25 19:00:00"
             ],
             {
              "frame": {
               "duration": 300,
               "redraw": true
              },
              "mode": "immediate",
              "transition": {
               "duration": 300,
               "easing": "cubic-in-out"
              }
             }
            ],
            "label": "2024-11-25 19:00:00",
            "method": "animate"
           },
           {
            "args": [
             [
              "2024-11-25 20:00:00"
             ],
             {
              "frame": {
               "duration": 300,
               "redraw": true
              },
              "mode": "immediate",
              "transition": {
               "duration": 300,
               "easing": "cubic-in-out"
              }
             }
            ],
            "label": "2024-11-25 20:00:00",
            "method": "animate"
           },
           {
            "args": [
             [
              "2024-11-25 21:00:00"
             ],
             {
              "frame": {
               "duration": 300,
               "redraw": true
              },
              "mode": "immediate",
              "transition": {
               "duration": 300,
               "easing": "cubic-in-out"
              }
             }
            ],
            "label": "2024-11-25 21:00:00",
            "method": "animate"
           }
          ]
         }
        ],
        "template": {
         "data": {
          "bar": [
           {
            "error_x": {
             "color": "#2a3f5f"
            },
            "error_y": {
             "color": "#2a3f5f"
            },
            "marker": {
             "line": {
              "color": "#E5ECF6",
              "width": 0.5
             },
             "pattern": {
              "fillmode": "overlay",
              "size": 10,
              "solidity": 0.2
             }
            },
            "type": "bar"
           }
          ],
          "barpolar": [
           {
            "marker": {
             "line": {
              "color": "#E5ECF6",
              "width": 0.5
             },
             "pattern": {
              "fillmode": "overlay",
              "size": 10,
              "solidity": 0.2
             }
            },
            "type": "barpolar"
           }
          ],
          "carpet": [
           {
            "aaxis": {
             "endlinecolor": "#2a3f5f",
             "gridcolor": "white",
             "linecolor": "white",
             "minorgridcolor": "white",
             "startlinecolor": "#2a3f5f"
            },
            "baxis": {
             "endlinecolor": "#2a3f5f",
             "gridcolor": "white",
             "linecolor": "white",
             "minorgridcolor": "white",
             "startlinecolor": "#2a3f5f"
            },
            "type": "carpet"
           }
          ],
          "choropleth": [
           {
            "colorbar": {
             "outlinewidth": 0,
             "ticks": ""
            },
            "type": "choropleth"
           }
          ],
          "contour": [
           {
            "colorbar": {
             "outlinewidth": 0,
             "ticks": ""
            },
            "colorscale": [
             [
              0,
              "#0d0887"
             ],
             [
              0.1111111111111111,
              "#46039f"
             ],
             [
              0.2222222222222222,
              "#7201a8"
             ],
             [
              0.3333333333333333,
              "#9c179e"
             ],
             [
              0.4444444444444444,
              "#bd3786"
             ],
             [
              0.5555555555555556,
              "#d8576b"
             ],
             [
              0.6666666666666666,
              "#ed7953"
             ],
             [
              0.7777777777777778,
              "#fb9f3a"
             ],
             [
              0.8888888888888888,
              "#fdca26"
             ],
             [
              1,
              "#f0f921"
             ]
            ],
            "type": "contour"
           }
          ],
          "contourcarpet": [
           {
            "colorbar": {
             "outlinewidth": 0,
             "ticks": ""
            },
            "type": "contourcarpet"
           }
          ],
          "heatmap": [
           {
            "colorbar": {
             "outlinewidth": 0,
             "ticks": ""
            },
            "colorscale": [
             [
              0,
              "#0d0887"
             ],
             [
              0.1111111111111111,
              "#46039f"
             ],
             [
              0.2222222222222222,
              "#7201a8"
             ],
             [
              0.3333333333333333,
              "#9c179e"
             ],
             [
              0.4444444444444444,
              "#bd3786"
             ],
             [
              0.5555555555555556,
              "#d8576b"
             ],
             [
              0.6666666666666666,
              "#ed7953"
             ],
             [
              0.7777777777777778,
              "#fb9f3a"
             ],
             [
              0.8888888888888888,
              "#fdca26"
             ],
             [
              1,
              "#f0f921"
             ]
            ],
            "type": "heatmap"
           }
          ],
          "heatmapgl": [
           {
            "colorbar": {
             "outlinewidth": 0,
             "ticks": ""
            },
            "colorscale": [
             [
              0,
              "#0d0887"
             ],
             [
              0.1111111111111111,
              "#46039f"
             ],
             [
              0.2222222222222222,
              "#7201a8"
             ],
             [
              0.3333333333333333,
              "#9c179e"
             ],
             [
              0.4444444444444444,
              "#bd3786"
             ],
             [
              0.5555555555555556,
              "#d8576b"
             ],
             [
              0.6666666666666666,
              "#ed7953"
             ],
             [
              0.7777777777777778,
              "#fb9f3a"
             ],
             [
              0.8888888888888888,
              "#fdca26"
             ],
             [
              1,
              "#f0f921"
             ]
            ],
            "type": "heatmapgl"
           }
          ],
          "histogram": [
           {
            "marker": {
             "pattern": {
              "fillmode": "overlay",
              "size": 10,
              "solidity": 0.2
             }
            },
            "type": "histogram"
           }
          ],
          "histogram2d": [
           {
            "colorbar": {
             "outlinewidth": 0,
             "ticks": ""
            },
            "colorscale": [
             [
              0,
              "#0d0887"
             ],
             [
              0.1111111111111111,
              "#46039f"
             ],
             [
              0.2222222222222222,
              "#7201a8"
             ],
             [
              0.3333333333333333,
              "#9c179e"
             ],
             [
              0.4444444444444444,
              "#bd3786"
             ],
             [
              0.5555555555555556,
              "#d8576b"
             ],
             [
              0.6666666666666666,
              "#ed7953"
             ],
             [
              0.7777777777777778,
              "#fb9f3a"
             ],
             [
              0.8888888888888888,
              "#fdca26"
             ],
             [
              1,
              "#f0f921"
             ]
            ],
            "type": "histogram2d"
           }
          ],
          "histogram2dcontour": [
           {
            "colorbar": {
             "outlinewidth": 0,
             "ticks": ""
            },
            "colorscale": [
             [
              0,
              "#0d0887"
             ],
             [
              0.1111111111111111,
              "#46039f"
             ],
             [
              0.2222222222222222,
              "#7201a8"
             ],
             [
              0.3333333333333333,
              "#9c179e"
             ],
             [
              0.4444444444444444,
              "#bd3786"
             ],
             [
              0.5555555555555556,
              "#d8576b"
             ],
             [
              0.6666666666666666,
              "#ed7953"
             ],
             [
              0.7777777777777778,
              "#fb9f3a"
             ],
             [
              0.8888888888888888,
              "#fdca26"
             ],
             [
              1,
              "#f0f921"
             ]
            ],
            "type": "histogram2dcontour"
           }
          ],
          "mesh3d": [
           {
            "colorbar": {
             "outlinewidth": 0,
             "ticks": ""
            },
            "type": "mesh3d"
           }
          ],
          "parcoords": [
           {
            "line": {
             "colorbar": {
              "outlinewidth": 0,
              "ticks": ""
             }
            },
            "type": "parcoords"
           }
          ],
          "pie": [
           {
            "automargin": true,
            "type": "pie"
           }
          ],
          "scatter": [
           {
            "fillpattern": {
             "fillmode": "overlay",
             "size": 10,
             "solidity": 0.2
            },
            "type": "scatter"
           }
          ],
          "scatter3d": [
           {
            "line": {
             "colorbar": {
              "outlinewidth": 0,
              "ticks": ""
             }
            },
            "marker": {
             "colorbar": {
              "outlinewidth": 0,
              "ticks": ""
             }
            },
            "type": "scatter3d"
           }
          ],
          "scattercarpet": [
           {
            "marker": {
             "colorbar": {
              "outlinewidth": 0,
              "ticks": ""
             }
            },
            "type": "scattercarpet"
           }
          ],
          "scattergeo": [
           {
            "marker": {
             "colorbar": {
              "outlinewidth": 0,
              "ticks": ""
             }
            },
            "type": "scattergeo"
           }
          ],
          "scattergl": [
           {
            "marker": {
             "colorbar": {
              "outlinewidth": 0,
              "ticks": ""
             }
            },
            "type": "scattergl"
           }
          ],
          "scattermapbox": [
           {
            "marker": {
             "colorbar": {
              "outlinewidth": 0,
              "ticks": ""
             }
            },
            "type": "scattermapbox"
           }
          ],
          "scatterpolar": [
           {
            "marker": {
             "colorbar": {
              "outlinewidth": 0,
              "ticks": ""
             }
            },
            "type": "scatterpolar"
           }
          ],
          "scatterpolargl": [
           {
            "marker": {
             "colorbar": {
              "outlinewidth": 0,
              "ticks": ""
             }
            },
            "type": "scatterpolargl"
           }
          ],
          "scatterternary": [
           {
            "marker": {
             "colorbar": {
              "outlinewidth": 0,
              "ticks": ""
             }
            },
            "type": "scatterternary"
           }
          ],
          "surface": [
           {
            "colorbar": {
             "outlinewidth": 0,
             "ticks": ""
            },
            "colorscale": [
             [
              0,
              "#0d0887"
             ],
             [
              0.1111111111111111,
              "#46039f"
             ],
             [
              0.2222222222222222,
              "#7201a8"
             ],
             [
              0.3333333333333333,
              "#9c179e"
             ],
             [
              0.4444444444444444,
              "#bd3786"
             ],
             [
              0.5555555555555556,
              "#d8576b"
             ],
             [
              0.6666666666666666,
              "#ed7953"
             ],
             [
              0.7777777777777778,
              "#fb9f3a"
             ],
             [
              0.8888888888888888,
              "#fdca26"
             ],
             [
              1,
              "#f0f921"
             ]
            ],
            "type": "surface"
           }
          ],
          "table": [
           {
            "cells": {
             "fill": {
              "color": "#EBF0F8"
             },
             "line": {
              "color": "white"
             }
            },
            "header": {
             "fill": {
              "color": "#C8D4E3"
             },
             "line": {
              "color": "white"
             }
            },
            "type": "table"
           }
          ]
         },
         "layout": {
          "annotationdefaults": {
           "arrowcolor": "#2a3f5f",
           "arrowhead": 0,
           "arrowwidth": 1
          },
          "autotypenumbers": "strict",
          "coloraxis": {
           "colorbar": {
            "outlinewidth": 0,
            "ticks": ""
           }
          },
          "colorscale": {
           "diverging": [
            [
             0,
             "#8e0152"
            ],
            [
             0.1,
             "#c51b7d"
            ],
            [
             0.2,
             "#de77ae"
            ],
            [
             0.3,
             "#f1b6da"
            ],
            [
             0.4,
             "#fde0ef"
            ],
            [
             0.5,
             "#f7f7f7"
            ],
            [
             0.6,
             "#e6f5d0"
            ],
            [
             0.7,
             "#b8e186"
            ],
            [
             0.8,
             "#7fbc41"
            ],
            [
             0.9,
             "#4d9221"
            ],
            [
             1,
             "#276419"
            ]
           ],
           "sequential": [
            [
             0,
             "#0d0887"
            ],
            [
             0.1111111111111111,
             "#46039f"
            ],
            [
             0.2222222222222222,
             "#7201a8"
            ],
            [
             0.3333333333333333,
             "#9c179e"
            ],
            [
             0.4444444444444444,
             "#bd3786"
            ],
            [
             0.5555555555555556,
             "#d8576b"
            ],
            [
             0.6666666666666666,
             "#ed7953"
            ],
            [
             0.7777777777777778,
             "#fb9f3a"
            ],
            [
             0.8888888888888888,
             "#fdca26"
            ],
            [
             1,
             "#f0f921"
            ]
           ],
           "sequentialminus": [
            [
             0,
             "#0d0887"
            ],
            [
             0.1111111111111111,
             "#46039f"
            ],
            [
             0.2222222222222222,
             "#7201a8"
            ],
            [
             0.3333333333333333,
             "#9c179e"
            ],
            [
             0.4444444444444444,
             "#bd3786"
            ],
            [
             0.5555555555555556,
             "#d8576b"
            ],
            [
             0.6666666666666666,
             "#ed7953"
            ],
            [
             0.7777777777777778,
             "#fb9f3a"
            ],
            [
             0.8888888888888888,
             "#fdca26"
            ],
            [
             1,
             "#f0f921"
            ]
           ]
          },
          "colorway": [
           "#636efa",
           "#EF553B",
           "#00cc96",
           "#ab63fa",
           "#FFA15A",
           "#19d3f3",
           "#FF6692",
           "#B6E880",
           "#FF97FF",
           "#FECB52"
          ],
          "font": {
           "color": "#2a3f5f"
          },
          "geo": {
           "bgcolor": "white",
           "lakecolor": "white",
           "landcolor": "#E5ECF6",
           "showlakes": true,
           "showland": true,
           "subunitcolor": "white"
          },
          "hoverlabel": {
           "align": "left"
          },
          "hovermode": "closest",
          "mapbox": {
           "style": "light"
          },
          "paper_bgcolor": "white",
          "plot_bgcolor": "#E5ECF6",
          "polar": {
           "angularaxis": {
            "gridcolor": "white",
            "linecolor": "white",
            "ticks": ""
           },
           "bgcolor": "#E5ECF6",
           "radialaxis": {
            "gridcolor": "white",
            "linecolor": "white",
            "ticks": ""
           }
          },
          "scene": {
           "xaxis": {
            "backgroundcolor": "#E5ECF6",
            "gridcolor": "white",
            "gridwidth": 2,
            "linecolor": "white",
            "showbackground": true,
            "ticks": "",
            "zerolinecolor": "white"
           },
           "yaxis": {
            "backgroundcolor": "#E5ECF6",
            "gridcolor": "white",
            "gridwidth": 2,
            "linecolor": "white",
            "showbackground": true,
            "ticks": "",
            "zerolinecolor": "white"
           },
           "zaxis": {
            "backgroundcolor": "#E5ECF6",
            "gridcolor": "white",
            "gridwidth": 2,
            "linecolor": "white",
            "showbackground": true,
            "ticks": "",
            "zerolinecolor": "white"
           }
          },
          "shapedefaults": {
           "line": {
            "color": "#2a3f5f"
           }
          },
          "ternary": {
           "aaxis": {
            "gridcolor": "white",
            "linecolor": "white",
            "ticks": ""
           },
           "baxis": {
            "gridcolor": "white",
            "linecolor": "white",
            "ticks": ""
           },
           "bgcolor": "#E5ECF6",
           "caxis": {
            "gridcolor": "white",
            "linecolor": "white",
            "ticks": ""
           }
          },
          "title": {
           "x": 0.05
          },
          "xaxis": {
           "automargin": true,
           "gridcolor": "white",
           "linecolor": "white",
           "ticks": "",
           "title": {
            "standoff": 15
           },
           "zerolinecolor": "white",
           "zerolinewidth": 2
          },
          "yaxis": {
           "automargin": true,
           "gridcolor": "white",
           "linecolor": "white",
           "ticks": "",
           "title": {
            "standoff": 15
           },
           "zerolinecolor": "white",
           "zerolinewidth": 2
          }
         }
        },
        "title": {
         "text": "DAILY_TOTAL по провайдерам с динамическим выбором времени"
        },
        "updatemenus": [
         {
          "active": 0,
          "buttons": [
           {
            "args": [
             null,
             {
              "frame": {
               "duration": 500,
               "redraw": false
              },
              "mode": "immediate",
              "transition": {
               "duration": 0
              }
             }
            ],
            "label": "Play",
            "method": "animate"
           }
          ],
          "direction": "left",
          "pad": {
           "r": 10,
           "t": 87
          },
          "showactive": false,
          "type": "buttons",
          "x": 0.1,
          "xanchor": "right",
          "y": 0,
          "yanchor": "top"
         }
        ],
        "xaxis": {
         "autorange": true,
         "range": [
          -0.5,
          17.5
         ],
         "title": {
          "text": "ID провайдера"
         },
         "type": "category"
        },
        "yaxis": {
         "autorange": true,
         "range": [
          0,
          8481608.758947399
         ],
         "title": {
          "text": "DAILY_TOTAL"
         },
         "type": "linear"
        }
       }
      },
      "image/png": "[encoded data removed]",
      "text/html": [
       "<div>                            <div id=\"da36b96a-634d-469e-b54a-5489a413d2f3\" class=\"plotly-graph-div\" style=\"height:525px; width:100%;\"></div>            <script type=\"text/javascript\">                require([\"plotly\"], function(Plotly) {                    window.PLOTLYENV=window.PLOTLYENV || {};                                    if (document.getElementById(\"da36b96a-634d-469e-b54a-5489a413d2f3\")) {                    Plotly.newPlot(                        \"da36b96a-634d-469e-b54a-5489a413d2f3\",                        [{\"x\":[0,1,2,3,4,5,6,7,8,9,10,11,12,13,14,15,16,17,18,19,20,21,22,23,24,25,26,27,28,29,30,31,32,33,34,35,36,37,38,39,40,41,42,43,44,45,46,47],\"y\":[7029963.600000001,6971573.2,4940993.389999998,8057528.321000029,7471524.320000023,10976675.490000015,22182.8,18526.8,22246.3,12480.8,843491.0550000002,748886.9739999999,1041718.5009999996,4684481.598999999,548503.8849999999,501959.495,514569.839,9811.776,8531.776,5375.776,0.0,10732.6,13488.700000000003,10935.3,0.0,0.0,0.0,0.0,0.0,2590.38,2590.38,2590.38,2590.38,2590.38,0.0,0.0,0.0,0.0,0.0,0.0,0.0,0.0,0.0,0.0,0.0,0.0,0.0,0.0],\"type\":\"bar\"}],                        {\"template\":{\"data\":{\"histogram2dcontour\":[{\"type\":\"histogram2dcontour\",\"colorbar\":{\"outlinewidth\":0,\"ticks\":\"\"},\"colorscale\":[[0.0,\"#0d0887\"],[0.1111111111111111,\"#46039f\"],[0.2222222222222222,\"#7201a8\"],[0.3333333333333333,\"#9c179e\"],[0.4444444444444444,\"#bd3786\"],[0.5555555555555556,\"#d8576b\"],[0.6666666666666666,\"#ed7953\"],[0.7777777777777778,\"#fb9f3a\"],[0.8888888888888888,\"#fdca26\"],[1.0,\"#f0f921\"]]}],\"choropleth\":[{\"type\":\"choropleth\",\"colorbar\":{\"outlinewidth\":0,\"ticks\":\"\"}}],\"histogram2d\":[{\"type\":\"histogram2d\",\"colorbar\":{\"outlinewidth\":0,\"ticks\":\"\"},\"colorscale\":[[0.0,\"#0d0887\"],[0.1111111111111111,\"#46039f\"],[0.2222222222222222,\"#7201a8\"],[0.3333333333333333,\"#9c179e\"],[0.4444444444444444,\"#bd3786\"],[0.5555555555555556,\"#d8576b\"],[0.6666666666666666,\"#ed7953\"],[0.7777777777777778,\"#fb9f3a\"],[0.8888888888888888,\"#fdca26\"],[1.0,\"#f0f921\"]]}],\"heatmap\":[{\"type\":\"heatmap\",\"colorbar\":{\"outlinewidth\":0,\"ticks\":\"\"},\"colorscale\":[[0.0,\"#0d0887\"],[0.1111111111111111,\"#46039f\"],[0.2222222222222222,\"#7201a8\"],[0.3333333333333333,\"#9c179e\"],[0.4444444444444444,\"#bd3786\"],[0.5555555555555556,\"#d8576b\"],[0.6666666666666666,\"#ed7953\"],[0.7777777777777778,\"#fb9f3a\"],[0.8888888888888888,\"#fdca26\"],[1.0,\"#f0f921\"]]}],\"heatmapgl\":[{\"type\":\"heatmapgl\",\"colorbar\":{\"outlinewidth\":0,\"ticks\":\"\"},\"colorscale\":[[0.0,\"#0d0887\"],[0.1111111111111111,\"#46039f\"],[0.2222222222222222,\"#7201a8\"],[0.3333333333333333,\"#9c179e\"],[0.4444444444444444,\"#bd3786\"],[0.5555555555555556,\"#d8576b\"],[0.6666666666666666,\"#ed7953\"],[0.7777777777777778,\"#fb9f3a\"],[0.8888888888888888,\"#fdca26\"],[1.0,\"#f0f921\"]]}],\"contourcarpet\":[{\"type\":\"contourcarpet\",\"colorbar\":{\"outlinewidth\":0,\"ticks\":\"\"}}],\"contour\":[{\"type\":\"contour\",\"colorbar\":{\"outlinewidth\":0,\"ticks\":\"\"},\"colorscale\":[[0.0,\"#0d0887\"],[0.1111111111111111,\"#46039f\"],[0.2222222222222222,\"#7201a8\"],[0.3333333333333333,\"#9c179e\"],[0.4444444444444444,\"#bd3786\"],[0.5555555555555556,\"#d8576b\"],[0.6666666666666666,\"#ed7953\"],[0.7777777777777778,\"#fb9f3a\"],[0.8888888888888888,\"#fdca26\"],[1.0,\"#f0f921\"]]}],\"surface\":[{\"type\":\"surface\",\"colorbar\":{\"outlinewidth\":0,\"ticks\":\"\"},\"colorscale\":[[0.0,\"#0d0887\"],[0.1111111111111111,\"#46039f\"],[0.2222222222222222,\"#7201a8\"],[0.3333333333333333,\"#9c179e\"],[0.4444444444444444,\"#bd3786\"],[0.5555555555555556,\"#d8576b\"],[0.6666666666666666,\"#ed7953\"],[0.7777777777777778,\"#fb9f3a\"],[0.8888888888888888,\"#fdca26\"],[1.0,\"#f0f921\"]]}],\"mesh3d\":[{\"type\":\"mesh3d\",\"colorbar\":{\"outlinewidth\":0,\"ticks\":\"\"}}],\"scatter\":[{\"fillpattern\":{\"fillmode\":\"overlay\",\"size\":10,\"solidity\":0.2},\"type\":\"scatter\"}],\"parcoords\":[{\"type\":\"parcoords\",\"line\":{\"colorbar\":{\"outlinewidth\":0,\"ticks\":\"\"}}}],\"scatterpolargl\":[{\"type\":\"scatterpolargl\",\"marker\":{\"colorbar\":{\"outlinewidth\":0,\"ticks\":\"\"}}}],\"bar\":[{\"error_x\":{\"color\":\"#2a3f5f\"},\"error_y\":{\"color\":\"#2a3f5f\"},\"marker\":{\"line\":{\"color\":\"#E5ECF6\",\"width\":0.5},\"pattern\":{\"fillmode\":\"overlay\",\"size\":10,\"solidity\":0.2}},\"type\":\"bar\"}],\"scattergeo\":[{\"type\":\"scattergeo\",\"marker\":{\"colorbar\":{\"outlinewidth\":0,\"ticks\":\"\"}}}],\"scatterpolar\":[{\"type\":\"scatterpolar\",\"marker\":{\"colorbar\":{\"outlinewidth\":0,\"ticks\":\"\"}}}],\"histogram\":[{\"marker\":{\"pattern\":{\"fillmode\":\"overlay\",\"size\":10,\"solidity\":0.2}},\"type\":\"histogram\"}],\"scattergl\":[{\"type\":\"scattergl\",\"marker\":{\"colorbar\":{\"outlinewidth\":0,\"ticks\":\"\"}}}],\"scatter3d\":[{\"type\":\"scatter3d\",\"line\":{\"colorbar\":{\"outlinewidth\":0,\"ticks\":\"\"}},\"marker\":{\"colorbar\":{\"outlinewidth\":0,\"ticks\":\"\"}}}],\"scattermapbox\":[{\"type\":\"scattermapbox\",\"marker\":{\"colorbar\":{\"outlinewidth\":0,\"ticks\":\"\"}}}],\"scatterternary\":[{\"type\":\"scatterternary\",\"marker\":{\"colorbar\":{\"outlinewidth\":0,\"ticks\":\"\"}}}],\"scattercarpet\":[{\"type\":\"scattercarpet\",\"marker\":{\"colorbar\":{\"outlinewidth\":0,\"ticks\":\"\"}}}],\"carpet\":[{\"aaxis\":{\"endlinecolor\":\"#2a3f5f\",\"gridcolor\":\"white\",\"linecolor\":\"white\",\"minorgridcolor\":\"white\",\"startlinecolor\":\"#2a3f5f\"},\"baxis\":{\"endlinecolor\":\"#2a3f5f\",\"gridcolor\":\"white\",\"linecolor\":\"white\",\"minorgridcolor\":\"white\",\"startlinecolor\":\"#2a3f5f\"},\"type\":\"carpet\"}],\"table\":[{\"cells\":{\"fill\":{\"color\":\"#EBF0F8\"},\"line\":{\"color\":\"white\"}},\"header\":{\"fill\":{\"color\":\"#C8D4E3\"},\"line\":{\"color\":\"white\"}},\"type\":\"table\"}],\"barpolar\":[{\"marker\":{\"line\":{\"color\":\"#E5ECF6\",\"width\":0.5},\"pattern\":{\"fillmode\":\"overlay\",\"size\":10,\"solidity\":0.2}},\"type\":\"barpolar\"}],\"pie\":[{\"automargin\":true,\"type\":\"pie\"}]},\"layout\":{\"autotypenumbers\":\"strict\",\"colorway\":[\"#636efa\",\"#EF553B\",\"#00cc96\",\"#ab63fa\",\"#FFA15A\",\"#19d3f3\",\"#FF6692\",\"#B6E880\",\"#FF97FF\",\"#FECB52\"],\"font\":{\"color\":\"#2a3f5f\"},\"hovermode\":\"closest\",\"hoverlabel\":{\"align\":\"left\"},\"paper_bgcolor\":\"white\",\"plot_bgcolor\":\"#E5ECF6\",\"polar\":{\"bgcolor\":\"#E5ECF6\",\"angularaxis\":{\"gridcolor\":\"white\",\"linecolor\":\"white\",\"ticks\":\"\"},\"radialaxis\":{\"gridcolor\":\"white\",\"linecolor\":\"white\",\"ticks\":\"\"}},\"ternary\":{\"bgcolor\":\"#E5ECF6\",\"aaxis\":{\"gridcolor\":\"white\",\"linecolor\":\"white\",\"ticks\":\"\"},\"baxis\":{\"gridcolor\":\"white\",\"linecolor\":\"white\",\"ticks\":\"\"},\"caxis\":{\"gridcolor\":\"white\",\"linecolor\":\"white\",\"ticks\":\"\"}},\"coloraxis\":{\"colorbar\":{\"outlinewidth\":0,\"ticks\":\"\"}},\"colorscale\":{\"sequential\":[[0.0,\"#0d0887\"],[0.1111111111111111,\"#46039f\"],[0.2222222222222222,\"#7201a8\"],[0.3333333333333333,\"#9c179e\"],[0.4444444444444444,\"#bd3786\"],[0.5555555555555556,\"#d8576b\"],[0.6666666666666666,\"#ed7953\"],[0.7777777777777778,\"#fb9f3a\"],[0.8888888888888888,\"#fdca26\"],[1.0,\"#f0f921\"]],\"sequentialminus\":[[0.0,\"#0d0887\"],[0.1111111111111111,\"#46039f\"],[0.2222222222222222,\"#7201a8\"],[0.3333333333333333,\"#9c179e\"],[0.4444444444444444,\"#bd3786\"],[0.5555555555555556,\"#d8576b\"],[0.6666666666666666,\"#ed7953\"],[0.7777777777777778,\"#fb9f3a\"],[0.8888888888888888,\"#fdca26\"],[1.0,\"#f0f921\"]],\"diverging\":[[0,\"#8e0152\"],[0.1,\"#c51b7d\"],[0.2,\"#de77ae\"],[0.3,\"#f1b6da\"],[0.4,\"#fde0ef\"],[0.5,\"#f7f7f7\"],[0.6,\"#e6f5d0\"],[0.7,\"#b8e186\"],[0.8,\"#7fbc41\"],[0.9,\"#4d9221\"],[1,\"#276419\"]]},\"xaxis\":{\"gridcolor\":\"white\",\"linecolor\":\"white\",\"ticks\":\"\",\"title\":{\"standoff\":15},\"zerolinecolor\":\"white\",\"automargin\":true,\"zerolinewidth\":2},\"yaxis\":{\"gridcolor\":\"white\",\"linecolor\":\"white\",\"ticks\":\"\",\"title\":{\"standoff\":15},\"zerolinecolor\":\"white\",\"automargin\":true,\"zerolinewidth\":2},\"scene\":{\"xaxis\":{\"backgroundcolor\":\"#E5ECF6\",\"gridcolor\":\"white\",\"linecolor\":\"white\",\"showbackground\":true,\"ticks\":\"\",\"zerolinecolor\":\"white\",\"gridwidth\":2},\"yaxis\":{\"backgroundcolor\":\"#E5ECF6\",\"gridcolor\":\"white\",\"linecolor\":\"white\",\"showbackground\":true,\"ticks\":\"\",\"zerolinecolor\":\"white\",\"gridwidth\":2},\"zaxis\":{\"backgroundcolor\":\"#E5ECF6\",\"gridcolor\":\"white\",\"linecolor\":\"white\",\"showbackground\":true,\"ticks\":\"\",\"zerolinecolor\":\"white\",\"gridwidth\":2}},\"shapedefaults\":{\"line\":{\"color\":\"#2a3f5f\"}},\"annotationdefaults\":{\"arrowcolor\":\"#2a3f5f\",\"arrowhead\":0,\"arrowwidth\":1},\"geo\":{\"bgcolor\":\"white\",\"landcolor\":\"#E5ECF6\",\"subunitcolor\":\"white\",\"showland\":true,\"showlakes\":true,\"lakecolor\":\"white\"},\"title\":{\"x\":0.05},\"mapbox\":{\"style\":\"light\"}}},\"xaxis\":{\"title\":{\"text\":\"ID \\u043f\\u0440\\u043e\\u0432\\u0430\\u0439\\u0434\\u0435\\u0440\\u0430\"},\"type\":\"category\"},\"title\":{\"text\":\"DAILY_TOTAL \\u043f\\u043e \\u043f\\u0440\\u043e\\u0432\\u0430\\u0439\\u0434\\u0435\\u0440\\u0430\\u043c \\u0441 \\u0434\\u0438\\u043d\\u0430\\u043c\\u0438\\u0447\\u0435\\u0441\\u043a\\u0438\\u043c \\u0432\\u044b\\u0431\\u043e\\u0440\\u043e\\u043c \\u0432\\u0440\\u0435\\u043c\\u0435\\u043d\\u0438\"},\"yaxis\":{\"title\":{\"text\":\"DAILY_TOTAL\"}},\"sliders\":[{\"active\":0,\"currentvalue\":{\"font\":{\"size\":20},\"prefix\":\"\\u0412\\u0440\\u0435\\u043c\\u044f: \",\"visible\":true,\"xanchor\":\"center\"},\"pad\":{\"b\":10},\"steps\":[{\"args\":[[\"2024-11-24 21:00:00\"],{\"frame\":{\"duration\":300,\"redraw\":true},\"mode\":\"immediate\",\"transition\":{\"duration\":300,\"easing\":\"cubic-in-out\"}}],\"label\":\"2024-11-24 21:00:00\",\"method\":\"animate\"},{\"args\":[[\"2024-11-24 22:00:00\"],{\"frame\":{\"duration\":300,\"redraw\":true},\"mode\":\"immediate\",\"transition\":{\"duration\":300,\"easing\":\"cubic-in-out\"}}],\"label\":\"2024-11-24 22:00:00\",\"method\":\"animate\"},{\"args\":[[\"2024-11-24 23:00:00\"],{\"frame\":{\"duration\":300,\"redraw\":true},\"mode\":\"immediate\",\"transition\":{\"duration\":300,\"easing\":\"cubic-in-out\"}}],\"label\":\"2024-11-24 23:00:00\",\"method\":\"animate\"},{\"args\":[[\"2024-11-25 00:00:00\"],{\"frame\":{\"duration\":300,\"redraw\":true},\"mode\":\"immediate\",\"transition\":{\"duration\":300,\"easing\":\"cubic-in-out\"}}],\"label\":\"2024-11-25 00:00:00\",\"method\":\"animate\"},{\"args\":[[\"2024-11-25 01:00:00\"],{\"frame\":{\"duration\":300,\"redraw\":true},\"mode\":\"immediate\",\"transition\":{\"duration\":300,\"easing\":\"cubic-in-out\"}}],\"label\":\"2024-11-25 01:00:00\",\"method\":\"animate\"},{\"args\":[[\"2024-11-25 02:00:00\"],{\"frame\":{\"duration\":300,\"redraw\":true},\"mode\":\"immediate\",\"transition\":{\"duration\":300,\"easing\":\"cubic-in-out\"}}],\"label\":\"2024-11-25 02:00:00\",\"method\":\"animate\"},{\"args\":[[\"2024-11-25 03:00:00\"],{\"frame\":{\"duration\":300,\"redraw\":true},\"mode\":\"immediate\",\"transition\":{\"duration\":300,\"easing\":\"cubic-in-out\"}}],\"label\":\"2024-11-25 03:00:00\",\"method\":\"animate\"},{\"args\":[[\"2024-11-25 04:00:00\"],{\"frame\":{\"duration\":300,\"redraw\":true},\"mode\":\"immediate\",\"transition\":{\"duration\":300,\"easing\":\"cubic-in-out\"}}],\"label\":\"2024-11-25 04:00:00\",\"method\":\"animate\"},{\"args\":[[\"2024-11-25 05:00:00\"],{\"frame\":{\"duration\":300,\"redraw\":true},\"mode\":\"immediate\",\"transition\":{\"duration\":300,\"easing\":\"cubic-in-out\"}}],\"label\":\"2024-11-25 05:00:00\",\"method\":\"animate\"},{\"args\":[[\"2024-11-25 06:00:00\"],{\"frame\":{\"duration\":300,\"redraw\":true},\"mode\":\"immediate\",\"transition\":{\"duration\":300,\"easing\":\"cubic-in-out\"}}],\"label\":\"2024-11-25 06:00:00\",\"method\":\"animate\"},{\"args\":[[\"2024-11-25 07:00:00\"],{\"frame\":{\"duration\":300,\"redraw\":true},\"mode\":\"immediate\",\"transition\":{\"duration\":300,\"easing\":\"cubic-in-out\"}}],\"label\":\"2024-11-25 07:00:00\",\"method\":\"animate\"},{\"args\":[[\"2024-11-25 08:00:00\"],{\"frame\":{\"duration\":300,\"redraw\":true},\"mode\":\"immediate\",\"transition\":{\"duration\":300,\"easing\":\"cubic-in-out\"}}],\"label\":\"2024-11-25 08:00:00\",\"method\":\"animate\"},{\"args\":[[\"2024-11-25 09:00:00\"],{\"frame\":{\"duration\":300,\"redraw\":true},\"mode\":\"immediate\",\"transition\":{\"duration\":300,\"easing\":\"cubic-in-out\"}}],\"label\":\"2024-11-25 09:00:00\",\"method\":\"animate\"},{\"args\":[[\"2024-11-25 10:00:00\"],{\"frame\":{\"duration\":300,\"redraw\":true},\"mode\":\"immediate\",\"transition\":{\"duration\":300,\"easing\":\"cubic-in-out\"}}],\"label\":\"2024-11-25 10:00:00\",\"method\":\"animate\"},{\"args\":[[\"2024-11-25 11:00:00\"],{\"frame\":{\"duration\":300,\"redraw\":true},\"mode\":\"immediate\",\"transition\":{\"duration\":300,\"easing\":\"cubic-in-out\"}}],\"label\":\"2024-11-25 11:00:00\",\"method\":\"animate\"},{\"args\":[[\"2024-11-25 12:00:00\"],{\"frame\":{\"duration\":300,\"redraw\":true},\"mode\":\"immediate\",\"transition\":{\"duration\":300,\"easing\":\"cubic-in-out\"}}],\"label\":\"2024-11-25 12:00:00\",\"method\":\"animate\"},{\"args\":[[\"2024-11-25 13:00:00\"],{\"frame\":{\"duration\":300,\"redraw\":true},\"mode\":\"immediate\",\"transition\":{\"duration\":300,\"easing\":\"cubic-in-out\"}}],\"label\":\"2024-11-25 13:00:00\",\"method\":\"animate\"},{\"args\":[[\"2024-11-25 14:00:00\"],{\"frame\":{\"duration\":300,\"redraw\":true},\"mode\":\"immediate\",\"transition\":{\"duration\":300,\"easing\":\"cubic-in-out\"}}],\"label\":\"2024-11-25 14:00:00\",\"method\":\"animate\"},{\"args\":[[\"2024-11-25 15:00:00\"],{\"frame\":{\"duration\":300,\"redraw\":true},\"mode\":\"immediate\",\"transition\":{\"duration\":300,\"easing\":\"cubic-in-out\"}}],\"label\":\"2024-11-25 15:00:00\",\"method\":\"animate\"},{\"args\":[[\"2024-11-25 16:00:00\"],{\"frame\":{\"duration\":300,\"redraw\":true},\"mode\":\"immediate\",\"transition\":{\"duration\":300,\"easing\":\"cubic-in-out\"}}],\"label\":\"2024-11-25 16:00:00\",\"method\":\"animate\"},{\"args\":[[\"2024-11-25 17:00:00\"],{\"frame\":{\"duration\":300,\"redraw\":true},\"mode\":\"immediate\",\"transition\":{\"duration\":300,\"easing\":\"cubic-in-out\"}}],\"label\":\"2024-11-25 17:00:00\",\"method\":\"animate\"},{\"args\":[[\"2024-11-25 18:00:00\"],{\"frame\":{\"duration\":300,\"redraw\":true},\"mode\":\"immediate\",\"transition\":{\"duration\":300,\"easing\":\"cubic-in-out\"}}],\"label\":\"2024-11-25 18:00:00\",\"method\":\"animate\"},{\"args\":[[\"2024-11-25 19:00:00\"],{\"frame\":{\"duration\":300,\"redraw\":true},\"mode\":\"immediate\",\"transition\":{\"duration\":300,\"easing\":\"cubic-in-out\"}}],\"label\":\"2024-11-25 19:00:00\",\"method\":\"animate\"},{\"args\":[[\"2024-11-25 20:00:00\"],{\"frame\":{\"duration\":300,\"redraw\":true},\"mode\":\"immediate\",\"transition\":{\"duration\":300,\"easing\":\"cubic-in-out\"}}],\"label\":\"2024-11-25 20:00:00\",\"method\":\"animate\"},{\"args\":[[\"2024-11-25 21:00:00\"],{\"frame\":{\"duration\":300,\"redraw\":true},\"mode\":\"immediate\",\"transition\":{\"duration\":300,\"easing\":\"cubic-in-out\"}}],\"label\":\"2024-11-25 21:00:00\",\"method\":\"animate\"}]}],\"updatemenus\":[{\"buttons\":[{\"args\":[null,{\"frame\":{\"duration\":500,\"redraw\":false},\"mode\":\"immediate\",\"transition\":{\"duration\":0}}],\"label\":\"Play\",\"method\":\"animate\"}],\"direction\":\"left\",\"pad\":{\"r\":10,\"t\":87},\"showactive\":false,\"type\":\"buttons\",\"x\":0.1,\"xanchor\":\"right\",\"y\":0,\"yanchor\":\"top\"}],\"showlegend\":false},                        {\"responsive\": true}                    ).then(function(){\n",
       "                            Plotly.addFrames('da36b96a-634d-469e-b54a-5489a413d2f3', [{\"data\":[{\"name\":\"2024-11-24 21:00:00\",\"x\":[0,1,2,3,4,5,6,7,8,9,10,11,12,13,14,15,16,17,18,19,20,21,22,23,24,25,26,27,28,29,30,31,32,33,34,35,36,37,38,39,40,41,42,43,44,45,46,47],\"y\":[7029963.600000001,6971573.2,4940993.389999998,8057528.321000029,7471524.320000023,10976675.490000015,22182.8,18526.8,22246.3,12480.8,843491.0550000002,748886.9739999999,1041718.5009999996,4684481.598999999,548503.8849999999,501959.495,514569.839,9811.776,8531.776,5375.776,0.0,10732.6,13488.700000000003,10935.3,0.0,0.0,0.0,0.0,0.0,2590.38,2590.38,2590.38,2590.38,2590.38,0.0,0.0,0.0,0.0,0.0,0.0,0.0,0.0,0.0,0.0,0.0,0.0,0.0,0.0],\"type\":\"bar\"}],\"name\":\"2024-11-24 21:00:00\"},{\"data\":[{\"name\":\"2024-11-24 22:00:00\",\"x\":[1,4,6,7,11,11,22,24,27,31,32,36,38,41,45],\"y\":[6971573.2,7471524.320000023,22182.8,18526.8,748886.9739999999,748886.9739999999,13488.700000000003,0.0,0.0,2590.38,2590.38,0.0,0.0,0.0,0.0],\"type\":\"bar\"}],\"name\":\"2024-11-24 22:00:00\"},{\"data\":[{\"name\":\"2024-11-24 23:00:00\",\"x\":[0,4,8,10,13,14,15,23,24,28,29,33,29,36,34,35,47,45],\"y\":[7029963.600000001,7471524.320000023,22246.3,843491.0550000002,4684481.598999999,548503.8849999999,501959.495,10935.3,0.0,0.0,2590.38,2590.38,2590.38,0.0,0.0,0.0,0.0,0.0],\"type\":\"bar\"}],\"name\":\"2024-11-24 23:00:00\"},{\"data\":[{\"name\":\"2024-11-25 00:00:00\",\"x\":[1,9,6,6,12,14,17,18,17,20,22,24,36,35,36,40,40,39,47,45],\"y\":[6971573.2,12480.8,22182.8,22182.8,1041718.5009999996,548503.8849999999,9811.776,8531.776,9811.776,0.0,13488.700000000003,0.0,0.0,0.0,0.0,0.0,0.0,0.0,0.0,0.0],\"type\":\"bar\"}],\"name\":\"2024-11-25 00:00:00\"},{\"data\":[{\"name\":\"2024-11-25 01:00:00\",\"x\":[1,0,5,4,8,8,8,11,13,21,23,24,31,32,35,38,42,40,47,44,43,45],\"y\":[6971573.2,7029963.600000001,10976675.490000015,7471524.320000023,22246.3,22246.3,22246.3,748886.9739999999,4684481.598999999,10732.6,10935.3,0.0,2590.38,2590.38,0.0,0.0,0.0,0.0,0.0,0.0,0.0,0.0],\"type\":\"bar\"}],\"name\":\"2024-11-25 01:00:00\"},{\"data\":[{\"name\":\"2024-11-25 02:00:00\",\"x\":[1,0,6,7,8,12,12,13,15,18,19,20,25,24,33,33,31,36,35,41,46],\"y\":[6971573.2,7029963.600000001,22182.8,18526.8,22246.3,1041718.5009999996,1041718.5009999996,4684481.598999999,501959.495,8531.776,5375.776,0.0,0.0,0.0,2590.38,2590.38,2590.38,0.0,0.0,0.0,0.0],\"type\":\"bar\"}],\"name\":\"2024-11-25 02:00:00\"},{\"data\":[{\"name\":\"2024-11-25 03:00:00\",\"x\":[0,3,8,12,13,14,16,17,21,22,25,24,28,33,36,37,41],\"y\":[7029963.600000001,8057528.321000029,22246.3,1041718.5009999996,4684481.598999999,548503.8849999999,514569.839,9811.776,10732.6,13488.700000000003,0.0,0.0,0.0,2590.38,0.0,0.0,0.0],\"type\":\"bar\"}],\"name\":\"2024-11-25 03:00:00\"},{\"data\":[{\"name\":\"2024-11-25 04:00:00\",\"x\":[3,8,8,10,13,16,14,17,18,22,27,28,33,38,37,42,39,45,44],\"y\":[8057528.321000029,22246.3,22246.3,843491.0550000002,4684481.598999999,514569.839,548503.8849999999,9811.776,8531.776,13488.700000000003,0.0,0.0,2590.38,0.0,0.0,0.0,0.0,0.0,0.0],\"type\":\"bar\"}],\"name\":\"2024-11-25 04:00:00\"},{\"data\":[{\"name\":\"2024-11-25 05:00:00\",\"x\":[1,1,2,2,7,10,10,13,20,21,22,24,26,36,36,41,42,44,43,45],\"y\":[6971573.2,6971573.2,4940993.389999998,4940993.389999998,18526.8,843491.0550000002,843491.0550000002,4684481.598999999,0.0,10732.6,13488.700000000003,0.0,0.0,0.0,0.0,0.0,0.0,0.0,0.0,0.0],\"type\":\"bar\"}],\"name\":\"2024-11-25 05:00:00\"},{\"data\":[{\"name\":\"2024-11-25 06:00:00\",\"x\":[0,2,4,5,5,6,9,12,12,14,14,18,20,25,28,34,37,36,42,47,45,43],\"y\":[7029963.600000001,4940993.389999998,7471524.320000023,10976675.490000015,10976675.490000015,22182.8,12480.8,1041718.5009999996,1041718.5009999996,548503.8849999999,548503.8849999999,8531.776,0.0,0.0,0.0,0.0,0.0,0.0,0.0,0.0,0.0,0.0],\"type\":\"bar\"}],\"name\":\"2024-11-25 06:00:00\"},{\"data\":[{\"name\":\"2024-11-25 07:00:00\",\"x\":[0,0,3,5,7,7,9,10,16,18,20,21,23,22,25,26,28,30,30,31,46],\"y\":[7029963.600000001,7029963.600000001,8057528.321000029,10976675.490000015,18526.8,18526.8,12480.8,843491.0550000002,514569.839,8531.776,0.0,10732.6,10935.3,13488.700000000003,0.0,0.0,0.0,2590.38,2590.38,2590.38,0.0],\"type\":\"bar\"}],\"name\":\"2024-11-25 07:00:00\"},{\"data\":[{\"name\":\"2024-11-25 08:00:00\",\"x\":[1,2,7,8,11,13,16,17,18,19,22,22,30,30,31,32,35,36,39,42,39,46],\"y\":[6971573.2,4940993.389999998,18526.8,22246.3,748886.9739999999,4684481.598999999,514569.839,9811.776,8531.776,5375.776,13488.700000000003,13488.700000000003,2590.38,2590.38,2590.38,2590.38,0.0,0.0,0.0,0.0,0.0,0.0],\"type\":\"bar\"}],\"name\":\"2024-11-25 08:00:00\"},{\"data\":[{\"name\":\"2024-11-25 09:00:00\",\"x\":[3,2,2,4,7,7,11,15,22,30,31,38,38,39,39,40,46,44,47],\"y\":[8057528.321000029,4940993.389999998,4940993.389999998,7471524.320000023,18526.8,18526.8,748886.9739999999,501959.495,13488.700000000003,2590.38,2590.38,0.0,0.0,0.0,0.0,0.0,0.0,0.0,0.0],\"type\":\"bar\"}],\"name\":\"2024-11-25 09:00:00\"},{\"data\":[{\"name\":\"2024-11-25 10:00:00\",\"x\":[1,2,11,16,15,19,18,20,21,21,25,24,28,31,34,36,34,40,45,45],\"y\":[6971573.2,4940993.389999998,748886.9739999999,514569.839,501959.495,5375.776,8531.776,0.0,10732.6,10732.6,0.0,0.0,0.0,2590.38,0.0,0.0,0.0,0.0,0.0,0.0],\"type\":\"bar\"}],\"name\":\"2024-11-25 10:00:00\"},{\"data\":[{\"name\":\"2024-11-25 11:00:00\",\"x\":[1,1,4,2,4,9,11,11,13,15,22,25,27,28,33,31,33,36,36,34,39,46],\"y\":[6971573.2,6971573.2,7471524.320000023,4940993.389999998,7471524.320000023,12480.8,748886.9739999999,748886.9739999999,4684481.598999999,501959.495,13488.700000000003,0.0,0.0,0.0,2590.38,2590.38,2590.38,0.0,0.0,0.0,0.0,0.0],\"type\":\"bar\"}],\"name\":\"2024-11-25 11:00:00\"},{\"data\":[{\"name\":\"2024-11-25 12:00:00\",\"x\":[4,4,6,6,15,14,18,24,26,32,29,38,34,42,44],\"y\":[7471524.320000023,7471524.320000023,22182.8,22182.8,501959.495,548503.8849999999,8531.776,0.0,0.0,2590.38,2590.38,0.0,0.0,0.0,0.0],\"type\":\"bar\"}],\"name\":\"2024-11-25 12:00:00\"},{\"data\":[{\"name\":\"2024-11-25 13:00:00\",\"x\":[0,0,3,4,3,7,13,14,17,25,25,31,31,36,35,39,45,44],\"y\":[7029963.600000001,7029963.600000001,8057528.321000029,7471524.320000023,8057528.321000029,18526.8,4684481.598999999,548503.8849999999,9811.776,0.0,0.0,2590.38,2590.38,0.0,0.0,0.0,0.0,0.0],\"type\":\"bar\"}],\"name\":\"2024-11-25 13:00:00\"},{\"data\":[{\"name\":\"2024-11-25 14:00:00\",\"x\":[4,2,3,9,7,18,19,20,22,24,26,33,33,29,35,36,37,41,41,42,43,47],\"y\":[7471524.320000023,4940993.389999998,8057528.321000029,12480.8,18526.8,8531.776,5375.776,0.0,13488.700000000003,0.0,0.0,2590.38,2590.38,2590.38,0.0,0.0,0.0,0.0,0.0,0.0,0.0,0.0],\"type\":\"bar\"}],\"name\":\"2024-11-25 14:00:00\"},{\"data\":[{\"name\":\"2024-11-25 15:00:00\",\"x\":[1,2,6,10,11,13,15,14,18,17,18,23,29,29,37,37,39,44],\"y\":[6971573.2,4940993.389999998,22182.8,843491.0550000002,748886.9739999999,4684481.598999999,501959.495,548503.8849999999,8531.776,9811.776,8531.776,10935.3,2590.38,2590.38,0.0,0.0,0.0,0.0],\"type\":\"bar\"}],\"name\":\"2024-11-25 15:00:00\"},{\"data\":[{\"name\":\"2024-11-25 16:00:00\",\"x\":[3,3,4,10,10,13,15,16,17,22,25,24,26,33,33,29,34,39,47,44],\"y\":[8057528.321000029,8057528.321000029,7471524.320000023,843491.0550000002,843491.0550000002,4684481.598999999,501959.495,514569.839,9811.776,13488.700000000003,0.0,0.0,0.0,2590.38,2590.38,2590.38,0.0,0.0,0.0,0.0],\"type\":\"bar\"}],\"name\":\"2024-11-25 16:00:00\"},{\"data\":[{\"name\":\"2024-11-25 17:00:00\",\"x\":[0,2,9,9,12,11,15,20,21,26,29,30,29,34,39,44,45,45],\"y\":[7029963.600000001,4940993.389999998,12480.8,12480.8,1041718.5009999996,748886.9739999999,501959.495,0.0,10732.6,0.0,2590.38,2590.38,2590.38,0.0,0.0,0.0,0.0,0.0],\"type\":\"bar\"}],\"name\":\"2024-11-25 17:00:00\"},{\"data\":[{\"name\":\"2024-11-25 18:00:00\",\"x\":[1,5,5,3,6,9,12,10,15,19,20,22,25,28,33,29,40,41,41,46,45,47],\"y\":[6971573.2,10976675.490000015,10976675.490000015,8057528.321000029,22182.8,12480.8,1041718.5009999996,843491.0550000002,501959.495,5375.776,0.0,13488.700000000003,0.0,0.0,2590.38,2590.38,0.0,0.0,0.0,0.0,0.0,0.0],\"type\":\"bar\"}],\"name\":\"2024-11-25 18:00:00\"},{\"data\":[{\"name\":\"2024-11-25 19:00:00\",\"x\":[4,5,7,7,11,19,22,23,28,27,29,32,36,35,45],\"y\":[7471524.320000023,10976675.490000015,18526.8,18526.8,748886.9739999999,5375.776,13488.700000000003,10935.3,0.0,0.0,2590.38,2590.38,0.0,0.0,0.0],\"type\":\"bar\"}],\"name\":\"2024-11-25 19:00:00\"},{\"data\":[{\"name\":\"2024-11-25 20:00:00\",\"x\":[0,2,3,7,9,13,14,19,22,25,26,26,30,34,34,42,39,40,47,44],\"y\":[7029963.600000001,4940993.389999998,8057528.321000029,18526.8,12480.8,4684481.598999999,548503.8849999999,5375.776,13488.700000000003,0.0,0.0,0.0,2590.38,0.0,0.0,0.0,0.0,0.0,0.0,0.0],\"type\":\"bar\"}],\"name\":\"2024-11-25 20:00:00\"},{\"data\":[{\"name\":\"2024-11-25 21:00:00\",\"x\":[0,2,7,8,6,10,14,14,17,21,26,32,29,32,36,38,44],\"y\":[7029963.600000001,4940993.389999998,18526.8,22246.3,22182.8,843491.0550000002,548503.8849999999,548503.8849999999,9811.776,10732.6,0.0,2590.38,2590.38,2590.38,0.0,0.0,0.0],\"type\":\"bar\"}],\"name\":\"2024-11-25 21:00:00\"}]);\n",
       "                        }).then(function(){\n",
       "                            \n",
       "var gd = document.getElementById('da36b96a-634d-469e-b54a-5489a413d2f3');\n",
       "var x = new MutationObserver(function (mutations, observer) {{\n",
       "        var display = window.getComputedStyle(gd).display;\n",
       "        if (!display || display === 'none') {{\n",
       "            console.log([gd, 'removed!']);\n",
       "            Plotly.purge(gd);\n",
       "            observer.disconnect();\n",
       "        }}\n",
       "}});\n",
       "\n",
       "// Listen for the removal of the full notebook cells\n",
       "var notebookContainer = gd.closest('#notebook-container');\n",
       "if (notebookContainer) {{\n",
       "    x.observe(notebookContainer, {childList: true});\n",
       "}}\n",
       "\n",
       "// Listen for the clearing of the current output cell\n",
       "var outputEl = gd.closest('.output');\n",
       "if (outputEl) {{\n",
       "    x.observe(outputEl, {childList: true});\n",
       "}}\n",
       "\n",
       "                        })                };                });            </script>        </div>"
      ]
     },
     "metadata": {},
     "output_type": "display_data"
    }
   ],
   "source": [
    "# Уникальные временные метки, отсортированные по возрастанию\n",
    "time_values = sorted(df['TIME'].unique())\n",
    "\n",
    "# Создаем фигуру\n",
    "fig = go.Figure()\n",
    "\n",
    "# Добавляем фреймы для анимации (для каждой временной метки)\n",
    "frames = [\n",
    "    go.Frame(\n",
    "        data=[go.Bar(\n",
    "            x=df[df['TIME'] == time]['ID'],  # ID провайдеров по оси X\n",
    "            y=df[df['TIME'] == time]['DAILY_TOTAL'],  # Значения DAILY_TOTAL по оси Y\n",
    "            name=str(time),  # Название для временной метки\n",
    "        )],\n",
    "        name=str(time)  # Название фрейма для времени\n",
    "    ) \n",
    "    for time in time_values\n",
    "]\n",
    "\n",
    "# Добавляем первый фрейм для инициализации\n",
    "fig.add_trace(go.Bar(\n",
    "    x=df[df['TIME'] == time_values[0]]['ID'], \n",
    "    y=df[df['TIME'] == time_values[0]]['DAILY_TOTAL'],\n",
    "))\n",
    "\n",
    "# Шаги слайдера для управления анимацией\n",
    "steps = [\n",
    "    {\n",
    "        'args': [\n",
    "            [str(time)],  # Показывать данные для выбранного времени\n",
    "            {\n",
    "                'frame': {'duration': 300, 'redraw': True},  # Задержка на 300 мс\n",
    "                'mode': 'immediate',\n",
    "                'transition': {'duration': 300, 'easing': 'cubic-in-out'}\n",
    "            }\n",
    "        ],\n",
    "        'label': str(time),  # Метка с временной меткой\n",
    "        'method': 'animate'  # Метод анимации\n",
    "    }\n",
    "    for time in time_values\n",
    "]\n",
    "\n",
    "# Настройка слайдера\n",
    "sliders = [\n",
    "    {\n",
    "        'active': 0,  # Начальный шаг слайдера\n",
    "        'currentvalue': {\n",
    "            'font': {'size': 20},\n",
    "            'prefix': 'Время: ',\n",
    "            'visible': True,\n",
    "            'xanchor': 'center',\n",
    "        },\n",
    "        'pad': {'b': 10},\n",
    "        'steps': steps,\n",
    "    }\n",
    "]\n",
    "\n",
    "# Обновляем макет графика\n",
    "fig.update_layout(\n",
    "    title=\"DAILY_TOTAL по провайдерам с динамическим выбором времени\",\n",
    "    xaxis=dict(\n",
    "        title='ID провайдера',\n",
    "        type='category',  # Чтобы ID провайдеров отображались как категории\n",
    "    ),\n",
    "    yaxis=dict(\n",
    "        title='DAILY_TOTAL',\n",
    "    ),\n",
    "    sliders=sliders,\n",
    "    updatemenus=[{\n",
    "        'buttons': [{\n",
    "            'args': [None, {'frame': {'duration': 500, 'redraw': False}, 'mode': 'immediate', 'transition': {'duration': 0}}],\n",
    "            'label': 'Play',\n",
    "            'method': 'animate'\n",
    "        }],\n",
    "        'direction': 'left',\n",
    "        'pad': {'r': 10, 't': 87},\n",
    "        'showactive': False,\n",
    "        'type': 'buttons',\n",
    "        'x': 0.1,\n",
    "        'xanchor': 'right',\n",
    "        'y': 0,\n",
    "        'yanchor': 'top'\n",
    "    }],\n",
    "    showlegend=False\n",
    ")\n",
    "\n",
    "# Добавляем фреймы\n",
    "fig.frames = frames  # Интегрируем фреймы в график\n",
    "\n",
    "# Отображаем график\n",
    "fig.show()"
   ]
  },
  {
   "cell_type": "code",
   "execution_count": 53,
   "id": "254334fb-e656-439d-8227-0f6b8283dd00",
   "metadata": {},
   "outputs": [
    {
     "data": {
      "application/vnd.plotly.v1+json": {
       "config": {
        "plotlyServerURL": "https://plot.ly"
       },
       "data": [
        {
         "marker": {
          "color": "rgb(55, 83, 109)"
         },
         "type": "bar",
         "x": [
          0,
          1,
          2,
          3,
          4,
          5,
          6,
          7,
          8,
          9,
          10,
          11,
          12,
          13,
          14,
          15,
          16,
          17,
          18,
          19,
          20,
          21,
          22,
          23,
          24,
          25,
          26,
          27,
          28,
          29,
          30,
          31,
          32,
          33,
          34,
          35,
          36,
          37,
          38,
          39,
          40,
          41,
          42,
          43,
          44,
          45,
          46,
          47
         ],
         "y": [
          7029963.600000001,
          6971573.2,
          4940993.389999998,
          8057528.321000029,
          7471524.320000023,
          10976675.490000015,
          22182.8,
          18526.8,
          22246.3,
          12480.8,
          843491.0550000002,
          748886.9739999999,
          1041718.5009999996,
          4684481.598999999,
          548503.8849999999,
          501959.495,
          514569.839,
          9811.776,
          8531.776,
          5375.776,
          0,
          10732.6,
          13488.700000000003,
          10935.3,
          0,
          0,
          0,
          0,
          0,
          2590.38,
          2590.38,
          2590.38,
          2590.38,
          2590.38,
          0,
          0,
          0,
          0,
          0,
          0,
          0,
          0,
          0,
          0,
          0,
          0,
          0,
          0
         ]
        }
       ],
       "layout": {
        "autosize": true,
        "showlegend": false,
        "template": {
         "data": {
          "bar": [
           {
            "error_x": {
             "color": "#2a3f5f"
            },
            "error_y": {
             "color": "#2a3f5f"
            },
            "marker": {
             "line": {
              "color": "#E5ECF6",
              "width": 0.5
             },
             "pattern": {
              "fillmode": "overlay",
              "size": 10,
              "solidity": 0.2
             }
            },
            "type": "bar"
           }
          ],
          "barpolar": [
           {
            "marker": {
             "line": {
              "color": "#E5ECF6",
              "width": 0.5
             },
             "pattern": {
              "fillmode": "overlay",
              "size": 10,
              "solidity": 0.2
             }
            },
            "type": "barpolar"
           }
          ],
          "carpet": [
           {
            "aaxis": {
             "endlinecolor": "#2a3f5f",
             "gridcolor": "white",
             "linecolor": "white",
             "minorgridcolor": "white",
             "startlinecolor": "#2a3f5f"
            },
            "baxis": {
             "endlinecolor": "#2a3f5f",
             "gridcolor": "white",
             "linecolor": "white",
             "minorgridcolor": "white",
             "startlinecolor": "#2a3f5f"
            },
            "type": "carpet"
           }
          ],
          "choropleth": [
           {
            "colorbar": {
             "outlinewidth": 0,
             "ticks": ""
            },
            "type": "choropleth"
           }
          ],
          "contour": [
           {
            "colorbar": {
             "outlinewidth": 0,
             "ticks": ""
            },
            "colorscale": [
             [
              0,
              "#0d0887"
             ],
             [
              0.1111111111111111,
              "#46039f"
             ],
             [
              0.2222222222222222,
              "#7201a8"
             ],
             [
              0.3333333333333333,
              "#9c179e"
             ],
             [
              0.4444444444444444,
              "#bd3786"
             ],
             [
              0.5555555555555556,
              "#d8576b"
             ],
             [
              0.6666666666666666,
              "#ed7953"
             ],
             [
              0.7777777777777778,
              "#fb9f3a"
             ],
             [
              0.8888888888888888,
              "#fdca26"
             ],
             [
              1,
              "#f0f921"
             ]
            ],
            "type": "contour"
           }
          ],
          "contourcarpet": [
           {
            "colorbar": {
             "outlinewidth": 0,
             "ticks": ""
            },
            "type": "contourcarpet"
           }
          ],
          "heatmap": [
           {
            "colorbar": {
             "outlinewidth": 0,
             "ticks": ""
            },
            "colorscale": [
             [
              0,
              "#0d0887"
             ],
             [
              0.1111111111111111,
              "#46039f"
             ],
             [
              0.2222222222222222,
              "#7201a8"
             ],
             [
              0.3333333333333333,
              "#9c179e"
             ],
             [
              0.4444444444444444,
              "#bd3786"
             ],
             [
              0.5555555555555556,
              "#d8576b"
             ],
             [
              0.6666666666666666,
              "#ed7953"
             ],
             [
              0.7777777777777778,
              "#fb9f3a"
             ],
             [
              0.8888888888888888,
              "#fdca26"
             ],
             [
              1,
              "#f0f921"
             ]
            ],
            "type": "heatmap"
           }
          ],
          "heatmapgl": [
           {
            "colorbar": {
             "outlinewidth": 0,
             "ticks": ""
            },
            "colorscale": [
             [
              0,
              "#0d0887"
             ],
             [
              0.1111111111111111,
              "#46039f"
             ],
             [
              0.2222222222222222,
              "#7201a8"
             ],
             [
              0.3333333333333333,
              "#9c179e"
             ],
             [
              0.4444444444444444,
              "#bd3786"
             ],
             [
              0.5555555555555556,
              "#d8576b"
             ],
             [
              0.6666666666666666,
              "#ed7953"
             ],
             [
              0.7777777777777778,
              "#fb9f3a"
             ],
             [
              0.8888888888888888,
              "#fdca26"
             ],
             [
              1,
              "#f0f921"
             ]
            ],
            "type": "heatmapgl"
           }
          ],
          "histogram": [
           {
            "marker": {
             "pattern": {
              "fillmode": "overlay",
              "size": 10,
              "solidity": 0.2
             }
            },
            "type": "histogram"
           }
          ],
          "histogram2d": [
           {
            "colorbar": {
             "outlinewidth": 0,
             "ticks": ""
            },
            "colorscale": [
             [
              0,
              "#0d0887"
             ],
             [
              0.1111111111111111,
              "#46039f"
             ],
             [
              0.2222222222222222,
              "#7201a8"
             ],
             [
              0.3333333333333333,
              "#9c179e"
             ],
             [
              0.4444444444444444,
              "#bd3786"
             ],
             [
              0.5555555555555556,
              "#d8576b"
             ],
             [
              0.6666666666666666,
              "#ed7953"
             ],
             [
              0.7777777777777778,
              "#fb9f3a"
             ],
             [
              0.8888888888888888,
              "#fdca26"
             ],
             [
              1,
              "#f0f921"
             ]
            ],
            "type": "histogram2d"
           }
          ],
          "histogram2dcontour": [
           {
            "colorbar": {
             "outlinewidth": 0,
             "ticks": ""
            },
            "colorscale": [
             [
              0,
              "#0d0887"
             ],
             [
              0.1111111111111111,
              "#46039f"
             ],
             [
              0.2222222222222222,
              "#7201a8"
             ],
             [
              0.3333333333333333,
              "#9c179e"
             ],
             [
              0.4444444444444444,
              "#bd3786"
             ],
             [
              0.5555555555555556,
              "#d8576b"
             ],
             [
              0.6666666666666666,
              "#ed7953"
             ],
             [
              0.7777777777777778,
              "#fb9f3a"
             ],
             [
              0.8888888888888888,
              "#fdca26"
             ],
             [
              1,
              "#f0f921"
             ]
            ],
            "type": "histogram2dcontour"
           }
          ],
          "mesh3d": [
           {
            "colorbar": {
             "outlinewidth": 0,
             "ticks": ""
            },
            "type": "mesh3d"
           }
          ],
          "parcoords": [
           {
            "line": {
             "colorbar": {
              "outlinewidth": 0,
              "ticks": ""
             }
            },
            "type": "parcoords"
           }
          ],
          "pie": [
           {
            "automargin": true,
            "type": "pie"
           }
          ],
          "scatter": [
           {
            "fillpattern": {
             "fillmode": "overlay",
             "size": 10,
             "solidity": 0.2
            },
            "type": "scatter"
           }
          ],
          "scatter3d": [
           {
            "line": {
             "colorbar": {
              "outlinewidth": 0,
              "ticks": ""
             }
            },
            "marker": {
             "colorbar": {
              "outlinewidth": 0,
              "ticks": ""
             }
            },
            "type": "scatter3d"
           }
          ],
          "scattercarpet": [
           {
            "marker": {
             "colorbar": {
              "outlinewidth": 0,
              "ticks": ""
             }
            },
            "type": "scattercarpet"
           }
          ],
          "scattergeo": [
           {
            "marker": {
             "colorbar": {
              "outlinewidth": 0,
              "ticks": ""
             }
            },
            "type": "scattergeo"
           }
          ],
          "scattergl": [
           {
            "marker": {
             "colorbar": {
              "outlinewidth": 0,
              "ticks": ""
             }
            },
            "type": "scattergl"
           }
          ],
          "scattermapbox": [
           {
            "marker": {
             "colorbar": {
              "outlinewidth": 0,
              "ticks": ""
             }
            },
            "type": "scattermapbox"
           }
          ],
          "scatterpolar": [
           {
            "marker": {
             "colorbar": {
              "outlinewidth": 0,
              "ticks": ""
             }
            },
            "type": "scatterpolar"
           }
          ],
          "scatterpolargl": [
           {
            "marker": {
             "colorbar": {
              "outlinewidth": 0,
              "ticks": ""
             }
            },
            "type": "scatterpolargl"
           }
          ],
          "scatterternary": [
           {
            "marker": {
             "colorbar": {
              "outlinewidth": 0,
              "ticks": ""
             }
            },
            "type": "scatterternary"
           }
          ],
          "surface": [
           {
            "colorbar": {
             "outlinewidth": 0,
             "ticks": ""
            },
            "colorscale": [
             [
              0,
              "#0d0887"
             ],
             [
              0.1111111111111111,
              "#46039f"
             ],
             [
              0.2222222222222222,
              "#7201a8"
             ],
             [
              0.3333333333333333,
              "#9c179e"
             ],
             [
              0.4444444444444444,
              "#bd3786"
             ],
             [
              0.5555555555555556,
              "#d8576b"
             ],
             [
              0.6666666666666666,
              "#ed7953"
             ],
             [
              0.7777777777777778,
              "#fb9f3a"
             ],
             [
              0.8888888888888888,
              "#fdca26"
             ],
             [
              1,
              "#f0f921"
             ]
            ],
            "type": "surface"
           }
          ],
          "table": [
           {
            "cells": {
             "fill": {
              "color": "#EBF0F8"
             },
             "line": {
              "color": "white"
             }
            },
            "header": {
             "fill": {
              "color": "#C8D4E3"
             },
             "line": {
              "color": "white"
             }
            },
            "type": "table"
           }
          ]
         },
         "layout": {
          "annotationdefaults": {
           "arrowcolor": "#2a3f5f",
           "arrowhead": 0,
           "arrowwidth": 1
          },
          "autotypenumbers": "strict",
          "coloraxis": {
           "colorbar": {
            "outlinewidth": 0,
            "ticks": ""
           }
          },
          "colorscale": {
           "diverging": [
            [
             0,
             "#8e0152"
            ],
            [
             0.1,
             "#c51b7d"
            ],
            [
             0.2,
             "#de77ae"
            ],
            [
             0.3,
             "#f1b6da"
            ],
            [
             0.4,
             "#fde0ef"
            ],
            [
             0.5,
             "#f7f7f7"
            ],
            [
             0.6,
             "#e6f5d0"
            ],
            [
             0.7,
             "#b8e186"
            ],
            [
             0.8,
             "#7fbc41"
            ],
            [
             0.9,
             "#4d9221"
            ],
            [
             1,
             "#276419"
            ]
           ],
           "sequential": [
            [
             0,
             "#0d0887"
            ],
            [
             0.1111111111111111,
             "#46039f"
            ],
            [
             0.2222222222222222,
             "#7201a8"
            ],
            [
             0.3333333333333333,
             "#9c179e"
            ],
            [
             0.4444444444444444,
             "#bd3786"
            ],
            [
             0.5555555555555556,
             "#d8576b"
            ],
            [
             0.6666666666666666,
             "#ed7953"
            ],
            [
             0.7777777777777778,
             "#fb9f3a"
            ],
            [
             0.8888888888888888,
             "#fdca26"
            ],
            [
             1,
             "#f0f921"
            ]
           ],
           "sequentialminus": [
            [
             0,
             "#0d0887"
            ],
            [
             0.1111111111111111,
             "#46039f"
            ],
            [
             0.2222222222222222,
             "#7201a8"
            ],
            [
             0.3333333333333333,
             "#9c179e"
            ],
            [
             0.4444444444444444,
             "#bd3786"
            ],
            [
             0.5555555555555556,
             "#d8576b"
            ],
            [
             0.6666666666666666,
             "#ed7953"
            ],
            [
             0.7777777777777778,
             "#fb9f3a"
            ],
            [
             0.8888888888888888,
             "#fdca26"
            ],
            [
             1,
             "#f0f921"
            ]
           ]
          },
          "colorway": [
           "#636efa",
           "#EF553B",
           "#00cc96",
           "#ab63fa",
           "#FFA15A",
           "#19d3f3",
           "#FF6692",
           "#B6E880",
           "#FF97FF",
           "#FECB52"
          ],
          "font": {
           "color": "#2a3f5f"
          },
          "geo": {
           "bgcolor": "white",
           "lakecolor": "white",
           "landcolor": "#E5ECF6",
           "showlakes": true,
           "showland": true,
           "subunitcolor": "white"
          },
          "hoverlabel": {
           "align": "left"
          },
          "hovermode": "closest",
          "mapbox": {
           "style": "light"
          },
          "paper_bgcolor": "white",
          "plot_bgcolor": "#E5ECF6",
          "polar": {
           "angularaxis": {
            "gridcolor": "white",
            "linecolor": "white",
            "ticks": ""
           },
           "bgcolor": "#E5ECF6",
           "radialaxis": {
            "gridcolor": "white",
            "linecolor": "white",
            "ticks": ""
           }
          },
          "scene": {
           "xaxis": {
            "backgroundcolor": "#E5ECF6",
            "gridcolor": "white",
            "gridwidth": 2,
            "linecolor": "white",
            "showbackground": true,
            "ticks": "",
            "zerolinecolor": "white"
           },
           "yaxis": {
            "backgroundcolor": "#E5ECF6",
            "gridcolor": "white",
            "gridwidth": 2,
            "linecolor": "white",
            "showbackground": true,
            "ticks": "",
            "zerolinecolor": "white"
           },
           "zaxis": {
            "backgroundcolor": "#E5ECF6",
            "gridcolor": "white",
            "gridwidth": 2,
            "linecolor": "white",
            "showbackground": true,
            "ticks": "",
            "zerolinecolor": "white"
           }
          },
          "shapedefaults": {
           "line": {
            "color": "#2a3f5f"
           }
          },
          "ternary": {
           "aaxis": {
            "gridcolor": "white",
            "linecolor": "white",
            "ticks": ""
           },
           "baxis": {
            "gridcolor": "white",
            "linecolor": "white",
            "ticks": ""
           },
           "bgcolor": "#E5ECF6",
           "caxis": {
            "gridcolor": "white",
            "linecolor": "white",
            "ticks": ""
           }
          },
          "title": {
           "x": 0.05
          },
          "xaxis": {
           "automargin": true,
           "gridcolor": "white",
           "linecolor": "white",
           "ticks": "",
           "title": {
            "standoff": 15
           },
           "zerolinecolor": "white",
           "zerolinewidth": 2
          },
          "yaxis": {
           "automargin": true,
           "gridcolor": "white",
           "linecolor": "white",
           "ticks": "",
           "title": {
            "standoff": 15
           },
           "zerolinecolor": "white",
           "zerolinewidth": 2
          }
         }
        },
        "title": {
         "text": "Последние данные по провайдерам (DAILY_TOTAL)"
        },
        "xaxis": {
         "autorange": true,
         "range": [
          -0.5,
          47.5
         ],
         "tickangle": 45,
         "title": {
          "text": "ID провайдера"
         },
         "type": "category"
        },
        "yaxis": {
         "autorange": true,
         "range": [
          0,
          11554395.252631595
         ],
         "title": {
          "text": "DAILY_TOTAL"
         },
         "type": "linear"
        }
       }
      },
      "image/png": "[encoded data removed]",
      "text/html": [
       "<div>                            <div id=\"a4d7b5e8-dbcc-4bba-a9d8-7a49388b2626\" class=\"plotly-graph-div\" style=\"height:525px; width:100%;\"></div>            <script type=\"text/javascript\">                require([\"plotly\"], function(Plotly) {                    window.PLOTLYENV=window.PLOTLYENV || {};                                    if (document.getElementById(\"a4d7b5e8-dbcc-4bba-a9d8-7a49388b2626\")) {                    Plotly.newPlot(                        \"a4d7b5e8-dbcc-4bba-a9d8-7a49388b2626\",                        [{\"marker\":{\"color\":\"rgb(55, 83, 109)\"},\"x\":[0,1,2,3,4,5,6,7,8,9,10,11,12,13,14,15,16,17,18,19,20,21,22,23,24,25,26,27,28,29,30,31,32,33,34,35,36,37,38,39,40,41,42,43,44,45,46,47],\"y\":[7029963.600000001,6971573.2,4940993.389999998,8057528.321000029,7471524.320000023,10976675.490000015,22182.8,18526.8,22246.3,12480.8,843491.0550000002,748886.9739999999,1041718.5009999996,4684481.598999999,548503.8849999999,501959.495,514569.839,9811.776,8531.776,5375.776,0.0,10732.6,13488.700000000003,10935.3,0.0,0.0,0.0,0.0,0.0,2590.38,2590.38,2590.38,2590.38,2590.38,0.0,0.0,0.0,0.0,0.0,0.0,0.0,0.0,0.0,0.0,0.0,0.0,0.0,0.0],\"type\":\"bar\"}],                        {\"template\":{\"data\":{\"histogram2dcontour\":[{\"type\":\"histogram2dcontour\",\"colorbar\":{\"outlinewidth\":0,\"ticks\":\"\"},\"colorscale\":[[0.0,\"#0d0887\"],[0.1111111111111111,\"#46039f\"],[0.2222222222222222,\"#7201a8\"],[0.3333333333333333,\"#9c179e\"],[0.4444444444444444,\"#bd3786\"],[0.5555555555555556,\"#d8576b\"],[0.6666666666666666,\"#ed7953\"],[0.7777777777777778,\"#fb9f3a\"],[0.8888888888888888,\"#fdca26\"],[1.0,\"#f0f921\"]]}],\"choropleth\":[{\"type\":\"choropleth\",\"colorbar\":{\"outlinewidth\":0,\"ticks\":\"\"}}],\"histogram2d\":[{\"type\":\"histogram2d\",\"colorbar\":{\"outlinewidth\":0,\"ticks\":\"\"},\"colorscale\":[[0.0,\"#0d0887\"],[0.1111111111111111,\"#46039f\"],[0.2222222222222222,\"#7201a8\"],[0.3333333333333333,\"#9c179e\"],[0.4444444444444444,\"#bd3786\"],[0.5555555555555556,\"#d8576b\"],[0.6666666666666666,\"#ed7953\"],[0.7777777777777778,\"#fb9f3a\"],[0.8888888888888888,\"#fdca26\"],[1.0,\"#f0f921\"]]}],\"heatmap\":[{\"type\":\"heatmap\",\"colorbar\":{\"outlinewidth\":0,\"ticks\":\"\"},\"colorscale\":[[0.0,\"#0d0887\"],[0.1111111111111111,\"#46039f\"],[0.2222222222222222,\"#7201a8\"],[0.3333333333333333,\"#9c179e\"],[0.4444444444444444,\"#bd3786\"],[0.5555555555555556,\"#d8576b\"],[0.6666666666666666,\"#ed7953\"],[0.7777777777777778,\"#fb9f3a\"],[0.8888888888888888,\"#fdca26\"],[1.0,\"#f0f921\"]]}],\"heatmapgl\":[{\"type\":\"heatmapgl\",\"colorbar\":{\"outlinewidth\":0,\"ticks\":\"\"},\"colorscale\":[[0.0,\"#0d0887\"],[0.1111111111111111,\"#46039f\"],[0.2222222222222222,\"#7201a8\"],[0.3333333333333333,\"#9c179e\"],[0.4444444444444444,\"#bd3786\"],[0.5555555555555556,\"#d8576b\"],[0.6666666666666666,\"#ed7953\"],[0.7777777777777778,\"#fb9f3a\"],[0.8888888888888888,\"#fdca26\"],[1.0,\"#f0f921\"]]}],\"contourcarpet\":[{\"type\":\"contourcarpet\",\"colorbar\":{\"outlinewidth\":0,\"ticks\":\"\"}}],\"contour\":[{\"type\":\"contour\",\"colorbar\":{\"outlinewidth\":0,\"ticks\":\"\"},\"colorscale\":[[0.0,\"#0d0887\"],[0.1111111111111111,\"#46039f\"],[0.2222222222222222,\"#7201a8\"],[0.3333333333333333,\"#9c179e\"],[0.4444444444444444,\"#bd3786\"],[0.5555555555555556,\"#d8576b\"],[0.6666666666666666,\"#ed7953\"],[0.7777777777777778,\"#fb9f3a\"],[0.8888888888888888,\"#fdca26\"],[1.0,\"#f0f921\"]]}],\"surface\":[{\"type\":\"surface\",\"colorbar\":{\"outlinewidth\":0,\"ticks\":\"\"},\"colorscale\":[[0.0,\"#0d0887\"],[0.1111111111111111,\"#46039f\"],[0.2222222222222222,\"#7201a8\"],[0.3333333333333333,\"#9c179e\"],[0.4444444444444444,\"#bd3786\"],[0.5555555555555556,\"#d8576b\"],[0.6666666666666666,\"#ed7953\"],[0.7777777777777778,\"#fb9f3a\"],[0.8888888888888888,\"#fdca26\"],[1.0,\"#f0f921\"]]}],\"mesh3d\":[{\"type\":\"mesh3d\",\"colorbar\":{\"outlinewidth\":0,\"ticks\":\"\"}}],\"scatter\":[{\"fillpattern\":{\"fillmode\":\"overlay\",\"size\":10,\"solidity\":0.2},\"type\":\"scatter\"}],\"parcoords\":[{\"type\":\"parcoords\",\"line\":{\"colorbar\":{\"outlinewidth\":0,\"ticks\":\"\"}}}],\"scatterpolargl\":[{\"type\":\"scatterpolargl\",\"marker\":{\"colorbar\":{\"outlinewidth\":0,\"ticks\":\"\"}}}],\"bar\":[{\"error_x\":{\"color\":\"#2a3f5f\"},\"error_y\":{\"color\":\"#2a3f5f\"},\"marker\":{\"line\":{\"color\":\"#E5ECF6\",\"width\":0.5},\"pattern\":{\"fillmode\":\"overlay\",\"size\":10,\"solidity\":0.2}},\"type\":\"bar\"}],\"scattergeo\":[{\"type\":\"scattergeo\",\"marker\":{\"colorbar\":{\"outlinewidth\":0,\"ticks\":\"\"}}}],\"scatterpolar\":[{\"type\":\"scatterpolar\",\"marker\":{\"colorbar\":{\"outlinewidth\":0,\"ticks\":\"\"}}}],\"histogram\":[{\"marker\":{\"pattern\":{\"fillmode\":\"overlay\",\"size\":10,\"solidity\":0.2}},\"type\":\"histogram\"}],\"scattergl\":[{\"type\":\"scattergl\",\"marker\":{\"colorbar\":{\"outlinewidth\":0,\"ticks\":\"\"}}}],\"scatter3d\":[{\"type\":\"scatter3d\",\"line\":{\"colorbar\":{\"outlinewidth\":0,\"ticks\":\"\"}},\"marker\":{\"colorbar\":{\"outlinewidth\":0,\"ticks\":\"\"}}}],\"scattermapbox\":[{\"type\":\"scattermapbox\",\"marker\":{\"colorbar\":{\"outlinewidth\":0,\"ticks\":\"\"}}}],\"scatterternary\":[{\"type\":\"scatterternary\",\"marker\":{\"colorbar\":{\"outlinewidth\":0,\"ticks\":\"\"}}}],\"scattercarpet\":[{\"type\":\"scattercarpet\",\"marker\":{\"colorbar\":{\"outlinewidth\":0,\"ticks\":\"\"}}}],\"carpet\":[{\"aaxis\":{\"endlinecolor\":\"#2a3f5f\",\"gridcolor\":\"white\",\"linecolor\":\"white\",\"minorgridcolor\":\"white\",\"startlinecolor\":\"#2a3f5f\"},\"baxis\":{\"endlinecolor\":\"#2a3f5f\",\"gridcolor\":\"white\",\"linecolor\":\"white\",\"minorgridcolor\":\"white\",\"startlinecolor\":\"#2a3f5f\"},\"type\":\"carpet\"}],\"table\":[{\"cells\":{\"fill\":{\"color\":\"#EBF0F8\"},\"line\":{\"color\":\"white\"}},\"header\":{\"fill\":{\"color\":\"#C8D4E3\"},\"line\":{\"color\":\"white\"}},\"type\":\"table\"}],\"barpolar\":[{\"marker\":{\"line\":{\"color\":\"#E5ECF6\",\"width\":0.5},\"pattern\":{\"fillmode\":\"overlay\",\"size\":10,\"solidity\":0.2}},\"type\":\"barpolar\"}],\"pie\":[{\"automargin\":true,\"type\":\"pie\"}]},\"layout\":{\"autotypenumbers\":\"strict\",\"colorway\":[\"#636efa\",\"#EF553B\",\"#00cc96\",\"#ab63fa\",\"#FFA15A\",\"#19d3f3\",\"#FF6692\",\"#B6E880\",\"#FF97FF\",\"#FECB52\"],\"font\":{\"color\":\"#2a3f5f\"},\"hovermode\":\"closest\",\"hoverlabel\":{\"align\":\"left\"},\"paper_bgcolor\":\"white\",\"plot_bgcolor\":\"#E5ECF6\",\"polar\":{\"bgcolor\":\"#E5ECF6\",\"angularaxis\":{\"gridcolor\":\"white\",\"linecolor\":\"white\",\"ticks\":\"\"},\"radialaxis\":{\"gridcolor\":\"white\",\"linecolor\":\"white\",\"ticks\":\"\"}},\"ternary\":{\"bgcolor\":\"#E5ECF6\",\"aaxis\":{\"gridcolor\":\"white\",\"linecolor\":\"white\",\"ticks\":\"\"},\"baxis\":{\"gridcolor\":\"white\",\"linecolor\":\"white\",\"ticks\":\"\"},\"caxis\":{\"gridcolor\":\"white\",\"linecolor\":\"white\",\"ticks\":\"\"}},\"coloraxis\":{\"colorbar\":{\"outlinewidth\":0,\"ticks\":\"\"}},\"colorscale\":{\"sequential\":[[0.0,\"#0d0887\"],[0.1111111111111111,\"#46039f\"],[0.2222222222222222,\"#7201a8\"],[0.3333333333333333,\"#9c179e\"],[0.4444444444444444,\"#bd3786\"],[0.5555555555555556,\"#d8576b\"],[0.6666666666666666,\"#ed7953\"],[0.7777777777777778,\"#fb9f3a\"],[0.8888888888888888,\"#fdca26\"],[1.0,\"#f0f921\"]],\"sequentialminus\":[[0.0,\"#0d0887\"],[0.1111111111111111,\"#46039f\"],[0.2222222222222222,\"#7201a8\"],[0.3333333333333333,\"#9c179e\"],[0.4444444444444444,\"#bd3786\"],[0.5555555555555556,\"#d8576b\"],[0.6666666666666666,\"#ed7953\"],[0.7777777777777778,\"#fb9f3a\"],[0.8888888888888888,\"#fdca26\"],[1.0,\"#f0f921\"]],\"diverging\":[[0,\"#8e0152\"],[0.1,\"#c51b7d\"],[0.2,\"#de77ae\"],[0.3,\"#f1b6da\"],[0.4,\"#fde0ef\"],[0.5,\"#f7f7f7\"],[0.6,\"#e6f5d0\"],[0.7,\"#b8e186\"],[0.8,\"#7fbc41\"],[0.9,\"#4d9221\"],[1,\"#276419\"]]},\"xaxis\":{\"gridcolor\":\"white\",\"linecolor\":\"white\",\"ticks\":\"\",\"title\":{\"standoff\":15},\"zerolinecolor\":\"white\",\"automargin\":true,\"zerolinewidth\":2},\"yaxis\":{\"gridcolor\":\"white\",\"linecolor\":\"white\",\"ticks\":\"\",\"title\":{\"standoff\":15},\"zerolinecolor\":\"white\",\"automargin\":true,\"zerolinewidth\":2},\"scene\":{\"xaxis\":{\"backgroundcolor\":\"#E5ECF6\",\"gridcolor\":\"white\",\"linecolor\":\"white\",\"showbackground\":true,\"ticks\":\"\",\"zerolinecolor\":\"white\",\"gridwidth\":2},\"yaxis\":{\"backgroundcolor\":\"#E5ECF6\",\"gridcolor\":\"white\",\"linecolor\":\"white\",\"showbackground\":true,\"ticks\":\"\",\"zerolinecolor\":\"white\",\"gridwidth\":2},\"zaxis\":{\"backgroundcolor\":\"#E5ECF6\",\"gridcolor\":\"white\",\"linecolor\":\"white\",\"showbackground\":true,\"ticks\":\"\",\"zerolinecolor\":\"white\",\"gridwidth\":2}},\"shapedefaults\":{\"line\":{\"color\":\"#2a3f5f\"}},\"annotationdefaults\":{\"arrowcolor\":\"#2a3f5f\",\"arrowhead\":0,\"arrowwidth\":1},\"geo\":{\"bgcolor\":\"white\",\"landcolor\":\"#E5ECF6\",\"subunitcolor\":\"white\",\"showland\":true,\"showlakes\":true,\"lakecolor\":\"white\"},\"title\":{\"x\":0.05},\"mapbox\":{\"style\":\"light\"}}},\"xaxis\":{\"title\":{\"text\":\"ID \\u043f\\u0440\\u043e\\u0432\\u0430\\u0439\\u0434\\u0435\\u0440\\u0430\"},\"type\":\"category\",\"tickangle\":45},\"title\":{\"text\":\"\\u041f\\u043e\\u0441\\u043b\\u0435\\u0434\\u043d\\u0438\\u0435 \\u0434\\u0430\\u043d\\u043d\\u044b\\u0435 \\u043f\\u043e \\u043f\\u0440\\u043e\\u0432\\u0430\\u0439\\u0434\\u0435\\u0440\\u0430\\u043c (DAILY_TOTAL)\"},\"yaxis\":{\"title\":{\"text\":\"DAILY_TOTAL\"}},\"showlegend\":false},                        {\"responsive\": true}                    ).then(function(){\n",
       "                            \n",
       "var gd = document.getElementById('a4d7b5e8-dbcc-4bba-a9d8-7a49388b2626');\n",
       "var x = new MutationObserver(function (mutations, observer) {{\n",
       "        var display = window.getComputedStyle(gd).display;\n",
       "        if (!display || display === 'none') {{\n",
       "            console.log([gd, 'removed!']);\n",
       "            Plotly.purge(gd);\n",
       "            observer.disconnect();\n",
       "        }}\n",
       "}});\n",
       "\n",
       "// Listen for the removal of the full notebook cells\n",
       "var notebookContainer = gd.closest('#notebook-container');\n",
       "if (notebookContainer) {{\n",
       "    x.observe(notebookContainer, {childList: true});\n",
       "}}\n",
       "\n",
       "// Listen for the clearing of the current output cell\n",
       "var outputEl = gd.closest('.output');\n",
       "if (outputEl) {{\n",
       "    x.observe(outputEl, {childList: true});\n",
       "}}\n",
       "\n",
       "                        })                };                });            </script>        </div>"
      ]
     },
     "metadata": {},
     "output_type": "display_data"
    }
   ],
   "source": [
    "# Преобразуем столбец TIME в datetime, если это еще не сделано\n",
    "df['TIME'] = pd.to_datetime(df['TIME'])\n",
    "\n",
    "# Для каждого ID выбираем последнюю запись по времени\n",
    "latest_records_df = df.loc[df.groupby('ID')['TIME'].idxmax()]\n",
    "\n",
    "# Создаем график\n",
    "fig = go.Figure()\n",
    "\n",
    "# Добавляем столбцы (бар) на график\n",
    "fig.add_trace(go.Bar(\n",
    "    x=latest_records_df['ID'],  # ID провайдеров по оси X\n",
    "    y=latest_records_df['DAILY_TOTAL'],  # Значения DAILY_TOTAL по оси Y\n",
    "    marker=dict(color='rgb(55, 83, 109)'),\n",
    "))\n",
    "\n",
    "# Настройка графика\n",
    "fig.update_layout(\n",
    "    title=\"Последние данные по провайдерам (DAILY_TOTAL)\",\n",
    "    xaxis=dict(\n",
    "        title='ID провайдера',\n",
    "        type='category',  # Показываем ID как категории\n",
    "        tickangle=45  # Угол наклона меток на оси X\n",
    "    ),\n",
    "    yaxis=dict(\n",
    "        title='DAILY_TOTAL',\n",
    "    ),\n",
    "    showlegend=False\n",
    ")\n",
    "\n",
    "# Отображаем график\n",
    "fig.show()"
   ]
  },
  {
   "cell_type": "code",
   "execution_count": null,
   "id": "78997564-c01f-4f02-b793-1e3f27e1b0c6",
   "metadata": {},
   "outputs": [],
   "source": []
  }
 ],
 "metadata": {
  "kernelspec": {
   "display_name": "Python 3 (ipykernel)",
   "language": "python",
   "name": "python3"
  },
  "language_info": {
   "codemirror_mode": {
    "name": "ipython",
    "version": 3
   },
   "file_extension": ".py",
   "mimetype": "text/x-python",
   "name": "python",
   "nbconvert_exporter": "python",
   "pygments_lexer": "ipython3",
   "version": "3.8.19"
  }
 },
 "nbformat": 4,
 "nbformat_minor": 5
}
